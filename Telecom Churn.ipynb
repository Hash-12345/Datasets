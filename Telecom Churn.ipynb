{
 "cells": [
  {
   "cell_type": "markdown",
   "metadata": {},
   "source": [
    "## Importing Libraries"
   ]
  },
  {
   "cell_type": "code",
   "execution_count": 1,
   "metadata": {},
   "outputs": [],
   "source": [
    "import pandas as pd\n",
    "import numpy as np\n",
    "import matplotlib.pyplot as plt\n",
    "import seaborn as sns\n",
    "import mlxtend\n",
    "import pickle"
   ]
  },
  {
   "cell_type": "code",
   "execution_count": 2,
   "metadata": {},
   "outputs": [],
   "source": [
    "pd.set_option('display.max_columns',None)"
   ]
  },
  {
   "cell_type": "markdown",
   "metadata": {},
   "source": [
    "## Data ingestion"
   ]
  },
  {
   "cell_type": "code",
   "execution_count": 3,
   "metadata": {
    "scrolled": true
   },
   "outputs": [
    {
     "data": {
      "text/html": [
       "<div>\n",
       "<style scoped>\n",
       "    .dataframe tbody tr th:only-of-type {\n",
       "        vertical-align: middle;\n",
       "    }\n",
       "\n",
       "    .dataframe tbody tr th {\n",
       "        vertical-align: top;\n",
       "    }\n",
       "\n",
       "    .dataframe thead th {\n",
       "        text-align: right;\n",
       "    }\n",
       "</style>\n",
       "<table border=\"1\" class=\"dataframe\">\n",
       "  <thead>\n",
       "    <tr style=\"text-align: right;\">\n",
       "      <th></th>\n",
       "      <th>CustomerID</th>\n",
       "      <th>Churn</th>\n",
       "      <th>MonthlyRevenue</th>\n",
       "      <th>MonthlyMinutes</th>\n",
       "      <th>TotalRecurringCharge</th>\n",
       "      <th>DirectorAssistedCalls</th>\n",
       "      <th>OverageMinutes</th>\n",
       "      <th>RoamingCalls</th>\n",
       "      <th>PercChangeMinutes</th>\n",
       "      <th>PercChangeRevenues</th>\n",
       "      <th>DroppedCalls</th>\n",
       "      <th>BlockedCalls</th>\n",
       "      <th>UnansweredCalls</th>\n",
       "      <th>CustomerCareCalls</th>\n",
       "      <th>ThreewayCalls</th>\n",
       "      <th>ReceivedCalls</th>\n",
       "      <th>OutboundCalls</th>\n",
       "      <th>InboundCalls</th>\n",
       "      <th>PeakCallsInOut</th>\n",
       "      <th>OffPeakCallsInOut</th>\n",
       "      <th>DroppedBlockedCalls</th>\n",
       "      <th>CallForwardingCalls</th>\n",
       "      <th>CallWaitingCalls</th>\n",
       "      <th>MonthsInService</th>\n",
       "      <th>UniqueSubs</th>\n",
       "      <th>ActiveSubs</th>\n",
       "      <th>ServiceArea</th>\n",
       "      <th>Handsets</th>\n",
       "      <th>HandsetModels</th>\n",
       "      <th>CurrentEquipmentDays</th>\n",
       "      <th>AgeHH1</th>\n",
       "      <th>AgeHH2</th>\n",
       "      <th>ChildrenInHH</th>\n",
       "      <th>HandsetRefurbished</th>\n",
       "      <th>HandsetWebCapable</th>\n",
       "      <th>TruckOwner</th>\n",
       "      <th>RVOwner</th>\n",
       "      <th>Homeownership</th>\n",
       "      <th>BuysViaMailOrder</th>\n",
       "      <th>RespondsToMailOffers</th>\n",
       "      <th>OptOutMailings</th>\n",
       "      <th>NonUSTravel</th>\n",
       "      <th>OwnsComputer</th>\n",
       "      <th>HasCreditCard</th>\n",
       "      <th>RetentionCalls</th>\n",
       "      <th>RetentionOffersAccepted</th>\n",
       "      <th>NewCellphoneUser</th>\n",
       "      <th>NotNewCellphoneUser</th>\n",
       "      <th>ReferralsMadeBySubscriber</th>\n",
       "      <th>IncomeGroup</th>\n",
       "      <th>OwnsMotorcycle</th>\n",
       "      <th>AdjustmentsToCreditRating</th>\n",
       "      <th>HandsetPrice</th>\n",
       "      <th>MadeCallToRetentionTeam</th>\n",
       "      <th>CreditRating</th>\n",
       "      <th>PrizmCode</th>\n",
       "      <th>Occupation</th>\n",
       "      <th>MaritalStatus</th>\n",
       "    </tr>\n",
       "  </thead>\n",
       "  <tbody>\n",
       "    <tr>\n",
       "      <th>0</th>\n",
       "      <td>3000002</td>\n",
       "      <td>Yes</td>\n",
       "      <td>24.00</td>\n",
       "      <td>219.0</td>\n",
       "      <td>22.0</td>\n",
       "      <td>0.25</td>\n",
       "      <td>0.0</td>\n",
       "      <td>0.0</td>\n",
       "      <td>-157.0</td>\n",
       "      <td>-19.0</td>\n",
       "      <td>0.7</td>\n",
       "      <td>0.7</td>\n",
       "      <td>6.3</td>\n",
       "      <td>0.0</td>\n",
       "      <td>0.0</td>\n",
       "      <td>97.2</td>\n",
       "      <td>0.0</td>\n",
       "      <td>0.0</td>\n",
       "      <td>58.0</td>\n",
       "      <td>24.0</td>\n",
       "      <td>1.3</td>\n",
       "      <td>0.0</td>\n",
       "      <td>0.3</td>\n",
       "      <td>61</td>\n",
       "      <td>2</td>\n",
       "      <td>1</td>\n",
       "      <td>SEAPOR503</td>\n",
       "      <td>2.0</td>\n",
       "      <td>2.0</td>\n",
       "      <td>361.0</td>\n",
       "      <td>62.0</td>\n",
       "      <td>0.0</td>\n",
       "      <td>No</td>\n",
       "      <td>No</td>\n",
       "      <td>Yes</td>\n",
       "      <td>No</td>\n",
       "      <td>No</td>\n",
       "      <td>Known</td>\n",
       "      <td>Yes</td>\n",
       "      <td>Yes</td>\n",
       "      <td>No</td>\n",
       "      <td>No</td>\n",
       "      <td>Yes</td>\n",
       "      <td>Yes</td>\n",
       "      <td>1</td>\n",
       "      <td>0</td>\n",
       "      <td>No</td>\n",
       "      <td>No</td>\n",
       "      <td>0</td>\n",
       "      <td>4</td>\n",
       "      <td>No</td>\n",
       "      <td>0</td>\n",
       "      <td>30</td>\n",
       "      <td>Yes</td>\n",
       "      <td>1-Highest</td>\n",
       "      <td>Suburban</td>\n",
       "      <td>Professional</td>\n",
       "      <td>No</td>\n",
       "    </tr>\n",
       "    <tr>\n",
       "      <th>1</th>\n",
       "      <td>3000010</td>\n",
       "      <td>Yes</td>\n",
       "      <td>16.99</td>\n",
       "      <td>10.0</td>\n",
       "      <td>17.0</td>\n",
       "      <td>0.00</td>\n",
       "      <td>0.0</td>\n",
       "      <td>0.0</td>\n",
       "      <td>-4.0</td>\n",
       "      <td>0.0</td>\n",
       "      <td>0.3</td>\n",
       "      <td>0.0</td>\n",
       "      <td>2.7</td>\n",
       "      <td>0.0</td>\n",
       "      <td>0.0</td>\n",
       "      <td>0.0</td>\n",
       "      <td>0.0</td>\n",
       "      <td>0.0</td>\n",
       "      <td>5.0</td>\n",
       "      <td>1.0</td>\n",
       "      <td>0.3</td>\n",
       "      <td>0.0</td>\n",
       "      <td>0.0</td>\n",
       "      <td>58</td>\n",
       "      <td>1</td>\n",
       "      <td>1</td>\n",
       "      <td>PITHOM412</td>\n",
       "      <td>2.0</td>\n",
       "      <td>1.0</td>\n",
       "      <td>1504.0</td>\n",
       "      <td>40.0</td>\n",
       "      <td>42.0</td>\n",
       "      <td>Yes</td>\n",
       "      <td>No</td>\n",
       "      <td>No</td>\n",
       "      <td>No</td>\n",
       "      <td>No</td>\n",
       "      <td>Known</td>\n",
       "      <td>Yes</td>\n",
       "      <td>Yes</td>\n",
       "      <td>No</td>\n",
       "      <td>No</td>\n",
       "      <td>Yes</td>\n",
       "      <td>Yes</td>\n",
       "      <td>0</td>\n",
       "      <td>0</td>\n",
       "      <td>Yes</td>\n",
       "      <td>No</td>\n",
       "      <td>0</td>\n",
       "      <td>5</td>\n",
       "      <td>No</td>\n",
       "      <td>0</td>\n",
       "      <td>30</td>\n",
       "      <td>No</td>\n",
       "      <td>4-Medium</td>\n",
       "      <td>Suburban</td>\n",
       "      <td>Professional</td>\n",
       "      <td>Yes</td>\n",
       "    </tr>\n",
       "    <tr>\n",
       "      <th>2</th>\n",
       "      <td>3000014</td>\n",
       "      <td>No</td>\n",
       "      <td>38.00</td>\n",
       "      <td>8.0</td>\n",
       "      <td>38.0</td>\n",
       "      <td>0.00</td>\n",
       "      <td>0.0</td>\n",
       "      <td>0.0</td>\n",
       "      <td>-2.0</td>\n",
       "      <td>0.0</td>\n",
       "      <td>0.0</td>\n",
       "      <td>0.0</td>\n",
       "      <td>0.0</td>\n",
       "      <td>0.0</td>\n",
       "      <td>0.0</td>\n",
       "      <td>0.4</td>\n",
       "      <td>0.3</td>\n",
       "      <td>0.0</td>\n",
       "      <td>1.3</td>\n",
       "      <td>3.7</td>\n",
       "      <td>0.0</td>\n",
       "      <td>0.0</td>\n",
       "      <td>0.0</td>\n",
       "      <td>60</td>\n",
       "      <td>1</td>\n",
       "      <td>1</td>\n",
       "      <td>MILMIL414</td>\n",
       "      <td>1.0</td>\n",
       "      <td>1.0</td>\n",
       "      <td>1812.0</td>\n",
       "      <td>26.0</td>\n",
       "      <td>26.0</td>\n",
       "      <td>Yes</td>\n",
       "      <td>No</td>\n",
       "      <td>No</td>\n",
       "      <td>No</td>\n",
       "      <td>No</td>\n",
       "      <td>Unknown</td>\n",
       "      <td>No</td>\n",
       "      <td>No</td>\n",
       "      <td>No</td>\n",
       "      <td>No</td>\n",
       "      <td>No</td>\n",
       "      <td>Yes</td>\n",
       "      <td>0</td>\n",
       "      <td>0</td>\n",
       "      <td>Yes</td>\n",
       "      <td>No</td>\n",
       "      <td>0</td>\n",
       "      <td>6</td>\n",
       "      <td>No</td>\n",
       "      <td>0</td>\n",
       "      <td>Unknown</td>\n",
       "      <td>No</td>\n",
       "      <td>3-Good</td>\n",
       "      <td>Town</td>\n",
       "      <td>Crafts</td>\n",
       "      <td>Yes</td>\n",
       "    </tr>\n",
       "    <tr>\n",
       "      <th>3</th>\n",
       "      <td>3000022</td>\n",
       "      <td>No</td>\n",
       "      <td>82.28</td>\n",
       "      <td>1312.0</td>\n",
       "      <td>75.0</td>\n",
       "      <td>1.24</td>\n",
       "      <td>0.0</td>\n",
       "      <td>0.0</td>\n",
       "      <td>157.0</td>\n",
       "      <td>8.1</td>\n",
       "      <td>52.0</td>\n",
       "      <td>7.7</td>\n",
       "      <td>76.0</td>\n",
       "      <td>4.3</td>\n",
       "      <td>1.3</td>\n",
       "      <td>200.3</td>\n",
       "      <td>370.3</td>\n",
       "      <td>147.0</td>\n",
       "      <td>555.7</td>\n",
       "      <td>303.7</td>\n",
       "      <td>59.7</td>\n",
       "      <td>0.0</td>\n",
       "      <td>22.7</td>\n",
       "      <td>59</td>\n",
       "      <td>2</td>\n",
       "      <td>2</td>\n",
       "      <td>PITHOM412</td>\n",
       "      <td>9.0</td>\n",
       "      <td>4.0</td>\n",
       "      <td>458.0</td>\n",
       "      <td>30.0</td>\n",
       "      <td>0.0</td>\n",
       "      <td>No</td>\n",
       "      <td>No</td>\n",
       "      <td>Yes</td>\n",
       "      <td>No</td>\n",
       "      <td>No</td>\n",
       "      <td>Known</td>\n",
       "      <td>Yes</td>\n",
       "      <td>Yes</td>\n",
       "      <td>No</td>\n",
       "      <td>No</td>\n",
       "      <td>No</td>\n",
       "      <td>Yes</td>\n",
       "      <td>0</td>\n",
       "      <td>0</td>\n",
       "      <td>Yes</td>\n",
       "      <td>No</td>\n",
       "      <td>0</td>\n",
       "      <td>6</td>\n",
       "      <td>No</td>\n",
       "      <td>0</td>\n",
       "      <td>10</td>\n",
       "      <td>No</td>\n",
       "      <td>4-Medium</td>\n",
       "      <td>Other</td>\n",
       "      <td>Other</td>\n",
       "      <td>No</td>\n",
       "    </tr>\n",
       "    <tr>\n",
       "      <th>4</th>\n",
       "      <td>3000026</td>\n",
       "      <td>Yes</td>\n",
       "      <td>17.14</td>\n",
       "      <td>0.0</td>\n",
       "      <td>17.0</td>\n",
       "      <td>0.00</td>\n",
       "      <td>0.0</td>\n",
       "      <td>0.0</td>\n",
       "      <td>0.0</td>\n",
       "      <td>-0.2</td>\n",
       "      <td>0.0</td>\n",
       "      <td>0.0</td>\n",
       "      <td>0.0</td>\n",
       "      <td>0.0</td>\n",
       "      <td>0.0</td>\n",
       "      <td>0.0</td>\n",
       "      <td>0.0</td>\n",
       "      <td>0.0</td>\n",
       "      <td>0.0</td>\n",
       "      <td>0.0</td>\n",
       "      <td>0.0</td>\n",
       "      <td>0.0</td>\n",
       "      <td>0.0</td>\n",
       "      <td>53</td>\n",
       "      <td>2</td>\n",
       "      <td>2</td>\n",
       "      <td>OKCTUL918</td>\n",
       "      <td>4.0</td>\n",
       "      <td>3.0</td>\n",
       "      <td>852.0</td>\n",
       "      <td>46.0</td>\n",
       "      <td>54.0</td>\n",
       "      <td>No</td>\n",
       "      <td>No</td>\n",
       "      <td>No</td>\n",
       "      <td>No</td>\n",
       "      <td>No</td>\n",
       "      <td>Known</td>\n",
       "      <td>Yes</td>\n",
       "      <td>Yes</td>\n",
       "      <td>No</td>\n",
       "      <td>No</td>\n",
       "      <td>Yes</td>\n",
       "      <td>Yes</td>\n",
       "      <td>0</td>\n",
       "      <td>0</td>\n",
       "      <td>No</td>\n",
       "      <td>Yes</td>\n",
       "      <td>0</td>\n",
       "      <td>9</td>\n",
       "      <td>No</td>\n",
       "      <td>1</td>\n",
       "      <td>10</td>\n",
       "      <td>No</td>\n",
       "      <td>1-Highest</td>\n",
       "      <td>Other</td>\n",
       "      <td>Professional</td>\n",
       "      <td>Yes</td>\n",
       "    </tr>\n",
       "  </tbody>\n",
       "</table>\n",
       "</div>"
      ],
      "text/plain": [
       "   CustomerID Churn  MonthlyRevenue  MonthlyMinutes  TotalRecurringCharge  \\\n",
       "0     3000002   Yes           24.00           219.0                  22.0   \n",
       "1     3000010   Yes           16.99            10.0                  17.0   \n",
       "2     3000014    No           38.00             8.0                  38.0   \n",
       "3     3000022    No           82.28          1312.0                  75.0   \n",
       "4     3000026   Yes           17.14             0.0                  17.0   \n",
       "\n",
       "   DirectorAssistedCalls  OverageMinutes  RoamingCalls  PercChangeMinutes  \\\n",
       "0                   0.25             0.0           0.0             -157.0   \n",
       "1                   0.00             0.0           0.0               -4.0   \n",
       "2                   0.00             0.0           0.0               -2.0   \n",
       "3                   1.24             0.0           0.0              157.0   \n",
       "4                   0.00             0.0           0.0                0.0   \n",
       "\n",
       "   PercChangeRevenues  DroppedCalls  BlockedCalls  UnansweredCalls  \\\n",
       "0               -19.0           0.7           0.7              6.3   \n",
       "1                 0.0           0.3           0.0              2.7   \n",
       "2                 0.0           0.0           0.0              0.0   \n",
       "3                 8.1          52.0           7.7             76.0   \n",
       "4                -0.2           0.0           0.0              0.0   \n",
       "\n",
       "   CustomerCareCalls  ThreewayCalls  ReceivedCalls  OutboundCalls  \\\n",
       "0                0.0            0.0           97.2            0.0   \n",
       "1                0.0            0.0            0.0            0.0   \n",
       "2                0.0            0.0            0.4            0.3   \n",
       "3                4.3            1.3          200.3          370.3   \n",
       "4                0.0            0.0            0.0            0.0   \n",
       "\n",
       "   InboundCalls  PeakCallsInOut  OffPeakCallsInOut  DroppedBlockedCalls  \\\n",
       "0           0.0            58.0               24.0                  1.3   \n",
       "1           0.0             5.0                1.0                  0.3   \n",
       "2           0.0             1.3                3.7                  0.0   \n",
       "3         147.0           555.7              303.7                 59.7   \n",
       "4           0.0             0.0                0.0                  0.0   \n",
       "\n",
       "   CallForwardingCalls  CallWaitingCalls  MonthsInService  UniqueSubs  \\\n",
       "0                  0.0               0.3               61           2   \n",
       "1                  0.0               0.0               58           1   \n",
       "2                  0.0               0.0               60           1   \n",
       "3                  0.0              22.7               59           2   \n",
       "4                  0.0               0.0               53           2   \n",
       "\n",
       "   ActiveSubs ServiceArea  Handsets  HandsetModels  CurrentEquipmentDays  \\\n",
       "0           1   SEAPOR503       2.0            2.0                 361.0   \n",
       "1           1   PITHOM412       2.0            1.0                1504.0   \n",
       "2           1   MILMIL414       1.0            1.0                1812.0   \n",
       "3           2   PITHOM412       9.0            4.0                 458.0   \n",
       "4           2   OKCTUL918       4.0            3.0                 852.0   \n",
       "\n",
       "   AgeHH1  AgeHH2 ChildrenInHH HandsetRefurbished HandsetWebCapable  \\\n",
       "0    62.0     0.0           No                 No               Yes   \n",
       "1    40.0    42.0          Yes                 No                No   \n",
       "2    26.0    26.0          Yes                 No                No   \n",
       "3    30.0     0.0           No                 No               Yes   \n",
       "4    46.0    54.0           No                 No                No   \n",
       "\n",
       "  TruckOwner RVOwner Homeownership BuysViaMailOrder RespondsToMailOffers  \\\n",
       "0         No      No         Known              Yes                  Yes   \n",
       "1         No      No         Known              Yes                  Yes   \n",
       "2         No      No       Unknown               No                   No   \n",
       "3         No      No         Known              Yes                  Yes   \n",
       "4         No      No         Known              Yes                  Yes   \n",
       "\n",
       "  OptOutMailings NonUSTravel OwnsComputer HasCreditCard  RetentionCalls  \\\n",
       "0             No          No          Yes           Yes               1   \n",
       "1             No          No          Yes           Yes               0   \n",
       "2             No          No           No           Yes               0   \n",
       "3             No          No           No           Yes               0   \n",
       "4             No          No          Yes           Yes               0   \n",
       "\n",
       "   RetentionOffersAccepted NewCellphoneUser NotNewCellphoneUser  \\\n",
       "0                        0               No                  No   \n",
       "1                        0              Yes                  No   \n",
       "2                        0              Yes                  No   \n",
       "3                        0              Yes                  No   \n",
       "4                        0               No                 Yes   \n",
       "\n",
       "   ReferralsMadeBySubscriber  IncomeGroup OwnsMotorcycle  \\\n",
       "0                          0            4             No   \n",
       "1                          0            5             No   \n",
       "2                          0            6             No   \n",
       "3                          0            6             No   \n",
       "4                          0            9             No   \n",
       "\n",
       "   AdjustmentsToCreditRating HandsetPrice MadeCallToRetentionTeam  \\\n",
       "0                          0           30                     Yes   \n",
       "1                          0           30                      No   \n",
       "2                          0      Unknown                      No   \n",
       "3                          0           10                      No   \n",
       "4                          1           10                      No   \n",
       "\n",
       "  CreditRating PrizmCode    Occupation MaritalStatus  \n",
       "0    1-Highest  Suburban  Professional            No  \n",
       "1     4-Medium  Suburban  Professional           Yes  \n",
       "2       3-Good      Town        Crafts           Yes  \n",
       "3     4-Medium     Other         Other            No  \n",
       "4    1-Highest     Other  Professional           Yes  "
      ]
     },
     "execution_count": 3,
     "metadata": {},
     "output_type": "execute_result"
    }
   ],
   "source": [
    "churn=pd.read_csv('cell2celltrain.csv')\n",
    "churn.head()"
   ]
  },
  {
   "cell_type": "code",
   "execution_count": 4,
   "metadata": {},
   "outputs": [
    {
     "data": {
      "text/plain": [
       "(51047, 58)"
      ]
     },
     "execution_count": 4,
     "metadata": {},
     "output_type": "execute_result"
    }
   ],
   "source": [
    "churn.shape"
   ]
  },
  {
   "cell_type": "code",
   "execution_count": 5,
   "metadata": {},
   "outputs": [
    {
     "data": {
      "text/plain": [
       "No     36336\n",
       "Yes    14711\n",
       "Name: Churn, dtype: int64"
      ]
     },
     "execution_count": 5,
     "metadata": {},
     "output_type": "execute_result"
    }
   ],
   "source": [
    "churn['Churn'].value_counts()"
   ]
  },
  {
   "cell_type": "code",
   "execution_count": 6,
   "metadata": {},
   "outputs": [
    {
     "name": "stdout",
     "output_type": "stream",
     "text": [
      "<class 'pandas.core.frame.DataFrame'>\n",
      "RangeIndex: 51047 entries, 0 to 51046\n",
      "Data columns (total 58 columns):\n",
      "CustomerID                   51047 non-null int64\n",
      "Churn                        51047 non-null object\n",
      "MonthlyRevenue               50891 non-null float64\n",
      "MonthlyMinutes               50891 non-null float64\n",
      "TotalRecurringCharge         50891 non-null float64\n",
      "DirectorAssistedCalls        50891 non-null float64\n",
      "OverageMinutes               50891 non-null float64\n",
      "RoamingCalls                 50891 non-null float64\n",
      "PercChangeMinutes            50680 non-null float64\n",
      "PercChangeRevenues           50680 non-null float64\n",
      "DroppedCalls                 51047 non-null float64\n",
      "BlockedCalls                 51047 non-null float64\n",
      "UnansweredCalls              51047 non-null float64\n",
      "CustomerCareCalls            51047 non-null float64\n",
      "ThreewayCalls                51047 non-null float64\n",
      "ReceivedCalls                51047 non-null float64\n",
      "OutboundCalls                51047 non-null float64\n",
      "InboundCalls                 51047 non-null float64\n",
      "PeakCallsInOut               51047 non-null float64\n",
      "OffPeakCallsInOut            51047 non-null float64\n",
      "DroppedBlockedCalls          51047 non-null float64\n",
      "CallForwardingCalls          51047 non-null float64\n",
      "CallWaitingCalls             51047 non-null float64\n",
      "MonthsInService              51047 non-null int64\n",
      "UniqueSubs                   51047 non-null int64\n",
      "ActiveSubs                   51047 non-null int64\n",
      "ServiceArea                  51023 non-null object\n",
      "Handsets                     51046 non-null float64\n",
      "HandsetModels                51046 non-null float64\n",
      "CurrentEquipmentDays         51046 non-null float64\n",
      "AgeHH1                       50138 non-null float64\n",
      "AgeHH2                       50138 non-null float64\n",
      "ChildrenInHH                 51047 non-null object\n",
      "HandsetRefurbished           51047 non-null object\n",
      "HandsetWebCapable            51047 non-null object\n",
      "TruckOwner                   51047 non-null object\n",
      "RVOwner                      51047 non-null object\n",
      "Homeownership                51047 non-null object\n",
      "BuysViaMailOrder             51047 non-null object\n",
      "RespondsToMailOffers         51047 non-null object\n",
      "OptOutMailings               51047 non-null object\n",
      "NonUSTravel                  51047 non-null object\n",
      "OwnsComputer                 51047 non-null object\n",
      "HasCreditCard                51047 non-null object\n",
      "RetentionCalls               51047 non-null int64\n",
      "RetentionOffersAccepted      51047 non-null int64\n",
      "NewCellphoneUser             51047 non-null object\n",
      "NotNewCellphoneUser          51047 non-null object\n",
      "ReferralsMadeBySubscriber    51047 non-null int64\n",
      "IncomeGroup                  51047 non-null int64\n",
      "OwnsMotorcycle               51047 non-null object\n",
      "AdjustmentsToCreditRating    51047 non-null int64\n",
      "HandsetPrice                 51047 non-null object\n",
      "MadeCallToRetentionTeam      51047 non-null object\n",
      "CreditRating                 51047 non-null object\n",
      "PrizmCode                    51047 non-null object\n",
      "Occupation                   51047 non-null object\n",
      "MaritalStatus                51047 non-null object\n",
      "dtypes: float64(26), int64(9), object(23)\n",
      "memory usage: 22.6+ MB\n"
     ]
    }
   ],
   "source": [
    "churn.info()"
   ]
  },
  {
   "cell_type": "code",
   "execution_count": 7,
   "metadata": {},
   "outputs": [
    {
     "data": {
      "text/plain": [
       "No     0.711815\n",
       "Yes    0.288185\n",
       "Name: Churn, dtype: float64"
      ]
     },
     "execution_count": 7,
     "metadata": {},
     "output_type": "execute_result"
    }
   ],
   "source": [
    "# Check whether data is balanced or not\n",
    "churn['Churn'].value_counts()/churn.shape[0]"
   ]
  },
  {
   "cell_type": "markdown",
   "metadata": {},
   "source": [
    "#### Hence 28.81% is churned customers "
   ]
  },
  {
   "cell_type": "code",
   "execution_count": 8,
   "metadata": {},
   "outputs": [
    {
     "data": {
      "text/plain": [
       "3515"
      ]
     },
     "execution_count": 8,
     "metadata": {},
     "output_type": "execute_result"
    }
   ],
   "source": [
    "churn.isna().sum().values.sum()"
   ]
  },
  {
   "cell_type": "code",
   "execution_count": 9,
   "metadata": {},
   "outputs": [
    {
     "name": "stdout",
     "output_type": "stream",
     "text": [
      "MonthlyRevenue 156\n",
      "MonthlyMinutes 156\n",
      "TotalRecurringCharge 156\n",
      "DirectorAssistedCalls 156\n",
      "OverageMinutes 156\n",
      "RoamingCalls 156\n",
      "PercChangeMinutes 367\n",
      "PercChangeRevenues 367\n",
      "ServiceArea 24\n",
      "Handsets 1\n",
      "HandsetModels 1\n",
      "CurrentEquipmentDays 1\n",
      "AgeHH1 909\n",
      "AgeHH2 909\n"
     ]
    },
    {
     "data": {
      "text/plain": [
       "['MonthlyRevenue',\n",
       " 'MonthlyMinutes',\n",
       " 'TotalRecurringCharge',\n",
       " 'DirectorAssistedCalls',\n",
       " 'OverageMinutes',\n",
       " 'RoamingCalls',\n",
       " 'PercChangeMinutes',\n",
       " 'PercChangeRevenues',\n",
       " 'ServiceArea',\n",
       " 'Handsets',\n",
       " 'HandsetModels',\n",
       " 'CurrentEquipmentDays',\n",
       " 'AgeHH1',\n",
       " 'AgeHH2']"
      ]
     },
     "execution_count": 9,
     "metadata": {},
     "output_type": "execute_result"
    }
   ],
   "source": [
    "#missing value \n",
    "missing=list()\n",
    "for x in churn.columns:\n",
    "    if churn[x].isnull().sum() != 0:\n",
    "        print(x, churn[x].isnull().sum())\n",
    "        missing.append(x)\n",
    "missing"
   ]
  },
  {
   "cell_type": "markdown",
   "metadata": {},
   "source": [
    "## Missing value Treatment"
   ]
  },
  {
   "cell_type": "code",
   "execution_count": 10,
   "metadata": {},
   "outputs": [
    {
     "data": {
      "text/plain": [
       "(24512, 58)"
      ]
     },
     "execution_count": 10,
     "metadata": {},
     "output_type": "execute_result"
    }
   ],
   "source": [
    "churn[churn['DirectorAssistedCalls']==0].shape"
   ]
  },
  {
   "cell_type": "code",
   "execution_count": 11,
   "metadata": {},
   "outputs": [
    {
     "data": {
      "text/plain": [
       "count    50891.000000\n",
       "mean         0.895229\n",
       "std          2.228546\n",
       "min          0.000000\n",
       "25%          0.000000\n",
       "50%          0.250000\n",
       "75%          0.990000\n",
       "max        159.390000\n",
       "Name: DirectorAssistedCalls, dtype: float64"
      ]
     },
     "execution_count": 11,
     "metadata": {},
     "output_type": "execute_result"
    }
   ],
   "source": [
    "churn['DirectorAssistedCalls'].describe()"
   ]
  },
  {
   "cell_type": "code",
   "execution_count": 12,
   "metadata": {},
   "outputs": [
    {
     "data": {
      "text/plain": [
       "No     17216\n",
       "Yes     7296\n",
       "Name: Churn, dtype: int64"
      ]
     },
     "execution_count": 12,
     "metadata": {},
     "output_type": "execute_result"
    }
   ],
   "source": [
    "churn.Churn[churn.DirectorAssistedCalls == 0].value_counts()"
   ]
  },
  {
   "cell_type": "code",
   "execution_count": 13,
   "metadata": {},
   "outputs": [
    {
     "data": {
      "text/plain": [
       "(6, 58)"
      ]
     },
     "execution_count": 13,
     "metadata": {},
     "output_type": "execute_result"
    }
   ],
   "source": [
    "churn[churn['MonthlyRevenue']==0].shape"
   ]
  },
  {
   "cell_type": "code",
   "execution_count": 14,
   "metadata": {},
   "outputs": [
    {
     "data": {
      "text/plain": [
       "(723, 58)"
      ]
     },
     "execution_count": 14,
     "metadata": {},
     "output_type": "execute_result"
    }
   ],
   "source": [
    "churn[churn['MonthlyMinutes']==0].shape"
   ]
  },
  {
   "cell_type": "code",
   "execution_count": 15,
   "metadata": {},
   "outputs": [
    {
     "data": {
      "text/plain": [
       "(160, 58)"
      ]
     },
     "execution_count": 15,
     "metadata": {},
     "output_type": "execute_result"
    }
   ],
   "source": [
    "churn[churn['TotalRecurringCharge']==0].shape"
   ]
  },
  {
   "cell_type": "code",
   "execution_count": 16,
   "metadata": {},
   "outputs": [
    {
     "data": {
      "text/plain": [
       "(23262, 58)"
      ]
     },
     "execution_count": 16,
     "metadata": {},
     "output_type": "execute_result"
    }
   ],
   "source": [
    "churn[churn['OverageMinutes']==0].shape"
   ]
  },
  {
   "cell_type": "code",
   "execution_count": 17,
   "metadata": {},
   "outputs": [
    {
     "data": {
      "text/plain": [
       "(34947, 58)"
      ]
     },
     "execution_count": 17,
     "metadata": {},
     "output_type": "execute_result"
    }
   ],
   "source": [
    "churn[churn['RoamingCalls']==0].shape"
   ]
  },
  {
   "cell_type": "code",
   "execution_count": 18,
   "metadata": {},
   "outputs": [
    {
     "data": {
      "text/plain": [
       "(1124, 58)"
      ]
     },
     "execution_count": 18,
     "metadata": {},
     "output_type": "execute_result"
    }
   ],
   "source": [
    "churn[churn['PercChangeMinutes']==0].shape"
   ]
  },
  {
   "cell_type": "code",
   "execution_count": 19,
   "metadata": {},
   "outputs": [
    {
     "data": {
      "text/plain": [
       "(5818, 58)"
      ]
     },
     "execution_count": 19,
     "metadata": {},
     "output_type": "execute_result"
    }
   ],
   "source": [
    "churn[churn['PercChangeRevenues']==0].shape"
   ]
  },
  {
   "cell_type": "code",
   "execution_count": 20,
   "metadata": {},
   "outputs": [
    {
     "data": {
      "text/plain": [
       "No     9711\n",
       "Yes    4206\n",
       "Name: Churn, dtype: int64"
      ]
     },
     "execution_count": 20,
     "metadata": {},
     "output_type": "execute_result"
    }
   ],
   "source": [
    "churn.Churn[churn['AgeHH1']==0].value_counts()"
   ]
  },
  {
   "cell_type": "code",
   "execution_count": 21,
   "metadata": {},
   "outputs": [
    {
     "data": {
      "text/plain": [
       "No     18440\n",
       "Yes     7647\n",
       "Name: Churn, dtype: int64"
      ]
     },
     "execution_count": 21,
     "metadata": {},
     "output_type": "execute_result"
    }
   ],
   "source": [
    "churn.Churn[churn['AgeHH2']==0].value_counts()"
   ]
  },
  {
   "cell_type": "markdown",
   "metadata": {},
   "source": [
    "### So from the above conclusion we can impute 0 in the missing values "
   ]
  },
  {
   "cell_type": "code",
   "execution_count": 22,
   "metadata": {},
   "outputs": [],
   "source": [
    "churn=churn.fillna(0)"
   ]
  },
  {
   "cell_type": "code",
   "execution_count": 23,
   "metadata": {},
   "outputs": [
    {
     "data": {
      "text/plain": [
       "0"
      ]
     },
     "execution_count": 23,
     "metadata": {},
     "output_type": "execute_result"
    }
   ],
   "source": [
    "churn.isna().sum().values.sum()"
   ]
  },
  {
   "cell_type": "code",
   "execution_count": 24,
   "metadata": {},
   "outputs": [
    {
     "data": {
      "text/plain": [
       "Churn                        2\n",
       "ServiceArea                748\n",
       "ChildrenInHH                 2\n",
       "HandsetRefurbished           2\n",
       "HandsetWebCapable            2\n",
       "TruckOwner                   2\n",
       "RVOwner                      2\n",
       "Homeownership                2\n",
       "BuysViaMailOrder             2\n",
       "RespondsToMailOffers         2\n",
       "OptOutMailings               2\n",
       "NonUSTravel                  2\n",
       "OwnsComputer                 2\n",
       "HasCreditCard                2\n",
       "NewCellphoneUser             2\n",
       "NotNewCellphoneUser          2\n",
       "OwnsMotorcycle               2\n",
       "HandsetPrice                16\n",
       "MadeCallToRetentionTeam      2\n",
       "CreditRating                 7\n",
       "PrizmCode                    4\n",
       "Occupation                   8\n",
       "MaritalStatus                3\n",
       "dtype: int64"
      ]
     },
     "execution_count": 24,
     "metadata": {},
     "output_type": "execute_result"
    }
   ],
   "source": [
    "#get a list of categoricals\n",
    "categoricals = list()\n",
    "for x in churn.columns:\n",
    "    if churn[x].dtype == 'object':\n",
    "        categoricals.append(x)\n",
    "churn[categoricals].nunique()"
   ]
  },
  {
   "cell_type": "markdown",
   "metadata": {},
   "source": [
    "## Data Visualization for categorical features"
   ]
  },
  {
   "cell_type": "code",
   "execution_count": 25,
   "metadata": {},
   "outputs": [
    {
     "data": {
      "image/png": "[encoded data removed]",
      "text/plain": [
       "<Figure size 432x288 with 1 Axes>"
      ]
     },
     "metadata": {
      "needs_background": "light"
     },
     "output_type": "display_data"
    }
   ],
   "source": [
    "sns.countplot(x='Occupation',hue='Churn',data=churn)\n",
    "plt.xticks(rotation=90)\n",
    "plt.show()"
   ]
  },
  {
   "cell_type": "code",
   "execution_count": 26,
   "metadata": {},
   "outputs": [
    {
     "data": {
      "text/html": [
       "<div>\n",
       "<style scoped>\n",
       "    .dataframe tbody tr th:only-of-type {\n",
       "        vertical-align: middle;\n",
       "    }\n",
       "\n",
       "    .dataframe tbody tr th {\n",
       "        vertical-align: top;\n",
       "    }\n",
       "\n",
       "    .dataframe thead th {\n",
       "        text-align: right;\n",
       "    }\n",
       "</style>\n",
       "<table border=\"1\" class=\"dataframe\">\n",
       "  <thead>\n",
       "    <tr style=\"text-align: right;\">\n",
       "      <th>Occupation</th>\n",
       "      <th>Clerical</th>\n",
       "      <th>Crafts</th>\n",
       "      <th>Homemaker</th>\n",
       "      <th>Other</th>\n",
       "      <th>Professional</th>\n",
       "      <th>Retired</th>\n",
       "      <th>Self</th>\n",
       "      <th>Student</th>\n",
       "      <th>All</th>\n",
       "    </tr>\n",
       "    <tr>\n",
       "      <th>Churn</th>\n",
       "      <th></th>\n",
       "      <th></th>\n",
       "      <th></th>\n",
       "      <th></th>\n",
       "      <th></th>\n",
       "      <th></th>\n",
       "      <th></th>\n",
       "      <th></th>\n",
       "      <th></th>\n",
       "    </tr>\n",
       "  </thead>\n",
       "  <tbody>\n",
       "    <tr>\n",
       "      <th>No</th>\n",
       "      <td>697</td>\n",
       "      <td>1093</td>\n",
       "      <td>106</td>\n",
       "      <td>26705</td>\n",
       "      <td>6288</td>\n",
       "      <td>548</td>\n",
       "      <td>636</td>\n",
       "      <td>263</td>\n",
       "      <td>36336</td>\n",
       "    </tr>\n",
       "    <tr>\n",
       "      <th>Yes</th>\n",
       "      <td>289</td>\n",
       "      <td>426</td>\n",
       "      <td>51</td>\n",
       "      <td>10932</td>\n",
       "      <td>2467</td>\n",
       "      <td>185</td>\n",
       "      <td>243</td>\n",
       "      <td>118</td>\n",
       "      <td>14711</td>\n",
       "    </tr>\n",
       "    <tr>\n",
       "      <th>All</th>\n",
       "      <td>986</td>\n",
       "      <td>1519</td>\n",
       "      <td>157</td>\n",
       "      <td>37637</td>\n",
       "      <td>8755</td>\n",
       "      <td>733</td>\n",
       "      <td>879</td>\n",
       "      <td>381</td>\n",
       "      <td>51047</td>\n",
       "    </tr>\n",
       "  </tbody>\n",
       "</table>\n",
       "</div>"
      ],
      "text/plain": [
       "Occupation  Clerical  Crafts  Homemaker  Other  Professional  Retired  Self  \\\n",
       "Churn                                                                         \n",
       "No               697    1093        106  26705          6288      548   636   \n",
       "Yes              289     426         51  10932          2467      185   243   \n",
       "All              986    1519        157  37637          8755      733   879   \n",
       "\n",
       "Occupation  Student    All  \n",
       "Churn                       \n",
       "No              263  36336  \n",
       "Yes             118  14711  \n",
       "All             381  51047  "
      ]
     },
     "execution_count": 26,
     "metadata": {},
     "output_type": "execute_result"
    }
   ],
   "source": [
    "Occupation_crosstab = pd.crosstab(churn['Churn'], \n",
    "                                   churn['Occupation'], \n",
    "                                   margins=True,\n",
    "                                   normalize=False)\n",
    "Occupation_crosstab"
   ]
  },
  {
   "cell_type": "code",
   "execution_count": 27,
   "metadata": {},
   "outputs": [
    {
     "data": {
      "text/html": [
       "<div>\n",
       "<style scoped>\n",
       "    .dataframe tbody tr th:only-of-type {\n",
       "        vertical-align: middle;\n",
       "    }\n",
       "\n",
       "    .dataframe tbody tr th {\n",
       "        vertical-align: top;\n",
       "    }\n",
       "\n",
       "    .dataframe thead th {\n",
       "        text-align: right;\n",
       "    }\n",
       "</style>\n",
       "<table border=\"1\" class=\"dataframe\">\n",
       "  <thead>\n",
       "    <tr style=\"text-align: right;\">\n",
       "      <th>Occupation</th>\n",
       "      <th>Clerical</th>\n",
       "      <th>Crafts</th>\n",
       "      <th>Homemaker</th>\n",
       "      <th>Other</th>\n",
       "      <th>Professional</th>\n",
       "      <th>Retired</th>\n",
       "      <th>Self</th>\n",
       "      <th>Student</th>\n",
       "      <th>All</th>\n",
       "    </tr>\n",
       "    <tr>\n",
       "      <th>Churn</th>\n",
       "      <th></th>\n",
       "      <th></th>\n",
       "      <th></th>\n",
       "      <th></th>\n",
       "      <th></th>\n",
       "      <th></th>\n",
       "      <th></th>\n",
       "      <th></th>\n",
       "      <th></th>\n",
       "    </tr>\n",
       "  </thead>\n",
       "  <tbody>\n",
       "    <tr>\n",
       "      <th>No</th>\n",
       "      <td>0.706897</td>\n",
       "      <td>0.719552</td>\n",
       "      <td>0.675159</td>\n",
       "      <td>0.709541</td>\n",
       "      <td>0.718218</td>\n",
       "      <td>0.747613</td>\n",
       "      <td>0.723549</td>\n",
       "      <td>0.690289</td>\n",
       "      <td>0.711815</td>\n",
       "    </tr>\n",
       "    <tr>\n",
       "      <th>Yes</th>\n",
       "      <td>0.293103</td>\n",
       "      <td>0.280448</td>\n",
       "      <td>0.324841</td>\n",
       "      <td>0.290459</td>\n",
       "      <td>0.281782</td>\n",
       "      <td>0.252387</td>\n",
       "      <td>0.276451</td>\n",
       "      <td>0.309711</td>\n",
       "      <td>0.288185</td>\n",
       "    </tr>\n",
       "    <tr>\n",
       "      <th>All</th>\n",
       "      <td>1.000000</td>\n",
       "      <td>1.000000</td>\n",
       "      <td>1.000000</td>\n",
       "      <td>1.000000</td>\n",
       "      <td>1.000000</td>\n",
       "      <td>1.000000</td>\n",
       "      <td>1.000000</td>\n",
       "      <td>1.000000</td>\n",
       "      <td>1.000000</td>\n",
       "    </tr>\n",
       "  </tbody>\n",
       "</table>\n",
       "</div>"
      ],
      "text/plain": [
       "Occupation  Clerical    Crafts  Homemaker     Other  Professional   Retired  \\\n",
       "Churn                                                                         \n",
       "No          0.706897  0.719552   0.675159  0.709541      0.718218  0.747613   \n",
       "Yes         0.293103  0.280448   0.324841  0.290459      0.281782  0.252387   \n",
       "All         1.000000  1.000000   1.000000  1.000000      1.000000  1.000000   \n",
       "\n",
       "Occupation      Self   Student       All  \n",
       "Churn                                     \n",
       "No          0.723549  0.690289  0.711815  \n",
       "Yes         0.276451  0.309711  0.288185  \n",
       "All         1.000000  1.000000  1.000000  "
      ]
     },
     "execution_count": 27,
     "metadata": {},
     "output_type": "execute_result"
    }
   ],
   "source": [
    "Occupation_percentage =  Occupation_crosstab / Occupation_crosstab.loc['All']\n",
    "Occupation_percentage"
   ]
  },
  {
   "cell_type": "code",
   "execution_count": 28,
   "metadata": {},
   "outputs": [
    {
     "data": {
      "image/png": "[encoded data removed]",
      "text/plain": [
       "<Figure size 432x288 with 1 Axes>"
      ]
     },
     "metadata": {
      "needs_background": "light"
     },
     "output_type": "display_data"
    }
   ],
   "source": [
    "sns.countplot(x='MaritalStatus',hue='Churn',data=churn)\n",
    "plt.xticks(rotation=90)\n",
    "plt.show()"
   ]
  },
  {
   "cell_type": "code",
   "execution_count": 29,
   "metadata": {},
   "outputs": [
    {
     "data": {
      "image/png": "[encoded data removed]",
      "text/plain": [
       "<Figure size 432x288 with 1 Axes>"
      ]
     },
     "metadata": {
      "needs_background": "light"
     },
     "output_type": "display_data"
    }
   ],
   "source": [
    "sns.countplot(x='CreditRating',hue='Churn',data=churn)\n",
    "plt.xticks(rotation=90)\n",
    "plt.show()"
   ]
  },
  {
   "cell_type": "code",
   "execution_count": 30,
   "metadata": {},
   "outputs": [
    {
     "data": {
      "text/html": [
       "<div>\n",
       "<style scoped>\n",
       "    .dataframe tbody tr th:only-of-type {\n",
       "        vertical-align: middle;\n",
       "    }\n",
       "\n",
       "    .dataframe tbody tr th {\n",
       "        vertical-align: top;\n",
       "    }\n",
       "\n",
       "    .dataframe thead th {\n",
       "        text-align: right;\n",
       "    }\n",
       "</style>\n",
       "<table border=\"1\" class=\"dataframe\">\n",
       "  <thead>\n",
       "    <tr style=\"text-align: right;\">\n",
       "      <th>CreditRating</th>\n",
       "      <th>1-Highest</th>\n",
       "      <th>2-High</th>\n",
       "      <th>3-Good</th>\n",
       "      <th>4-Medium</th>\n",
       "      <th>5-Low</th>\n",
       "      <th>6-VeryLow</th>\n",
       "      <th>7-Lowest</th>\n",
       "      <th>All</th>\n",
       "    </tr>\n",
       "    <tr>\n",
       "      <th>Churn</th>\n",
       "      <th></th>\n",
       "      <th></th>\n",
       "      <th></th>\n",
       "      <th></th>\n",
       "      <th></th>\n",
       "      <th></th>\n",
       "      <th></th>\n",
       "      <th></th>\n",
       "    </tr>\n",
       "  </thead>\n",
       "  <tbody>\n",
       "    <tr>\n",
       "      <th>No</th>\n",
       "      <td>5894</td>\n",
       "      <td>13281</td>\n",
       "      <td>5802</td>\n",
       "      <td>3958</td>\n",
       "      <td>5063</td>\n",
       "      <td>836</td>\n",
       "      <td>1502</td>\n",
       "      <td>36336</td>\n",
       "    </tr>\n",
       "    <tr>\n",
       "      <th>Yes</th>\n",
       "      <td>2628</td>\n",
       "      <td>5712</td>\n",
       "      <td>2608</td>\n",
       "      <td>1399</td>\n",
       "      <td>1436</td>\n",
       "      <td>316</td>\n",
       "      <td>612</td>\n",
       "      <td>14711</td>\n",
       "    </tr>\n",
       "    <tr>\n",
       "      <th>All</th>\n",
       "      <td>8522</td>\n",
       "      <td>18993</td>\n",
       "      <td>8410</td>\n",
       "      <td>5357</td>\n",
       "      <td>6499</td>\n",
       "      <td>1152</td>\n",
       "      <td>2114</td>\n",
       "      <td>51047</td>\n",
       "    </tr>\n",
       "  </tbody>\n",
       "</table>\n",
       "</div>"
      ],
      "text/plain": [
       "CreditRating  1-Highest  2-High  3-Good  4-Medium  5-Low  6-VeryLow  7-Lowest  \\\n",
       "Churn                                                                           \n",
       "No                 5894   13281    5802      3958   5063        836      1502   \n",
       "Yes                2628    5712    2608      1399   1436        316       612   \n",
       "All                8522   18993    8410      5357   6499       1152      2114   \n",
       "\n",
       "CreditRating    All  \n",
       "Churn                \n",
       "No            36336  \n",
       "Yes           14711  \n",
       "All           51047  "
      ]
     },
     "execution_count": 30,
     "metadata": {},
     "output_type": "execute_result"
    }
   ],
   "source": [
    "credit_crosstab = pd.crosstab(churn['Churn'], \n",
    "                                   churn['CreditRating'], \n",
    "                                   margins=True,\n",
    "                                   normalize=False)\n",
    "credit_crosstab"
   ]
  },
  {
   "cell_type": "code",
   "execution_count": 31,
   "metadata": {},
   "outputs": [
    {
     "data": {
      "text/html": [
       "<div>\n",
       "<style scoped>\n",
       "    .dataframe tbody tr th:only-of-type {\n",
       "        vertical-align: middle;\n",
       "    }\n",
       "\n",
       "    .dataframe tbody tr th {\n",
       "        vertical-align: top;\n",
       "    }\n",
       "\n",
       "    .dataframe thead th {\n",
       "        text-align: right;\n",
       "    }\n",
       "</style>\n",
       "<table border=\"1\" class=\"dataframe\">\n",
       "  <thead>\n",
       "    <tr style=\"text-align: right;\">\n",
       "      <th>CreditRating</th>\n",
       "      <th>1-Highest</th>\n",
       "      <th>2-High</th>\n",
       "      <th>3-Good</th>\n",
       "      <th>4-Medium</th>\n",
       "      <th>5-Low</th>\n",
       "      <th>6-VeryLow</th>\n",
       "      <th>7-Lowest</th>\n",
       "      <th>All</th>\n",
       "    </tr>\n",
       "    <tr>\n",
       "      <th>Churn</th>\n",
       "      <th></th>\n",
       "      <th></th>\n",
       "      <th></th>\n",
       "      <th></th>\n",
       "      <th></th>\n",
       "      <th></th>\n",
       "      <th></th>\n",
       "      <th></th>\n",
       "    </tr>\n",
       "  </thead>\n",
       "  <tbody>\n",
       "    <tr>\n",
       "      <th>No</th>\n",
       "      <td>0.691622</td>\n",
       "      <td>0.699258</td>\n",
       "      <td>0.689893</td>\n",
       "      <td>0.738846</td>\n",
       "      <td>0.779043</td>\n",
       "      <td>0.725694</td>\n",
       "      <td>0.710501</td>\n",
       "      <td>0.711815</td>\n",
       "    </tr>\n",
       "    <tr>\n",
       "      <th>Yes</th>\n",
       "      <td>0.308378</td>\n",
       "      <td>0.300742</td>\n",
       "      <td>0.310107</td>\n",
       "      <td>0.261154</td>\n",
       "      <td>0.220957</td>\n",
       "      <td>0.274306</td>\n",
       "      <td>0.289499</td>\n",
       "      <td>0.288185</td>\n",
       "    </tr>\n",
       "    <tr>\n",
       "      <th>All</th>\n",
       "      <td>1.000000</td>\n",
       "      <td>1.000000</td>\n",
       "      <td>1.000000</td>\n",
       "      <td>1.000000</td>\n",
       "      <td>1.000000</td>\n",
       "      <td>1.000000</td>\n",
       "      <td>1.000000</td>\n",
       "      <td>1.000000</td>\n",
       "    </tr>\n",
       "  </tbody>\n",
       "</table>\n",
       "</div>"
      ],
      "text/plain": [
       "CreditRating  1-Highest    2-High    3-Good  4-Medium     5-Low  6-VeryLow  \\\n",
       "Churn                                                                        \n",
       "No             0.691622  0.699258  0.689893  0.738846  0.779043   0.725694   \n",
       "Yes            0.308378  0.300742  0.310107  0.261154  0.220957   0.274306   \n",
       "All            1.000000  1.000000  1.000000  1.000000  1.000000   1.000000   \n",
       "\n",
       "CreditRating  7-Lowest       All  \n",
       "Churn                             \n",
       "No            0.710501  0.711815  \n",
       "Yes           0.289499  0.288185  \n",
       "All           1.000000  1.000000  "
      ]
     },
     "execution_count": 31,
     "metadata": {},
     "output_type": "execute_result"
    }
   ],
   "source": [
    "credit_percentage =  credit_crosstab / credit_crosstab.loc['All']\n",
    "credit_percentage"
   ]
  },
  {
   "cell_type": "code",
   "execution_count": 32,
   "metadata": {},
   "outputs": [
    {
     "data": {
      "image/png": "[encoded data removed]",
      "text/plain": [
       "<Figure size 432x288 with 1 Axes>"
      ]
     },
     "metadata": {
      "needs_background": "light"
     },
     "output_type": "display_data"
    }
   ],
   "source": [
    "sns.countplot(x='HandsetPrice',hue='Churn',data=churn)\n",
    "plt.xticks(rotation=90)\n",
    "plt.show()"
   ]
  },
  {
   "cell_type": "code",
   "execution_count": 33,
   "metadata": {},
   "outputs": [
    {
     "data": {
      "image/png": "[encoded data removed]",
      "text/plain": [
       "<Figure size 432x288 with 1 Axes>"
      ]
     },
     "metadata": {
      "needs_background": "light"
     },
     "output_type": "display_data"
    }
   ],
   "source": [
    "sns.countplot(x='HandsetRefurbished',hue='Churn',data=churn)\n",
    "plt.xticks(rotation=90)\n",
    "plt.show()"
   ]
  },
  {
   "cell_type": "code",
   "execution_count": 34,
   "metadata": {
    "scrolled": true
   },
   "outputs": [
    {
     "data": {
      "image/png": "[encoded data removed]",
      "text/plain": [
       "<Figure size 432x288 with 1 Axes>"
      ]
     },
     "metadata": {
      "needs_background": "light"
     },
     "output_type": "display_data"
    }
   ],
   "source": [
    "sns.countplot(x='HandsetWebCapable',hue='Churn',data=churn)\n",
    "plt.xticks(rotation=90)\n",
    "plt.show()"
   ]
  },
  {
   "cell_type": "code",
   "execution_count": 35,
   "metadata": {},
   "outputs": [
    {
     "data": {
      "image/png": "[encoded data removed]",
      "text/plain": [
       "<Figure size 432x288 with 1 Axes>"
      ]
     },
     "metadata": {
      "needs_background": "light"
     },
     "output_type": "display_data"
    }
   ],
   "source": [
    "sns.countplot(x='PrizmCode',hue='Churn',data=churn)\n",
    "plt.xticks(rotation=90)\n",
    "plt.show()"
   ]
  },
  {
   "cell_type": "code",
   "execution_count": 36,
   "metadata": {},
   "outputs": [
    {
     "data": {
      "text/html": [
       "<div>\n",
       "<style scoped>\n",
       "    .dataframe tbody tr th:only-of-type {\n",
       "        vertical-align: middle;\n",
       "    }\n",
       "\n",
       "    .dataframe tbody tr th {\n",
       "        vertical-align: top;\n",
       "    }\n",
       "\n",
       "    .dataframe thead th {\n",
       "        text-align: right;\n",
       "    }\n",
       "</style>\n",
       "<table border=\"1\" class=\"dataframe\">\n",
       "  <thead>\n",
       "    <tr style=\"text-align: right;\">\n",
       "      <th>PrizmCode</th>\n",
       "      <th>Other</th>\n",
       "      <th>Rural</th>\n",
       "      <th>Suburban</th>\n",
       "      <th>Town</th>\n",
       "      <th>All</th>\n",
       "    </tr>\n",
       "    <tr>\n",
       "      <th>Churn</th>\n",
       "      <th></th>\n",
       "      <th></th>\n",
       "      <th></th>\n",
       "      <th></th>\n",
       "      <th></th>\n",
       "    </tr>\n",
       "  </thead>\n",
       "  <tbody>\n",
       "    <tr>\n",
       "      <th>No</th>\n",
       "      <td>17598</td>\n",
       "      <td>1656</td>\n",
       "      <td>11769</td>\n",
       "      <td>5313</td>\n",
       "      <td>36336</td>\n",
       "    </tr>\n",
       "    <tr>\n",
       "      <th>Yes</th>\n",
       "      <td>7057</td>\n",
       "      <td>769</td>\n",
       "      <td>4609</td>\n",
       "      <td>2276</td>\n",
       "      <td>14711</td>\n",
       "    </tr>\n",
       "    <tr>\n",
       "      <th>All</th>\n",
       "      <td>24655</td>\n",
       "      <td>2425</td>\n",
       "      <td>16378</td>\n",
       "      <td>7589</td>\n",
       "      <td>51047</td>\n",
       "    </tr>\n",
       "  </tbody>\n",
       "</table>\n",
       "</div>"
      ],
      "text/plain": [
       "PrizmCode  Other  Rural  Suburban  Town    All\n",
       "Churn                                         \n",
       "No         17598   1656     11769  5313  36336\n",
       "Yes         7057    769      4609  2276  14711\n",
       "All        24655   2425     16378  7589  51047"
      ]
     },
     "execution_count": 36,
     "metadata": {},
     "output_type": "execute_result"
    }
   ],
   "source": [
    "PrizmCode_crosstab = pd.crosstab(churn['Churn'], \n",
    "                                   churn['PrizmCode'], \n",
    "                                   margins=True,\n",
    "                                   normalize=False)\n",
    "PrizmCode_crosstab"
   ]
  },
  {
   "cell_type": "code",
   "execution_count": 37,
   "metadata": {
    "scrolled": true
   },
   "outputs": [
    {
     "data": {
      "text/html": [
       "<div>\n",
       "<style scoped>\n",
       "    .dataframe tbody tr th:only-of-type {\n",
       "        vertical-align: middle;\n",
       "    }\n",
       "\n",
       "    .dataframe tbody tr th {\n",
       "        vertical-align: top;\n",
       "    }\n",
       "\n",
       "    .dataframe thead th {\n",
       "        text-align: right;\n",
       "    }\n",
       "</style>\n",
       "<table border=\"1\" class=\"dataframe\">\n",
       "  <thead>\n",
       "    <tr style=\"text-align: right;\">\n",
       "      <th>PrizmCode</th>\n",
       "      <th>Other</th>\n",
       "      <th>Rural</th>\n",
       "      <th>Suburban</th>\n",
       "      <th>Town</th>\n",
       "      <th>All</th>\n",
       "    </tr>\n",
       "    <tr>\n",
       "      <th>Churn</th>\n",
       "      <th></th>\n",
       "      <th></th>\n",
       "      <th></th>\n",
       "      <th></th>\n",
       "      <th></th>\n",
       "    </tr>\n",
       "  </thead>\n",
       "  <tbody>\n",
       "    <tr>\n",
       "      <th>No</th>\n",
       "      <td>0.71377</td>\n",
       "      <td>0.682887</td>\n",
       "      <td>0.718586</td>\n",
       "      <td>0.700092</td>\n",
       "      <td>0.711815</td>\n",
       "    </tr>\n",
       "    <tr>\n",
       "      <th>Yes</th>\n",
       "      <td>0.28623</td>\n",
       "      <td>0.317113</td>\n",
       "      <td>0.281414</td>\n",
       "      <td>0.299908</td>\n",
       "      <td>0.288185</td>\n",
       "    </tr>\n",
       "    <tr>\n",
       "      <th>All</th>\n",
       "      <td>1.00000</td>\n",
       "      <td>1.000000</td>\n",
       "      <td>1.000000</td>\n",
       "      <td>1.000000</td>\n",
       "      <td>1.000000</td>\n",
       "    </tr>\n",
       "  </tbody>\n",
       "</table>\n",
       "</div>"
      ],
      "text/plain": [
       "PrizmCode    Other     Rural  Suburban      Town       All\n",
       "Churn                                                     \n",
       "No         0.71377  0.682887  0.718586  0.700092  0.711815\n",
       "Yes        0.28623  0.317113  0.281414  0.299908  0.288185\n",
       "All        1.00000  1.000000  1.000000  1.000000  1.000000"
      ]
     },
     "execution_count": 37,
     "metadata": {},
     "output_type": "execute_result"
    }
   ],
   "source": [
    "Prizmcode_percentage =  PrizmCode_crosstab / PrizmCode_crosstab.loc['All']\n",
    "Prizmcode_percentage"
   ]
  },
  {
   "cell_type": "code",
   "execution_count": 38,
   "metadata": {},
   "outputs": [
    {
     "data": {
      "image/png": "[encoded data removed]",
      "text/plain": [
       "<Figure size 432x288 with 1 Axes>"
      ]
     },
     "metadata": {
      "needs_background": "light"
     },
     "output_type": "display_data"
    }
   ],
   "source": [
    "sns.countplot(x='MadeCallToRetentionTeam',hue='Churn',data=churn)\n",
    "plt.xticks(rotation=90)\n",
    "plt.show()"
   ]
  },
  {
   "cell_type": "code",
   "execution_count": 39,
   "metadata": {},
   "outputs": [
    {
     "data": {
      "text/html": [
       "<div>\n",
       "<style scoped>\n",
       "    .dataframe tbody tr th:only-of-type {\n",
       "        vertical-align: middle;\n",
       "    }\n",
       "\n",
       "    .dataframe tbody tr th {\n",
       "        vertical-align: top;\n",
       "    }\n",
       "\n",
       "    .dataframe thead th {\n",
       "        text-align: right;\n",
       "    }\n",
       "</style>\n",
       "<table border=\"1\" class=\"dataframe\">\n",
       "  <thead>\n",
       "    <tr style=\"text-align: right;\">\n",
       "      <th>MadeCallToRetentionTeam</th>\n",
       "      <th>No</th>\n",
       "      <th>Yes</th>\n",
       "      <th>All</th>\n",
       "    </tr>\n",
       "    <tr>\n",
       "      <th>Churn</th>\n",
       "      <th></th>\n",
       "      <th></th>\n",
       "      <th></th>\n",
       "    </tr>\n",
       "  </thead>\n",
       "  <tbody>\n",
       "    <tr>\n",
       "      <th>No</th>\n",
       "      <td>35377</td>\n",
       "      <td>959</td>\n",
       "      <td>36336</td>\n",
       "    </tr>\n",
       "    <tr>\n",
       "      <th>Yes</th>\n",
       "      <td>13925</td>\n",
       "      <td>786</td>\n",
       "      <td>14711</td>\n",
       "    </tr>\n",
       "    <tr>\n",
       "      <th>All</th>\n",
       "      <td>49302</td>\n",
       "      <td>1745</td>\n",
       "      <td>51047</td>\n",
       "    </tr>\n",
       "  </tbody>\n",
       "</table>\n",
       "</div>"
      ],
      "text/plain": [
       "MadeCallToRetentionTeam     No   Yes    All\n",
       "Churn                                      \n",
       "No                       35377   959  36336\n",
       "Yes                      13925   786  14711\n",
       "All                      49302  1745  51047"
      ]
     },
     "execution_count": 39,
     "metadata": {},
     "output_type": "execute_result"
    }
   ],
   "source": [
    "Retention_crosstab = pd.crosstab(churn['Churn'], \n",
    "                                   churn['MadeCallToRetentionTeam'], \n",
    "                                   margins=True,\n",
    "                                   normalize=False)\n",
    "Retention_crosstab"
   ]
  },
  {
   "cell_type": "code",
   "execution_count": 40,
   "metadata": {},
   "outputs": [
    {
     "data": {
      "text/html": [
       "<div>\n",
       "<style scoped>\n",
       "    .dataframe tbody tr th:only-of-type {\n",
       "        vertical-align: middle;\n",
       "    }\n",
       "\n",
       "    .dataframe tbody tr th {\n",
       "        vertical-align: top;\n",
       "    }\n",
       "\n",
       "    .dataframe thead th {\n",
       "        text-align: right;\n",
       "    }\n",
       "</style>\n",
       "<table border=\"1\" class=\"dataframe\">\n",
       "  <thead>\n",
       "    <tr style=\"text-align: right;\">\n",
       "      <th>MadeCallToRetentionTeam</th>\n",
       "      <th>No</th>\n",
       "      <th>Yes</th>\n",
       "      <th>All</th>\n",
       "    </tr>\n",
       "    <tr>\n",
       "      <th>Churn</th>\n",
       "      <th></th>\n",
       "      <th></th>\n",
       "      <th></th>\n",
       "    </tr>\n",
       "  </thead>\n",
       "  <tbody>\n",
       "    <tr>\n",
       "      <th>No</th>\n",
       "      <td>0.717557</td>\n",
       "      <td>0.54957</td>\n",
       "      <td>0.711815</td>\n",
       "    </tr>\n",
       "    <tr>\n",
       "      <th>Yes</th>\n",
       "      <td>0.282443</td>\n",
       "      <td>0.45043</td>\n",
       "      <td>0.288185</td>\n",
       "    </tr>\n",
       "    <tr>\n",
       "      <th>All</th>\n",
       "      <td>1.000000</td>\n",
       "      <td>1.00000</td>\n",
       "      <td>1.000000</td>\n",
       "    </tr>\n",
       "  </tbody>\n",
       "</table>\n",
       "</div>"
      ],
      "text/plain": [
       "MadeCallToRetentionTeam        No      Yes       All\n",
       "Churn                                               \n",
       "No                       0.717557  0.54957  0.711815\n",
       "Yes                      0.282443  0.45043  0.288185\n",
       "All                      1.000000  1.00000  1.000000"
      ]
     },
     "execution_count": 40,
     "metadata": {},
     "output_type": "execute_result"
    }
   ],
   "source": [
    "Retention_percentage =  Retention_crosstab / Retention_crosstab.loc['All']\n",
    "Retention_percentage"
   ]
  },
  {
   "cell_type": "markdown",
   "metadata": {},
   "source": [
    "## Data Distribution of numerical features"
   ]
  },
  {
   "cell_type": "code",
   "execution_count": 41,
   "metadata": {},
   "outputs": [],
   "source": [
    "def plot_distro(churn, col = '', y_limit=None, x_limit_r=None, x_limit_l = None):\n",
    "    plt.figure(figsize=(10,10))\n",
    "    plt.grid(True)\n",
    "    sns.distplot(churn[col][churn.Churn == 'Yes'])\n",
    "    sns.distplot(churn[col][churn.Churn == 'No'])\n",
    "    plt.legend(['churn_flag_yes', 'churn_flag_no'])\n",
    "    if y_limit:\n",
    "        plt.ylim(top=y_limit)\n",
    "    if x_limit_r:\n",
    "        plt.xlim(right=x_limit_r)\n",
    "    if x_limit_l:\n",
    "        plt.xlim(left=x_limit_l)"
   ]
  },
  {
   "cell_type": "code",
   "execution_count": 42,
   "metadata": {},
   "outputs": [
    {
     "data": {
      "image/png": "[encoded data removed]",
      "text/plain": [
       "<Figure size 720x720 with 1 Axes>"
      ]
     },
     "metadata": {
      "needs_background": "light"
     },
     "output_type": "display_data"
    }
   ],
   "source": [
    "plot_distro(churn, col='PercChangeMinutes', x_limit_r=1200, x_limit_l=-1200)"
   ]
  },
  {
   "cell_type": "code",
   "execution_count": 43,
   "metadata": {},
   "outputs": [
    {
     "data": {
      "image/png": "[encoded data removed]",
      "text/plain": [
       "<Figure size 720x504 with 1 Axes>"
      ]
     },
     "metadata": {
      "needs_background": "light"
     },
     "output_type": "display_data"
    }
   ],
   "source": [
    "plt.figure(figsize=(10,7))\n",
    "sns.distplot(churn['PercChangeMinutes'])\n",
    "plt.show()"
   ]
  },
  {
   "cell_type": "code",
   "execution_count": 44,
   "metadata": {},
   "outputs": [
    {
     "data": {
      "image/png": "[encoded data removed]",
      "text/plain": [
       "<Figure size 720x720 with 1 Axes>"
      ]
     },
     "metadata": {
      "needs_background": "light"
     },
     "output_type": "display_data"
    }
   ],
   "source": [
    "plot_distro(churn, col='TotalRecurringCharge', x_limit_r=180)"
   ]
  },
  {
   "cell_type": "code",
   "execution_count": 45,
   "metadata": {},
   "outputs": [
    {
     "data": {
      "image/png": "[encoded data removed]",
      "text/plain": [
       "<Figure size 720x504 with 1 Axes>"
      ]
     },
     "metadata": {
      "needs_background": "light"
     },
     "output_type": "display_data"
    }
   ],
   "source": [
    "plt.figure(figsize=(10,7))\n",
    "sns.distplot(churn['TotalRecurringCharge'])\n",
    "plt.show()"
   ]
  },
  {
   "cell_type": "code",
   "execution_count": 46,
   "metadata": {},
   "outputs": [
    {
     "data": {
      "image/png": "[encoded data removed]",
      "text/plain": [
       "<Figure size 720x720 with 1 Axes>"
      ]
     },
     "metadata": {
      "needs_background": "light"
     },
     "output_type": "display_data"
    }
   ],
   "source": [
    "plot_distro(churn, col='DirectorAssistedCalls', y_limit=.3, x_limit_r=10)"
   ]
  },
  {
   "cell_type": "code",
   "execution_count": 47,
   "metadata": {},
   "outputs": [
    {
     "data": {
      "image/png": "[encoded data removed]",
      "text/plain": [
       "<Figure size 720x504 with 1 Axes>"
      ]
     },
     "metadata": {
      "needs_background": "light"
     },
     "output_type": "display_data"
    }
   ],
   "source": [
    "plt.figure(figsize=(10,7))\n",
    "sns.distplot(churn['DirectorAssistedCalls'])\n",
    "plt.show()"
   ]
  },
  {
   "cell_type": "code",
   "execution_count": 48,
   "metadata": {},
   "outputs": [
    {
     "data": {
      "image/png": "[encoded data removed]",
      "text/plain": [
       "<Figure size 720x720 with 1 Axes>"
      ]
     },
     "metadata": {
      "needs_background": "light"
     },
     "output_type": "display_data"
    }
   ],
   "source": [
    "plot_distro(churn, col='MonthlyRevenue', x_limit_r=200)"
   ]
  },
  {
   "cell_type": "code",
   "execution_count": 49,
   "metadata": {},
   "outputs": [
    {
     "data": {
      "image/png": "[encoded data removed]",
      "text/plain": [
       "<Figure size 720x504 with 1 Axes>"
      ]
     },
     "metadata": {
      "needs_background": "light"
     },
     "output_type": "display_data"
    }
   ],
   "source": [
    "plt.figure(figsize=(10,7))\n",
    "sns.distplot(churn['MonthlyRevenue'])\n",
    "plt.show()"
   ]
  },
  {
   "cell_type": "code",
   "execution_count": 50,
   "metadata": {},
   "outputs": [
    {
     "data": {
      "image/png": "[encoded data removed]",
      "text/plain": [
       "<Figure size 720x720 with 1 Axes>"
      ]
     },
     "metadata": {
      "needs_background": "light"
     },
     "output_type": "display_data"
    }
   ],
   "source": [
    "plt.figure(figsize=(10,10))\n",
    "plt.grid(True)\n",
    "sns.boxplot(x=churn.Occupation[churn.Churn == 'Yes'], y=churn.MonthlyRevenue[churn.Churn == 'Yes'])\n",
    "plt.show()"
   ]
  },
  {
   "cell_type": "code",
   "execution_count": 51,
   "metadata": {},
   "outputs": [
    {
     "data": {
      "image/png": "[encoded data removed]",
      "text/plain": [
       "<Figure size 720x720 with 1 Axes>"
      ]
     },
     "metadata": {
      "needs_background": "light"
     },
     "output_type": "display_data"
    }
   ],
   "source": [
    "plt.figure(figsize=(10,10))\n",
    "plt.grid(True)\n",
    "sns.boxplot(x=churn.Occupation, y=churn.MonthlyRevenue, hue=churn.Churn)\n",
    "plt.ylim(top=100)\n",
    "plt.show()"
   ]
  },
  {
   "cell_type": "code",
   "execution_count": 52,
   "metadata": {},
   "outputs": [
    {
     "data": {
      "text/html": [
       "<div>\n",
       "<style scoped>\n",
       "    .dataframe tbody tr th:only-of-type {\n",
       "        vertical-align: middle;\n",
       "    }\n",
       "\n",
       "    .dataframe tbody tr th {\n",
       "        vertical-align: top;\n",
       "    }\n",
       "\n",
       "    .dataframe thead th {\n",
       "        text-align: right;\n",
       "    }\n",
       "</style>\n",
       "<table border=\"1\" class=\"dataframe\">\n",
       "  <thead>\n",
       "    <tr style=\"text-align: right;\">\n",
       "      <th></th>\n",
       "      <th>CustomerID</th>\n",
       "      <th>Churn</th>\n",
       "      <th>MonthlyRevenue</th>\n",
       "      <th>MonthlyMinutes</th>\n",
       "      <th>TotalRecurringCharge</th>\n",
       "      <th>DirectorAssistedCalls</th>\n",
       "      <th>OverageMinutes</th>\n",
       "      <th>RoamingCalls</th>\n",
       "      <th>PercChangeMinutes</th>\n",
       "      <th>PercChangeRevenues</th>\n",
       "      <th>DroppedCalls</th>\n",
       "      <th>BlockedCalls</th>\n",
       "      <th>UnansweredCalls</th>\n",
       "      <th>CustomerCareCalls</th>\n",
       "      <th>ThreewayCalls</th>\n",
       "      <th>ReceivedCalls</th>\n",
       "      <th>OutboundCalls</th>\n",
       "      <th>InboundCalls</th>\n",
       "      <th>PeakCallsInOut</th>\n",
       "      <th>OffPeakCallsInOut</th>\n",
       "      <th>DroppedBlockedCalls</th>\n",
       "      <th>CallForwardingCalls</th>\n",
       "      <th>CallWaitingCalls</th>\n",
       "      <th>MonthsInService</th>\n",
       "      <th>UniqueSubs</th>\n",
       "      <th>ActiveSubs</th>\n",
       "      <th>ServiceArea</th>\n",
       "      <th>Handsets</th>\n",
       "      <th>HandsetModels</th>\n",
       "      <th>CurrentEquipmentDays</th>\n",
       "      <th>AgeHH1</th>\n",
       "      <th>AgeHH2</th>\n",
       "      <th>ChildrenInHH</th>\n",
       "      <th>HandsetRefurbished</th>\n",
       "      <th>HandsetWebCapable</th>\n",
       "      <th>TruckOwner</th>\n",
       "      <th>RVOwner</th>\n",
       "      <th>Homeownership</th>\n",
       "      <th>BuysViaMailOrder</th>\n",
       "      <th>RespondsToMailOffers</th>\n",
       "      <th>OptOutMailings</th>\n",
       "      <th>NonUSTravel</th>\n",
       "      <th>OwnsComputer</th>\n",
       "      <th>HasCreditCard</th>\n",
       "      <th>RetentionCalls</th>\n",
       "      <th>RetentionOffersAccepted</th>\n",
       "      <th>NewCellphoneUser</th>\n",
       "      <th>NotNewCellphoneUser</th>\n",
       "      <th>ReferralsMadeBySubscriber</th>\n",
       "      <th>IncomeGroup</th>\n",
       "      <th>OwnsMotorcycle</th>\n",
       "      <th>AdjustmentsToCreditRating</th>\n",
       "      <th>HandsetPrice</th>\n",
       "      <th>MadeCallToRetentionTeam</th>\n",
       "      <th>CreditRating</th>\n",
       "      <th>PrizmCode</th>\n",
       "      <th>Occupation</th>\n",
       "      <th>MaritalStatus</th>\n",
       "    </tr>\n",
       "  </thead>\n",
       "  <tbody>\n",
       "    <tr>\n",
       "      <th>0</th>\n",
       "      <td>3000002</td>\n",
       "      <td>Yes</td>\n",
       "      <td>24.00</td>\n",
       "      <td>219.0</td>\n",
       "      <td>22.0</td>\n",
       "      <td>0.25</td>\n",
       "      <td>0.0</td>\n",
       "      <td>0.0</td>\n",
       "      <td>-157.0</td>\n",
       "      <td>-19.0</td>\n",
       "      <td>0.7</td>\n",
       "      <td>0.7</td>\n",
       "      <td>6.3</td>\n",
       "      <td>0.0</td>\n",
       "      <td>0.0</td>\n",
       "      <td>97.2</td>\n",
       "      <td>0.0</td>\n",
       "      <td>0.0</td>\n",
       "      <td>58.0</td>\n",
       "      <td>24.0</td>\n",
       "      <td>1.3</td>\n",
       "      <td>0.0</td>\n",
       "      <td>0.3</td>\n",
       "      <td>61</td>\n",
       "      <td>2</td>\n",
       "      <td>1</td>\n",
       "      <td>SEAPOR503</td>\n",
       "      <td>2.0</td>\n",
       "      <td>2.0</td>\n",
       "      <td>361.0</td>\n",
       "      <td>62.0</td>\n",
       "      <td>0.0</td>\n",
       "      <td>No</td>\n",
       "      <td>No</td>\n",
       "      <td>Yes</td>\n",
       "      <td>No</td>\n",
       "      <td>No</td>\n",
       "      <td>Known</td>\n",
       "      <td>Yes</td>\n",
       "      <td>Yes</td>\n",
       "      <td>No</td>\n",
       "      <td>No</td>\n",
       "      <td>Yes</td>\n",
       "      <td>Yes</td>\n",
       "      <td>1</td>\n",
       "      <td>0</td>\n",
       "      <td>No</td>\n",
       "      <td>No</td>\n",
       "      <td>0</td>\n",
       "      <td>4</td>\n",
       "      <td>No</td>\n",
       "      <td>0</td>\n",
       "      <td>30</td>\n",
       "      <td>Yes</td>\n",
       "      <td>1-Highest</td>\n",
       "      <td>Suburban</td>\n",
       "      <td>Professional</td>\n",
       "      <td>No</td>\n",
       "    </tr>\n",
       "    <tr>\n",
       "      <th>1</th>\n",
       "      <td>3000010</td>\n",
       "      <td>Yes</td>\n",
       "      <td>16.99</td>\n",
       "      <td>10.0</td>\n",
       "      <td>17.0</td>\n",
       "      <td>0.00</td>\n",
       "      <td>0.0</td>\n",
       "      <td>0.0</td>\n",
       "      <td>-4.0</td>\n",
       "      <td>0.0</td>\n",
       "      <td>0.3</td>\n",
       "      <td>0.0</td>\n",
       "      <td>2.7</td>\n",
       "      <td>0.0</td>\n",
       "      <td>0.0</td>\n",
       "      <td>0.0</td>\n",
       "      <td>0.0</td>\n",
       "      <td>0.0</td>\n",
       "      <td>5.0</td>\n",
       "      <td>1.0</td>\n",
       "      <td>0.3</td>\n",
       "      <td>0.0</td>\n",
       "      <td>0.0</td>\n",
       "      <td>58</td>\n",
       "      <td>1</td>\n",
       "      <td>1</td>\n",
       "      <td>PITHOM412</td>\n",
       "      <td>2.0</td>\n",
       "      <td>1.0</td>\n",
       "      <td>1504.0</td>\n",
       "      <td>40.0</td>\n",
       "      <td>42.0</td>\n",
       "      <td>Yes</td>\n",
       "      <td>No</td>\n",
       "      <td>No</td>\n",
       "      <td>No</td>\n",
       "      <td>No</td>\n",
       "      <td>Known</td>\n",
       "      <td>Yes</td>\n",
       "      <td>Yes</td>\n",
       "      <td>No</td>\n",
       "      <td>No</td>\n",
       "      <td>Yes</td>\n",
       "      <td>Yes</td>\n",
       "      <td>0</td>\n",
       "      <td>0</td>\n",
       "      <td>Yes</td>\n",
       "      <td>No</td>\n",
       "      <td>0</td>\n",
       "      <td>5</td>\n",
       "      <td>No</td>\n",
       "      <td>0</td>\n",
       "      <td>30</td>\n",
       "      <td>No</td>\n",
       "      <td>4-Medium</td>\n",
       "      <td>Suburban</td>\n",
       "      <td>Professional</td>\n",
       "      <td>Yes</td>\n",
       "    </tr>\n",
       "    <tr>\n",
       "      <th>2</th>\n",
       "      <td>3000014</td>\n",
       "      <td>No</td>\n",
       "      <td>38.00</td>\n",
       "      <td>8.0</td>\n",
       "      <td>38.0</td>\n",
       "      <td>0.00</td>\n",
       "      <td>0.0</td>\n",
       "      <td>0.0</td>\n",
       "      <td>-2.0</td>\n",
       "      <td>0.0</td>\n",
       "      <td>0.0</td>\n",
       "      <td>0.0</td>\n",
       "      <td>0.0</td>\n",
       "      <td>0.0</td>\n",
       "      <td>0.0</td>\n",
       "      <td>0.4</td>\n",
       "      <td>0.3</td>\n",
       "      <td>0.0</td>\n",
       "      <td>1.3</td>\n",
       "      <td>3.7</td>\n",
       "      <td>0.0</td>\n",
       "      <td>0.0</td>\n",
       "      <td>0.0</td>\n",
       "      <td>60</td>\n",
       "      <td>1</td>\n",
       "      <td>1</td>\n",
       "      <td>MILMIL414</td>\n",
       "      <td>1.0</td>\n",
       "      <td>1.0</td>\n",
       "      <td>1812.0</td>\n",
       "      <td>26.0</td>\n",
       "      <td>26.0</td>\n",
       "      <td>Yes</td>\n",
       "      <td>No</td>\n",
       "      <td>No</td>\n",
       "      <td>No</td>\n",
       "      <td>No</td>\n",
       "      <td>Unknown</td>\n",
       "      <td>No</td>\n",
       "      <td>No</td>\n",
       "      <td>No</td>\n",
       "      <td>No</td>\n",
       "      <td>No</td>\n",
       "      <td>Yes</td>\n",
       "      <td>0</td>\n",
       "      <td>0</td>\n",
       "      <td>Yes</td>\n",
       "      <td>No</td>\n",
       "      <td>0</td>\n",
       "      <td>6</td>\n",
       "      <td>No</td>\n",
       "      <td>0</td>\n",
       "      <td>Unknown</td>\n",
       "      <td>No</td>\n",
       "      <td>3-Good</td>\n",
       "      <td>Town</td>\n",
       "      <td>Crafts</td>\n",
       "      <td>Yes</td>\n",
       "    </tr>\n",
       "    <tr>\n",
       "      <th>3</th>\n",
       "      <td>3000022</td>\n",
       "      <td>No</td>\n",
       "      <td>82.28</td>\n",
       "      <td>1312.0</td>\n",
       "      <td>75.0</td>\n",
       "      <td>1.24</td>\n",
       "      <td>0.0</td>\n",
       "      <td>0.0</td>\n",
       "      <td>157.0</td>\n",
       "      <td>8.1</td>\n",
       "      <td>52.0</td>\n",
       "      <td>7.7</td>\n",
       "      <td>76.0</td>\n",
       "      <td>4.3</td>\n",
       "      <td>1.3</td>\n",
       "      <td>200.3</td>\n",
       "      <td>370.3</td>\n",
       "      <td>147.0</td>\n",
       "      <td>555.7</td>\n",
       "      <td>303.7</td>\n",
       "      <td>59.7</td>\n",
       "      <td>0.0</td>\n",
       "      <td>22.7</td>\n",
       "      <td>59</td>\n",
       "      <td>2</td>\n",
       "      <td>2</td>\n",
       "      <td>PITHOM412</td>\n",
       "      <td>9.0</td>\n",
       "      <td>4.0</td>\n",
       "      <td>458.0</td>\n",
       "      <td>30.0</td>\n",
       "      <td>0.0</td>\n",
       "      <td>No</td>\n",
       "      <td>No</td>\n",
       "      <td>Yes</td>\n",
       "      <td>No</td>\n",
       "      <td>No</td>\n",
       "      <td>Known</td>\n",
       "      <td>Yes</td>\n",
       "      <td>Yes</td>\n",
       "      <td>No</td>\n",
       "      <td>No</td>\n",
       "      <td>No</td>\n",
       "      <td>Yes</td>\n",
       "      <td>0</td>\n",
       "      <td>0</td>\n",
       "      <td>Yes</td>\n",
       "      <td>No</td>\n",
       "      <td>0</td>\n",
       "      <td>6</td>\n",
       "      <td>No</td>\n",
       "      <td>0</td>\n",
       "      <td>10</td>\n",
       "      <td>No</td>\n",
       "      <td>4-Medium</td>\n",
       "      <td>Other</td>\n",
       "      <td>Other</td>\n",
       "      <td>No</td>\n",
       "    </tr>\n",
       "    <tr>\n",
       "      <th>4</th>\n",
       "      <td>3000026</td>\n",
       "      <td>Yes</td>\n",
       "      <td>17.14</td>\n",
       "      <td>0.0</td>\n",
       "      <td>17.0</td>\n",
       "      <td>0.00</td>\n",
       "      <td>0.0</td>\n",
       "      <td>0.0</td>\n",
       "      <td>0.0</td>\n",
       "      <td>-0.2</td>\n",
       "      <td>0.0</td>\n",
       "      <td>0.0</td>\n",
       "      <td>0.0</td>\n",
       "      <td>0.0</td>\n",
       "      <td>0.0</td>\n",
       "      <td>0.0</td>\n",
       "      <td>0.0</td>\n",
       "      <td>0.0</td>\n",
       "      <td>0.0</td>\n",
       "      <td>0.0</td>\n",
       "      <td>0.0</td>\n",
       "      <td>0.0</td>\n",
       "      <td>0.0</td>\n",
       "      <td>53</td>\n",
       "      <td>2</td>\n",
       "      <td>2</td>\n",
       "      <td>OKCTUL918</td>\n",
       "      <td>4.0</td>\n",
       "      <td>3.0</td>\n",
       "      <td>852.0</td>\n",
       "      <td>46.0</td>\n",
       "      <td>54.0</td>\n",
       "      <td>No</td>\n",
       "      <td>No</td>\n",
       "      <td>No</td>\n",
       "      <td>No</td>\n",
       "      <td>No</td>\n",
       "      <td>Known</td>\n",
       "      <td>Yes</td>\n",
       "      <td>Yes</td>\n",
       "      <td>No</td>\n",
       "      <td>No</td>\n",
       "      <td>Yes</td>\n",
       "      <td>Yes</td>\n",
       "      <td>0</td>\n",
       "      <td>0</td>\n",
       "      <td>No</td>\n",
       "      <td>Yes</td>\n",
       "      <td>0</td>\n",
       "      <td>9</td>\n",
       "      <td>No</td>\n",
       "      <td>1</td>\n",
       "      <td>10</td>\n",
       "      <td>No</td>\n",
       "      <td>1-Highest</td>\n",
       "      <td>Other</td>\n",
       "      <td>Professional</td>\n",
       "      <td>Yes</td>\n",
       "    </tr>\n",
       "  </tbody>\n",
       "</table>\n",
       "</div>"
      ],
      "text/plain": [
       "   CustomerID Churn  MonthlyRevenue  MonthlyMinutes  TotalRecurringCharge  \\\n",
       "0     3000002   Yes           24.00           219.0                  22.0   \n",
       "1     3000010   Yes           16.99            10.0                  17.0   \n",
       "2     3000014    No           38.00             8.0                  38.0   \n",
       "3     3000022    No           82.28          1312.0                  75.0   \n",
       "4     3000026   Yes           17.14             0.0                  17.0   \n",
       "\n",
       "   DirectorAssistedCalls  OverageMinutes  RoamingCalls  PercChangeMinutes  \\\n",
       "0                   0.25             0.0           0.0             -157.0   \n",
       "1                   0.00             0.0           0.0               -4.0   \n",
       "2                   0.00             0.0           0.0               -2.0   \n",
       "3                   1.24             0.0           0.0              157.0   \n",
       "4                   0.00             0.0           0.0                0.0   \n",
       "\n",
       "   PercChangeRevenues  DroppedCalls  BlockedCalls  UnansweredCalls  \\\n",
       "0               -19.0           0.7           0.7              6.3   \n",
       "1                 0.0           0.3           0.0              2.7   \n",
       "2                 0.0           0.0           0.0              0.0   \n",
       "3                 8.1          52.0           7.7             76.0   \n",
       "4                -0.2           0.0           0.0              0.0   \n",
       "\n",
       "   CustomerCareCalls  ThreewayCalls  ReceivedCalls  OutboundCalls  \\\n",
       "0                0.0            0.0           97.2            0.0   \n",
       "1                0.0            0.0            0.0            0.0   \n",
       "2                0.0            0.0            0.4            0.3   \n",
       "3                4.3            1.3          200.3          370.3   \n",
       "4                0.0            0.0            0.0            0.0   \n",
       "\n",
       "   InboundCalls  PeakCallsInOut  OffPeakCallsInOut  DroppedBlockedCalls  \\\n",
       "0           0.0            58.0               24.0                  1.3   \n",
       "1           0.0             5.0                1.0                  0.3   \n",
       "2           0.0             1.3                3.7                  0.0   \n",
       "3         147.0           555.7              303.7                 59.7   \n",
       "4           0.0             0.0                0.0                  0.0   \n",
       "\n",
       "   CallForwardingCalls  CallWaitingCalls  MonthsInService  UniqueSubs  \\\n",
       "0                  0.0               0.3               61           2   \n",
       "1                  0.0               0.0               58           1   \n",
       "2                  0.0               0.0               60           1   \n",
       "3                  0.0              22.7               59           2   \n",
       "4                  0.0               0.0               53           2   \n",
       "\n",
       "   ActiveSubs ServiceArea  Handsets  HandsetModels  CurrentEquipmentDays  \\\n",
       "0           1   SEAPOR503       2.0            2.0                 361.0   \n",
       "1           1   PITHOM412       2.0            1.0                1504.0   \n",
       "2           1   MILMIL414       1.0            1.0                1812.0   \n",
       "3           2   PITHOM412       9.0            4.0                 458.0   \n",
       "4           2   OKCTUL918       4.0            3.0                 852.0   \n",
       "\n",
       "   AgeHH1  AgeHH2 ChildrenInHH HandsetRefurbished HandsetWebCapable  \\\n",
       "0    62.0     0.0           No                 No               Yes   \n",
       "1    40.0    42.0          Yes                 No                No   \n",
       "2    26.0    26.0          Yes                 No                No   \n",
       "3    30.0     0.0           No                 No               Yes   \n",
       "4    46.0    54.0           No                 No                No   \n",
       "\n",
       "  TruckOwner RVOwner Homeownership BuysViaMailOrder RespondsToMailOffers  \\\n",
       "0         No      No         Known              Yes                  Yes   \n",
       "1         No      No         Known              Yes                  Yes   \n",
       "2         No      No       Unknown               No                   No   \n",
       "3         No      No         Known              Yes                  Yes   \n",
       "4         No      No         Known              Yes                  Yes   \n",
       "\n",
       "  OptOutMailings NonUSTravel OwnsComputer HasCreditCard  RetentionCalls  \\\n",
       "0             No          No          Yes           Yes               1   \n",
       "1             No          No          Yes           Yes               0   \n",
       "2             No          No           No           Yes               0   \n",
       "3             No          No           No           Yes               0   \n",
       "4             No          No          Yes           Yes               0   \n",
       "\n",
       "   RetentionOffersAccepted NewCellphoneUser NotNewCellphoneUser  \\\n",
       "0                        0               No                  No   \n",
       "1                        0              Yes                  No   \n",
       "2                        0              Yes                  No   \n",
       "3                        0              Yes                  No   \n",
       "4                        0               No                 Yes   \n",
       "\n",
       "   ReferralsMadeBySubscriber  IncomeGroup OwnsMotorcycle  \\\n",
       "0                          0            4             No   \n",
       "1                          0            5             No   \n",
       "2                          0            6             No   \n",
       "3                          0            6             No   \n",
       "4                          0            9             No   \n",
       "\n",
       "   AdjustmentsToCreditRating HandsetPrice MadeCallToRetentionTeam  \\\n",
       "0                          0           30                     Yes   \n",
       "1                          0           30                      No   \n",
       "2                          0      Unknown                      No   \n",
       "3                          0           10                      No   \n",
       "4                          1           10                      No   \n",
       "\n",
       "  CreditRating PrizmCode    Occupation MaritalStatus  \n",
       "0    1-Highest  Suburban  Professional            No  \n",
       "1     4-Medium  Suburban  Professional           Yes  \n",
       "2       3-Good      Town        Crafts           Yes  \n",
       "3     4-Medium     Other         Other            No  \n",
       "4    1-Highest     Other  Professional           Yes  "
      ]
     },
     "execution_count": 52,
     "metadata": {},
     "output_type": "execute_result"
    }
   ],
   "source": [
    "churn.head()"
   ]
  },
  {
   "cell_type": "code",
   "execution_count": 53,
   "metadata": {},
   "outputs": [
    {
     "data": {
      "image/png": "[encoded data removed]",
      "text/plain": [
       "<Figure size 720x720 with 1 Axes>"
      ]
     },
     "metadata": {
      "needs_background": "light"
     },
     "output_type": "display_data"
    }
   ],
   "source": [
    "plt.figure(figsize=(10,10))\n",
    "plt.grid(True)\n",
    "sns.boxplot(x=churn.Occupation[churn.Churn == 'Yes'], y=churn.MonthlyMinutes[churn.Churn == 'Yes'])\n",
    "plt.show()"
   ]
  },
  {
   "cell_type": "code",
   "execution_count": 54,
   "metadata": {},
   "outputs": [
    {
     "data": {
      "text/plain": [
       "count    51047.000000\n",
       "mean       524.047015\n",
       "std        529.855789\n",
       "min          0.000000\n",
       "25%        156.000000\n",
       "50%        365.000000\n",
       "75%        722.000000\n",
       "max       7359.000000\n",
       "Name: MonthlyMinutes, dtype: float64"
      ]
     },
     "execution_count": 54,
     "metadata": {},
     "output_type": "execute_result"
    }
   ],
   "source": [
    "churn['MonthlyMinutes'].describe()"
   ]
  },
  {
   "cell_type": "code",
   "execution_count": 55,
   "metadata": {
    "scrolled": false
   },
   "outputs": [
    {
     "data": {
      "image/png": "[encoded data removed]",
      "text/plain": [
       "<Figure size 720x720 with 1 Axes>"
      ]
     },
     "metadata": {
      "needs_background": "light"
     },
     "output_type": "display_data"
    }
   ],
   "source": [
    "plt.figure(figsize=(10,10))\n",
    "plt.grid(True)\n",
    "sns.boxplot(x=churn.Occupation[churn.Churn == 'Yes'], y=churn.TotalRecurringCharge[churn.Churn == 'Yes'])\n",
    "plt.show()"
   ]
  },
  {
   "cell_type": "code",
   "execution_count": 56,
   "metadata": {},
   "outputs": [
    {
     "data": {
      "text/plain": [
       "Index(['CustomerID', 'Churn', 'MonthlyRevenue', 'MonthlyMinutes',\n",
       "       'TotalRecurringCharge', 'DirectorAssistedCalls', 'OverageMinutes',\n",
       "       'RoamingCalls', 'PercChangeMinutes', 'PercChangeRevenues',\n",
       "       'DroppedCalls', 'BlockedCalls', 'UnansweredCalls', 'CustomerCareCalls',\n",
       "       'ThreewayCalls', 'ReceivedCalls', 'OutboundCalls', 'InboundCalls',\n",
       "       'PeakCallsInOut', 'OffPeakCallsInOut', 'DroppedBlockedCalls',\n",
       "       'CallForwardingCalls', 'CallWaitingCalls', 'MonthsInService',\n",
       "       'UniqueSubs', 'ActiveSubs', 'ServiceArea', 'Handsets', 'HandsetModels',\n",
       "       'CurrentEquipmentDays', 'AgeHH1', 'AgeHH2', 'ChildrenInHH',\n",
       "       'HandsetRefurbished', 'HandsetWebCapable', 'TruckOwner', 'RVOwner',\n",
       "       'Homeownership', 'BuysViaMailOrder', 'RespondsToMailOffers',\n",
       "       'OptOutMailings', 'NonUSTravel', 'OwnsComputer', 'HasCreditCard',\n",
       "       'RetentionCalls', 'RetentionOffersAccepted', 'NewCellphoneUser',\n",
       "       'NotNewCellphoneUser', 'ReferralsMadeBySubscriber', 'IncomeGroup',\n",
       "       'OwnsMotorcycle', 'AdjustmentsToCreditRating', 'HandsetPrice',\n",
       "       'MadeCallToRetentionTeam', 'CreditRating', 'PrizmCode', 'Occupation',\n",
       "       'MaritalStatus'],\n",
       "      dtype='object')"
      ]
     },
     "execution_count": 56,
     "metadata": {},
     "output_type": "execute_result"
    }
   ],
   "source": [
    "churn.columns"
   ]
  },
  {
   "cell_type": "code",
   "execution_count": 57,
   "metadata": {},
   "outputs": [
    {
     "data": {
      "text/plain": [
       "0    36336\n",
       "1    14711\n",
       "Name: Churn, dtype: int64"
      ]
     },
     "execution_count": 57,
     "metadata": {},
     "output_type": "execute_result"
    }
   ],
   "source": [
    "churn['Churn']=churn['Churn'].replace({'Yes':1,'No':0})\n",
    "churn['Churn'].value_counts()"
   ]
  },
  {
   "cell_type": "code",
   "execution_count": 58,
   "metadata": {},
   "outputs": [],
   "source": [
    "x=churn[['MonthlyRevenue', 'MonthlyMinutes',\n",
    "       'TotalRecurringCharge', 'DirectorAssistedCalls', 'OverageMinutes',\n",
    "       'RoamingCalls', 'PercChangeMinutes', 'PercChangeRevenues',\n",
    "       'DroppedCalls', 'BlockedCalls', 'UnansweredCalls', 'CustomerCareCalls',\n",
    "       'ThreewayCalls', 'ReceivedCalls', 'OutboundCalls', 'InboundCalls',\n",
    "       'PeakCallsInOut', 'OffPeakCallsInOut', 'DroppedBlockedCalls',\n",
    "       'CallForwardingCalls', 'CallWaitingCalls', 'MonthsInService',\n",
    "       'UniqueSubs', 'ActiveSubs','Handsets', 'HandsetModels',\n",
    "       'CurrentEquipmentDays', 'AgeHH1', 'AgeHH2', 'ChildrenInHH',\n",
    "       'HandsetRefurbished', 'HandsetWebCapable', 'TruckOwner', 'RVOwner',\n",
    "       'Homeownership', 'BuysViaMailOrder', 'RespondsToMailOffers',\n",
    "       'OptOutMailings', 'NonUSTravel', 'OwnsComputer', 'HasCreditCard',\n",
    "       'RetentionCalls', 'RetentionOffersAccepted', 'NewCellphoneUser','ReferralsMadeBySubscriber', 'IncomeGroup',\n",
    "       'OwnsMotorcycle', 'AdjustmentsToCreditRating', 'HandsetPrice',\n",
    "       'MadeCallToRetentionTeam', 'CreditRating', 'PrizmCode', 'Occupation',\n",
    "       'MaritalStatus']]\n",
    "y=churn['Churn']"
   ]
  },
  {
   "cell_type": "markdown",
   "metadata": {},
   "source": [
    "## Dummification of categorical features"
   ]
  },
  {
   "cell_type": "code",
   "execution_count": 59,
   "metadata": {},
   "outputs": [
    {
     "data": {
      "text/plain": [
       "(51047, 82)"
      ]
     },
     "execution_count": 59,
     "metadata": {},
     "output_type": "execute_result"
    }
   ],
   "source": [
    "x=pd.get_dummies(x,drop_first=True)\n",
    "x.shape"
   ]
  },
  {
   "cell_type": "markdown",
   "metadata": {},
   "source": [
    "## Splitting the data"
   ]
  },
  {
   "cell_type": "code",
   "execution_count": 60,
   "metadata": {},
   "outputs": [],
   "source": [
    "from sklearn.model_selection import train_test_split, StratifiedKFold"
   ]
  },
  {
   "cell_type": "code",
   "execution_count": 61,
   "metadata": {},
   "outputs": [],
   "source": [
    "skf=StratifiedKFold(n_splits=7,random_state=0)"
   ]
  },
  {
   "cell_type": "code",
   "execution_count": 62,
   "metadata": {
    "scrolled": false
   },
   "outputs": [
    {
     "name": "stdout",
     "output_type": "stream",
     "text": [
      "TRAIN: [ 7287  7288  7291 ... 51044 51045 51046] TEST: [   0    1    2 ... 7301 7306 7308]\n",
      "TRAIN: [    0     1     2 ... 51044 51045 51046] TEST: [ 7287  7288  7291 ... 14622 14623 14625]\n",
      "TRAIN: [    0     1     2 ... 51044 51045 51046] TEST: [14447 14450 14459 ... 22022 22025 22026]\n",
      "TRAIN: [    0     1     2 ... 51044 51045 51046] TEST: [21470 21477 21481 ... 29821 29824 29825]\n",
      "TRAIN: [    0     1     2 ... 51044 51045 51046] TEST: [28008 28017 28018 ... 37455 37457 37458]\n",
      "TRAIN: [    0     1     2 ... 51044 51045 51046] TEST: [34281 34283 34284 ... 44563 44564 44566]\n",
      "TRAIN: [    0     1     2 ... 44563 44564 44566] TEST: [41246 41247 41248 ... 51044 51045 51046]\n"
     ]
    }
   ],
   "source": [
    "for train_index, test_index in skf.split(x, y):\n",
    "    print(\"TRAIN:\", train_index, \"TEST:\", test_index)\n",
    "    x_train, x_test = x.iloc[train_index], x.iloc[test_index]\n",
    "    y_train, y_test = y.iloc[train_index], y.iloc[test_index]"
   ]
  },
  {
   "cell_type": "code",
   "execution_count": 63,
   "metadata": {},
   "outputs": [
    {
     "name": "stdout",
     "output_type": "stream",
     "text": [
      "(43756, 82)\n",
      "(7291, 82)\n",
      "(43756,)\n",
      "(7291,)\n"
     ]
    }
   ],
   "source": [
    "print(x_train.shape)\n",
    "print(x_test.shape)\n",
    "print(y_train.shape)\n",
    "print(y_test.shape)"
   ]
  },
  {
   "cell_type": "code",
   "execution_count": 64,
   "metadata": {},
   "outputs": [
    {
     "name": "stdout",
     "output_type": "stream",
     "text": [
      "12610\n",
      "31146\n"
     ]
    }
   ],
   "source": [
    "a=list()\n",
    "b=list()\n",
    "for i in y_train:\n",
    "    if i==1:\n",
    "        a.append(i)\n",
    "    else:\n",
    "        b.append(i)\n",
    "print(len(a))\n",
    "print(len(b))"
   ]
  },
  {
   "cell_type": "code",
   "execution_count": 65,
   "metadata": {},
   "outputs": [
    {
     "name": "stdout",
     "output_type": "stream",
     "text": [
      "2101\n",
      "5190\n"
     ]
    }
   ],
   "source": [
    "a=list()\n",
    "b=list()\n",
    "for i in y_test:\n",
    "    if i==1:\n",
    "        a.append(i)\n",
    "    else:\n",
    "        b.append(i)\n",
    "print(len(a))\n",
    "print(len(b))"
   ]
  },
  {
   "cell_type": "markdown",
   "metadata": {},
   "source": [
    "## Feature selection"
   ]
  },
  {
   "cell_type": "code",
   "execution_count": 66,
   "metadata": {},
   "outputs": [],
   "source": [
    "from sklearn.feature_selection import VarianceThreshold"
   ]
  },
  {
   "cell_type": "code",
   "execution_count": 67,
   "metadata": {},
   "outputs": [
    {
     "data": {
      "text/plain": [
       "VarianceThreshold(threshold=0.05)"
      ]
     },
     "execution_count": 67,
     "metadata": {},
     "output_type": "execute_result"
    }
   ],
   "source": [
    "# Constant feature removal\n",
    "quasi_filter=VarianceThreshold(threshold=0.05)\n",
    "quasi_filter.fit(x_train)"
   ]
  },
  {
   "cell_type": "code",
   "execution_count": 68,
   "metadata": {},
   "outputs": [
    {
     "data": {
      "text/plain": [
       "57"
      ]
     },
     "execution_count": 68,
     "metadata": {},
     "output_type": "execute_result"
    }
   ],
   "source": [
    "quasi_filter.get_support().sum()"
   ]
  },
  {
   "cell_type": "code",
   "execution_count": 69,
   "metadata": {},
   "outputs": [
    {
     "data": {
      "text/plain": [
       "Index(['MonthlyRevenue', 'MonthlyMinutes', 'TotalRecurringCharge',\n",
       "       'DirectorAssistedCalls', 'OverageMinutes', 'RoamingCalls',\n",
       "       'PercChangeMinutes', 'PercChangeRevenues', 'DroppedCalls',\n",
       "       'BlockedCalls', 'UnansweredCalls', 'CustomerCareCalls', 'ThreewayCalls',\n",
       "       'ReceivedCalls', 'OutboundCalls', 'InboundCalls', 'PeakCallsInOut',\n",
       "       'OffPeakCallsInOut', 'DroppedBlockedCalls', 'CallForwardingCalls',\n",
       "       'CallWaitingCalls', 'MonthsInService', 'UniqueSubs', 'ActiveSubs',\n",
       "       'Handsets', 'HandsetModels', 'CurrentEquipmentDays', 'AgeHH1', 'AgeHH2',\n",
       "       'ReferralsMadeBySubscriber', 'IncomeGroup', 'AdjustmentsToCreditRating',\n",
       "       'ChildrenInHH_Yes', 'HandsetRefurbished_Yes', 'HandsetWebCapable_Yes',\n",
       "       'TruckOwner_Yes', 'RVOwner_Yes', 'Homeownership_Unknown',\n",
       "       'BuysViaMailOrder_Yes', 'RespondsToMailOffers_Yes', 'NonUSTravel_Yes',\n",
       "       'OwnsComputer_Yes', 'HasCreditCard_Yes', 'NewCellphoneUser_Yes',\n",
       "       'HandsetPrice_150', 'HandsetPrice_30', 'HandsetPrice_Unknown',\n",
       "       'CreditRating_2-High', 'CreditRating_3-Good', 'CreditRating_4-Medium',\n",
       "       'CreditRating_5-Low', 'PrizmCode_Suburban', 'PrizmCode_Town',\n",
       "       'Occupation_Other', 'Occupation_Professional', 'MaritalStatus_Unknown',\n",
       "       'MaritalStatus_Yes'],\n",
       "      dtype='object')"
      ]
     },
     "execution_count": 69,
     "metadata": {},
     "output_type": "execute_result"
    }
   ],
   "source": [
    "#Selected feature list\n",
    "filter_list=[temp for temp in quasi_filter.get_support()]\n",
    "colnames=x.columns[filter_list]\n",
    "colnames"
   ]
  },
  {
   "cell_type": "code",
   "execution_count": 70,
   "metadata": {},
   "outputs": [
    {
     "data": {
      "text/plain": [
       "57"
      ]
     },
     "execution_count": 70,
     "metadata": {},
     "output_type": "execute_result"
    }
   ],
   "source": [
    "len(colnames)"
   ]
  },
  {
   "cell_type": "code",
   "execution_count": 71,
   "metadata": {},
   "outputs": [],
   "source": [
    "x_train_filter=quasi_filter.transform(x_train)\n",
    "x_test_filter=quasi_filter.transform(x_test)"
   ]
  },
  {
   "cell_type": "code",
   "execution_count": 72,
   "metadata": {
    "scrolled": true
   },
   "outputs": [
    {
     "data": {
      "text/plain": [
       "Index(['MonthlyRevenue', 'MonthlyMinutes', 'TotalRecurringCharge',\n",
       "       'DirectorAssistedCalls', 'OverageMinutes', 'RoamingCalls',\n",
       "       'PercChangeMinutes', 'PercChangeRevenues', 'DroppedCalls',\n",
       "       'BlockedCalls', 'UnansweredCalls', 'CustomerCareCalls', 'ThreewayCalls',\n",
       "       'ReceivedCalls', 'OutboundCalls', 'InboundCalls', 'PeakCallsInOut',\n",
       "       'OffPeakCallsInOut', 'DroppedBlockedCalls', 'CallForwardingCalls',\n",
       "       'CallWaitingCalls', 'MonthsInService', 'UniqueSubs', 'ActiveSubs',\n",
       "       'Handsets', 'HandsetModels', 'CurrentEquipmentDays', 'AgeHH1', 'AgeHH2',\n",
       "       'ReferralsMadeBySubscriber', 'IncomeGroup', 'AdjustmentsToCreditRating',\n",
       "       'ChildrenInHH_Yes', 'HandsetRefurbished_Yes', 'HandsetWebCapable_Yes',\n",
       "       'TruckOwner_Yes', 'RVOwner_Yes', 'Homeownership_Unknown',\n",
       "       'BuysViaMailOrder_Yes', 'RespondsToMailOffers_Yes', 'NonUSTravel_Yes',\n",
       "       'OwnsComputer_Yes', 'HasCreditCard_Yes', 'NewCellphoneUser_Yes',\n",
       "       'HandsetPrice_150', 'HandsetPrice_30', 'HandsetPrice_Unknown',\n",
       "       'CreditRating_2-High', 'CreditRating_3-Good', 'CreditRating_4-Medium',\n",
       "       'CreditRating_5-Low', 'PrizmCode_Suburban', 'PrizmCode_Town',\n",
       "       'Occupation_Other', 'Occupation_Professional', 'MaritalStatus_Unknown',\n",
       "       'MaritalStatus_Yes'],\n",
       "      dtype='object')"
      ]
     },
     "execution_count": 72,
     "metadata": {},
     "output_type": "execute_result"
    }
   ],
   "source": [
    "x_train_filter=pd.DataFrame(x_train_filter,columns=colnames)\n",
    "x_train_filter.columns"
   ]
  },
  {
   "cell_type": "code",
   "execution_count": 73,
   "metadata": {},
   "outputs": [],
   "source": [
    "from sklearn.feature_selection import RFECV\n",
    "from sklearn.tree import DecisionTreeClassifier\n",
    "from sklearn.ensemble import RandomForestClassifier\n",
    "from sklearn.ensemble import GradientBoostingClassifier\n",
    "from sklearn.metrics import accuracy_score,roc_auc_score,precision_score,recall_score,confusion_matrix,SCORERS,roc_curve\n",
    "from sklearn.feature_selection import SelectFromModel, mutual_info_classif\n",
    "from mlxtend.feature_selection import SequentialFeatureSelector\n",
    "import xgboost\n",
    "from sklearn.model_selection import RandomizedSearchCV,GridSearchCV\n"
   ]
  },
  {
   "cell_type": "code",
   "execution_count": 74,
   "metadata": {},
   "outputs": [],
   "source": [
    "mi=mutual_info_classif(x_train_filter,y_train)"
   ]
  },
  {
   "cell_type": "code",
   "execution_count": 75,
   "metadata": {},
   "outputs": [],
   "source": [
    "mi=pd.Series(mi)\n",
    "mi.index=x_train_filter.columns"
   ]
  },
  {
   "cell_type": "code",
   "execution_count": 76,
   "metadata": {},
   "outputs": [
    {
     "data": {
      "text/plain": [
       "MonthsInService              0.013365\n",
       "CurrentEquipmentDays         0.012521\n",
       "HandsetWebCapable_Yes        0.008926\n",
       "TotalRecurringCharge         0.006381\n",
       "Homeownership_Unknown        0.006071\n",
       "HasCreditCard_Yes            0.005750\n",
       "DroppedCalls                 0.005597\n",
       "RVOwner_Yes                  0.004635\n",
       "MonthlyMinutes               0.004630\n",
       "ReceivedCalls                0.004586\n",
       "Handsets                     0.004580\n",
       "ThreewayCalls                0.004428\n",
       "ActiveSubs                   0.003684\n",
       "AgeHH2                       0.003680\n",
       "DirectorAssistedCalls        0.003178\n",
       "HandsetPrice_Unknown         0.003175\n",
       "OutboundCalls                0.003159\n",
       "CreditRating_3-Good          0.003069\n",
       "PercChangeMinutes            0.002927\n",
       "Occupation_Other             0.002697\n",
       "RespondsToMailOffers_Yes     0.002578\n",
       "PeakCallsInOut               0.002555\n",
       "ChildrenInHH_Yes             0.002464\n",
       "HandsetModels                0.002039\n",
       "CreditRating_5-Low           0.002033\n",
       "OffPeakCallsInOut            0.001756\n",
       "InboundCalls                 0.001671\n",
       "HandsetPrice_30              0.001644\n",
       "UniqueSubs                   0.001586\n",
       "NonUSTravel_Yes              0.001468\n",
       "UnansweredCalls              0.001379\n",
       "AgeHH1                       0.001350\n",
       "IncomeGroup                  0.001332\n",
       "CustomerCareCalls            0.001157\n",
       "MaritalStatus_Unknown        0.001129\n",
       "NewCellphoneUser_Yes         0.001093\n",
       "Occupation_Professional      0.001051\n",
       "PercChangeRevenues           0.000763\n",
       "RoamingCalls                 0.000663\n",
       "HandsetPrice_150             0.000607\n",
       "PrizmCode_Suburban           0.000363\n",
       "BlockedCalls                 0.000297\n",
       "CallWaitingCalls             0.000281\n",
       "TruckOwner_Yes               0.000277\n",
       "BuysViaMailOrder_Yes         0.000153\n",
       "OverageMinutes               0.000000\n",
       "MaritalStatus_Yes            0.000000\n",
       "DroppedBlockedCalls          0.000000\n",
       "CallForwardingCalls          0.000000\n",
       "ReferralsMadeBySubscriber    0.000000\n",
       "AdjustmentsToCreditRating    0.000000\n",
       "HandsetRefurbished_Yes       0.000000\n",
       "OwnsComputer_Yes             0.000000\n",
       "CreditRating_2-High          0.000000\n",
       "CreditRating_4-Medium        0.000000\n",
       "PrizmCode_Town               0.000000\n",
       "MonthlyRevenue               0.000000\n",
       "dtype: float64"
      ]
     },
     "execution_count": 76,
     "metadata": {},
     "output_type": "execute_result"
    }
   ],
   "source": [
    "mi.sort_values(ascending=False)"
   ]
  },
  {
   "cell_type": "code",
   "execution_count": 77,
   "metadata": {},
   "outputs": [],
   "source": [
    "#SCORERS"
   ]
  },
  {
   "cell_type": "code",
   "execution_count": 78,
   "metadata": {
    "scrolled": false
   },
   "outputs": [
    {
     "name": "stderr",
     "output_type": "stream",
     "text": [
      "[Parallel(n_jobs=-1)]: Using backend LokyBackend with 8 concurrent workers.\n",
      "[Parallel(n_jobs=-1)]: Done  25 tasks      | elapsed:   41.2s\n",
      "[Parallel(n_jobs=-1)]: Done  57 out of  57 | elapsed:   52.1s finished\n",
      "\n",
      "[2020-05-27 01:56:58] Features: 1/28 -- score: 0.5467362537788197[Parallel(n_jobs=-1)]: Using backend LokyBackend with 8 concurrent workers.\n",
      "[Parallel(n_jobs=-1)]: Done  25 tasks      | elapsed:   46.8s\n",
      "[Parallel(n_jobs=-1)]: Done  56 out of  56 | elapsed:  1.2min finished\n",
      "\n",
      "[2020-05-27 01:58:08] Features: 2/28 -- score: 0.5504154220153568[Parallel(n_jobs=-1)]: Using backend LokyBackend with 8 concurrent workers.\n",
      "[Parallel(n_jobs=-1)]: Done  25 tasks      | elapsed:   49.9s\n",
      "[Parallel(n_jobs=-1)]: Done  55 out of  55 | elapsed:  1.2min finished\n",
      "\n",
      "[2020-05-27 01:59:19] Features: 3/28 -- score: 0.553683764730417[Parallel(n_jobs=-1)]: Using backend LokyBackend with 8 concurrent workers.\n",
      "[Parallel(n_jobs=-1)]: Done  25 tasks      | elapsed:   52.2s\n",
      "[Parallel(n_jobs=-1)]: Done  54 out of  54 | elapsed:  1.2min finished\n",
      "\n",
      "[2020-05-27 02:00:34] Features: 4/28 -- score: 0.5533472656159198[Parallel(n_jobs=-1)]: Using backend LokyBackend with 8 concurrent workers.\n",
      "[Parallel(n_jobs=-1)]: Done  25 tasks      | elapsed:   53.5s\n",
      "[Parallel(n_jobs=-1)]: Done  53 out of  53 | elapsed:  1.2min finished\n",
      "\n",
      "[2020-05-27 02:01:50] Features: 5/28 -- score: 0.5529614488470697[Parallel(n_jobs=-1)]: Using backend LokyBackend with 8 concurrent workers.\n",
      "[Parallel(n_jobs=-1)]: Done  25 tasks      | elapsed:   57.9s\n",
      "[Parallel(n_jobs=-1)]: Done  52 out of  52 | elapsed:  1.3min finished\n",
      "\n",
      "[2020-05-27 02:03:09] Features: 6/28 -- score: 0.5525326073145357[Parallel(n_jobs=-1)]: Using backend LokyBackend with 8 concurrent workers.\n",
      "[Parallel(n_jobs=-1)]: Done  25 tasks      | elapsed:   55.8s\n",
      "[Parallel(n_jobs=-1)]: Done  51 out of  51 | elapsed:  1.3min finished\n",
      "\n",
      "[2020-05-27 02:04:27] Features: 7/28 -- score: 0.5515923793406404[Parallel(n_jobs=-1)]: Using backend LokyBackend with 8 concurrent workers.\n",
      "[Parallel(n_jobs=-1)]: Done  25 tasks      | elapsed:   56.3s\n",
      "[Parallel(n_jobs=-1)]: Done  50 out of  50 | elapsed:  1.3min finished\n",
      "\n",
      "[2020-05-27 02:05:45] Features: 8/28 -- score: 0.5511352979793374[Parallel(n_jobs=-1)]: Using backend LokyBackend with 8 concurrent workers.\n",
      "[Parallel(n_jobs=-1)]: Done  25 tasks      | elapsed:  1.0min\n",
      "[Parallel(n_jobs=-1)]: Done  49 out of  49 | elapsed:  1.4min finished\n",
      "\n",
      "[2020-05-27 02:07:11] Features: 9/28 -- score: 0.5493963052244218[Parallel(n_jobs=-1)]: Using backend LokyBackend with 8 concurrent workers.\n",
      "[Parallel(n_jobs=-1)]: Done  25 tasks      | elapsed:  1.1min\n",
      "[Parallel(n_jobs=-1)]: Done  48 out of  48 | elapsed:  1.4min finished\n",
      "\n",
      "[2020-05-27 02:08:38] Features: 10/28 -- score: 0.5477361012959053[Parallel(n_jobs=-1)]: Using backend LokyBackend with 8 concurrent workers.\n",
      "[Parallel(n_jobs=-1)]: Done  25 tasks      | elapsed:  1.1min\n",
      "[Parallel(n_jobs=-1)]: Done  47 out of  47 | elapsed:  1.4min finished\n",
      "\n",
      "[2020-05-27 02:10:05] Features: 11/28 -- score: 0.5467467207327114[Parallel(n_jobs=-1)]: Using backend LokyBackend with 8 concurrent workers.\n",
      "[Parallel(n_jobs=-1)]: Done  25 tasks      | elapsed:  1.1min\n",
      "[Parallel(n_jobs=-1)]: Done  46 out of  46 | elapsed:  1.4min finished\n",
      "\n",
      "[2020-05-27 02:11:32] Features: 12/28 -- score: 0.545318566181838[Parallel(n_jobs=-1)]: Using backend LokyBackend with 8 concurrent workers.\n",
      "[Parallel(n_jobs=-1)]: Done  25 tasks      | elapsed:  1.1min\n",
      "[Parallel(n_jobs=-1)]: Done  45 out of  45 | elapsed:  1.4min finished\n",
      "\n",
      "[2020-05-27 02:12:59] Features: 13/28 -- score: 0.5431039046426104[Parallel(n_jobs=-1)]: Using backend LokyBackend with 8 concurrent workers.\n",
      "[Parallel(n_jobs=-1)]: Done  25 tasks      | elapsed:  1.1min\n",
      "[Parallel(n_jobs=-1)]: Done  44 out of  44 | elapsed:  1.4min finished\n",
      "\n",
      "[2020-05-27 02:14:26] Features: 14/28 -- score: 0.5418258121753663[Parallel(n_jobs=-1)]: Using backend LokyBackend with 8 concurrent workers.\n",
      "[Parallel(n_jobs=-1)]: Done  25 tasks      | elapsed:  1.1min\n",
      "[Parallel(n_jobs=-1)]: Done  43 out of  43 | elapsed:  1.5min finished\n",
      "\n",
      "[2020-05-27 02:15:55] Features: 15/28 -- score: 0.5413210908712162[Parallel(n_jobs=-1)]: Using backend LokyBackend with 8 concurrent workers.\n",
      "[Parallel(n_jobs=-1)]: Done  25 tasks      | elapsed:  1.3min\n",
      "[Parallel(n_jobs=-1)]: Done  42 out of  42 | elapsed:  1.7min finished\n",
      "\n",
      "[2020-05-27 02:17:39] Features: 16/28 -- score: 0.5436937038670262[Parallel(n_jobs=-1)]: Using backend LokyBackend with 8 concurrent workers.\n",
      "[Parallel(n_jobs=-1)]: Done  25 tasks      | elapsed:  1.5min\n",
      "[Parallel(n_jobs=-1)]: Done  41 out of  41 | elapsed:  2.0min finished\n",
      "\n",
      "[2020-05-27 02:19:41] Features: 17/28 -- score: 0.571262429841093[Parallel(n_jobs=-1)]: Using backend LokyBackend with 8 concurrent workers.\n",
      "[Parallel(n_jobs=-1)]: Done  25 tasks      | elapsed:  1.7min\n",
      "[Parallel(n_jobs=-1)]: Done  40 out of  40 | elapsed:  2.2min finished\n",
      "\n",
      "[2020-05-27 02:21:53] Features: 18/28 -- score: 0.5847774746374665[Parallel(n_jobs=-1)]: Using backend LokyBackend with 8 concurrent workers.\n",
      "[Parallel(n_jobs=-1)]: Done  39 out of  39 | elapsed:  2.2min finished\n",
      "\n",
      "[2020-05-27 02:24:09] Features: 19/28 -- score: 0.5946424370034419[Parallel(n_jobs=-1)]: Using backend LokyBackend with 8 concurrent workers.\n",
      "[Parallel(n_jobs=-1)]: Done  38 out of  38 | elapsed:  2.3min finished\n",
      "\n",
      "[2020-05-27 02:26:29] Features: 20/28 -- score: 0.6010442257482552[Parallel(n_jobs=-1)]: Using backend LokyBackend with 8 concurrent workers.\n",
      "[Parallel(n_jobs=-1)]: Done  37 out of  37 | elapsed:  2.3min finished\n",
      "\n",
      "[2020-05-27 02:28:50] Features: 21/28 -- score: 0.6041303299318507[Parallel(n_jobs=-1)]: Using backend LokyBackend with 8 concurrent workers.\n",
      "[Parallel(n_jobs=-1)]: Done  36 out of  36 | elapsed:  2.2min finished\n",
      "\n",
      "[2020-05-27 02:31:04] Features: 22/28 -- score: 0.6046558864096586[Parallel(n_jobs=-1)]: Using backend LokyBackend with 8 concurrent workers.\n",
      "[Parallel(n_jobs=-1)]: Done  35 out of  35 | elapsed:  2.3min finished\n",
      "\n",
      "[2020-05-27 02:33:23] Features: 23/28 -- score: 0.6061373607144839[Parallel(n_jobs=-1)]: Using backend LokyBackend with 8 concurrent workers.\n",
      "[Parallel(n_jobs=-1)]: Done  34 out of  34 | elapsed:  2.2min finished\n",
      "\n",
      "[2020-05-27 02:35:34] Features: 24/28 -- score: 0.6065087706568822[Parallel(n_jobs=-1)]: Using backend LokyBackend with 8 concurrent workers.\n",
      "[Parallel(n_jobs=-1)]: Done  33 out of  33 | elapsed:  2.4min finished\n",
      "\n",
      "[2020-05-27 02:37:57] Features: 25/28 -- score: 0.6061970571858519[Parallel(n_jobs=-1)]: Using backend LokyBackend with 8 concurrent workers.\n",
      "[Parallel(n_jobs=-1)]: Done  32 out of  32 | elapsed:  2.0min finished\n",
      "\n",
      "[2020-05-27 02:39:58] Features: 26/28 -- score: 0.6075564308508833[Parallel(n_jobs=-1)]: Using backend LokyBackend with 8 concurrent workers.\n",
      "[Parallel(n_jobs=-1)]: Done  31 out of  31 | elapsed:  2.0min finished\n",
      "\n",
      "[2020-05-27 02:41:57] Features: 27/28 -- score: 0.609680228509993[Parallel(n_jobs=-1)]: Using backend LokyBackend with 8 concurrent workers.\n",
      "[Parallel(n_jobs=-1)]: Done  30 out of  30 | elapsed:  1.9min finished\n",
      "\n",
      "[2020-05-27 02:43:53] Features: 28/28 -- score: 0.6119693366128683"
     ]
    }
   ],
   "source": [
    "sfs=SequentialFeatureSelector(RandomForestClassifier(n_estimators=50,n_jobs=-1,random_state=0),\n",
    "                              k_features=28,\n",
    "                              scoring='roc_auc',\n",
    "                              floating=False,\n",
    "                              verbose=2,\n",
    "                              n_jobs=-1,\n",
    "                              cv=3\n",
    "                             ).fit(x_train_filter,y_train)"
   ]
  },
  {
   "cell_type": "code",
   "execution_count": 136,
   "metadata": {},
   "outputs": [
    {
     "data": {
      "text/html": [
       "<div>\n",
       "<style scoped>\n",
       "    .dataframe tbody tr th:only-of-type {\n",
       "        vertical-align: middle;\n",
       "    }\n",
       "\n",
       "    .dataframe tbody tr th {\n",
       "        vertical-align: top;\n",
       "    }\n",
       "\n",
       "    .dataframe thead th {\n",
       "        text-align: right;\n",
       "    }\n",
       "</style>\n",
       "<table border=\"1\" class=\"dataframe\">\n",
       "  <thead>\n",
       "    <tr style=\"text-align: right;\">\n",
       "      <th></th>\n",
       "      <th>CustomerID</th>\n",
       "      <th>Churn</th>\n",
       "      <th>MonthlyRevenue</th>\n",
       "      <th>MonthlyMinutes</th>\n",
       "      <th>TotalRecurringCharge</th>\n",
       "      <th>DirectorAssistedCalls</th>\n",
       "      <th>OverageMinutes</th>\n",
       "      <th>RoamingCalls</th>\n",
       "      <th>PercChangeMinutes</th>\n",
       "      <th>PercChangeRevenues</th>\n",
       "      <th>DroppedCalls</th>\n",
       "      <th>BlockedCalls</th>\n",
       "      <th>UnansweredCalls</th>\n",
       "      <th>CustomerCareCalls</th>\n",
       "      <th>ThreewayCalls</th>\n",
       "      <th>ReceivedCalls</th>\n",
       "      <th>OutboundCalls</th>\n",
       "      <th>InboundCalls</th>\n",
       "      <th>PeakCallsInOut</th>\n",
       "      <th>OffPeakCallsInOut</th>\n",
       "      <th>DroppedBlockedCalls</th>\n",
       "      <th>CallForwardingCalls</th>\n",
       "      <th>CallWaitingCalls</th>\n",
       "      <th>MonthsInService</th>\n",
       "      <th>UniqueSubs</th>\n",
       "      <th>ActiveSubs</th>\n",
       "      <th>ServiceArea</th>\n",
       "      <th>Handsets</th>\n",
       "      <th>HandsetModels</th>\n",
       "      <th>CurrentEquipmentDays</th>\n",
       "      <th>AgeHH1</th>\n",
       "      <th>AgeHH2</th>\n",
       "      <th>ChildrenInHH</th>\n",
       "      <th>HandsetRefurbished</th>\n",
       "      <th>HandsetWebCapable</th>\n",
       "      <th>TruckOwner</th>\n",
       "      <th>RVOwner</th>\n",
       "      <th>Homeownership</th>\n",
       "      <th>BuysViaMailOrder</th>\n",
       "      <th>RespondsToMailOffers</th>\n",
       "      <th>OptOutMailings</th>\n",
       "      <th>NonUSTravel</th>\n",
       "      <th>OwnsComputer</th>\n",
       "      <th>HasCreditCard</th>\n",
       "      <th>RetentionCalls</th>\n",
       "      <th>RetentionOffersAccepted</th>\n",
       "      <th>NewCellphoneUser</th>\n",
       "      <th>NotNewCellphoneUser</th>\n",
       "      <th>ReferralsMadeBySubscriber</th>\n",
       "      <th>IncomeGroup</th>\n",
       "      <th>OwnsMotorcycle</th>\n",
       "      <th>AdjustmentsToCreditRating</th>\n",
       "      <th>HandsetPrice</th>\n",
       "      <th>MadeCallToRetentionTeam</th>\n",
       "      <th>CreditRating</th>\n",
       "      <th>PrizmCode</th>\n",
       "      <th>Occupation</th>\n",
       "      <th>MaritalStatus</th>\n",
       "    </tr>\n",
       "  </thead>\n",
       "  <tbody>\n",
       "    <tr>\n",
       "      <th>0</th>\n",
       "      <td>3000002</td>\n",
       "      <td>1</td>\n",
       "      <td>24.00</td>\n",
       "      <td>219.0</td>\n",
       "      <td>22.0</td>\n",
       "      <td>0.25</td>\n",
       "      <td>0.0</td>\n",
       "      <td>0.0</td>\n",
       "      <td>-157.0</td>\n",
       "      <td>-19.0</td>\n",
       "      <td>0.7</td>\n",
       "      <td>0.7</td>\n",
       "      <td>6.3</td>\n",
       "      <td>0.0</td>\n",
       "      <td>0.0</td>\n",
       "      <td>97.2</td>\n",
       "      <td>0.0</td>\n",
       "      <td>0.0</td>\n",
       "      <td>58.0</td>\n",
       "      <td>24.0</td>\n",
       "      <td>1.3</td>\n",
       "      <td>0.0</td>\n",
       "      <td>0.3</td>\n",
       "      <td>61</td>\n",
       "      <td>2</td>\n",
       "      <td>1</td>\n",
       "      <td>SEAPOR503</td>\n",
       "      <td>2.0</td>\n",
       "      <td>2.0</td>\n",
       "      <td>361.0</td>\n",
       "      <td>62.0</td>\n",
       "      <td>0.0</td>\n",
       "      <td>No</td>\n",
       "      <td>No</td>\n",
       "      <td>Yes</td>\n",
       "      <td>No</td>\n",
       "      <td>No</td>\n",
       "      <td>Known</td>\n",
       "      <td>Yes</td>\n",
       "      <td>Yes</td>\n",
       "      <td>No</td>\n",
       "      <td>No</td>\n",
       "      <td>Yes</td>\n",
       "      <td>Yes</td>\n",
       "      <td>1</td>\n",
       "      <td>0</td>\n",
       "      <td>No</td>\n",
       "      <td>No</td>\n",
       "      <td>0</td>\n",
       "      <td>4</td>\n",
       "      <td>No</td>\n",
       "      <td>0</td>\n",
       "      <td>30</td>\n",
       "      <td>Yes</td>\n",
       "      <td>1-Highest</td>\n",
       "      <td>Suburban</td>\n",
       "      <td>Professional</td>\n",
       "      <td>No</td>\n",
       "    </tr>\n",
       "    <tr>\n",
       "      <th>1</th>\n",
       "      <td>3000010</td>\n",
       "      <td>1</td>\n",
       "      <td>16.99</td>\n",
       "      <td>10.0</td>\n",
       "      <td>17.0</td>\n",
       "      <td>0.00</td>\n",
       "      <td>0.0</td>\n",
       "      <td>0.0</td>\n",
       "      <td>-4.0</td>\n",
       "      <td>0.0</td>\n",
       "      <td>0.3</td>\n",
       "      <td>0.0</td>\n",
       "      <td>2.7</td>\n",
       "      <td>0.0</td>\n",
       "      <td>0.0</td>\n",
       "      <td>0.0</td>\n",
       "      <td>0.0</td>\n",
       "      <td>0.0</td>\n",
       "      <td>5.0</td>\n",
       "      <td>1.0</td>\n",
       "      <td>0.3</td>\n",
       "      <td>0.0</td>\n",
       "      <td>0.0</td>\n",
       "      <td>58</td>\n",
       "      <td>1</td>\n",
       "      <td>1</td>\n",
       "      <td>PITHOM412</td>\n",
       "      <td>2.0</td>\n",
       "      <td>1.0</td>\n",
       "      <td>1504.0</td>\n",
       "      <td>40.0</td>\n",
       "      <td>42.0</td>\n",
       "      <td>Yes</td>\n",
       "      <td>No</td>\n",
       "      <td>No</td>\n",
       "      <td>No</td>\n",
       "      <td>No</td>\n",
       "      <td>Known</td>\n",
       "      <td>Yes</td>\n",
       "      <td>Yes</td>\n",
       "      <td>No</td>\n",
       "      <td>No</td>\n",
       "      <td>Yes</td>\n",
       "      <td>Yes</td>\n",
       "      <td>0</td>\n",
       "      <td>0</td>\n",
       "      <td>Yes</td>\n",
       "      <td>No</td>\n",
       "      <td>0</td>\n",
       "      <td>5</td>\n",
       "      <td>No</td>\n",
       "      <td>0</td>\n",
       "      <td>30</td>\n",
       "      <td>No</td>\n",
       "      <td>4-Medium</td>\n",
       "      <td>Suburban</td>\n",
       "      <td>Professional</td>\n",
       "      <td>Yes</td>\n",
       "    </tr>\n",
       "    <tr>\n",
       "      <th>2</th>\n",
       "      <td>3000014</td>\n",
       "      <td>0</td>\n",
       "      <td>38.00</td>\n",
       "      <td>8.0</td>\n",
       "      <td>38.0</td>\n",
       "      <td>0.00</td>\n",
       "      <td>0.0</td>\n",
       "      <td>0.0</td>\n",
       "      <td>-2.0</td>\n",
       "      <td>0.0</td>\n",
       "      <td>0.0</td>\n",
       "      <td>0.0</td>\n",
       "      <td>0.0</td>\n",
       "      <td>0.0</td>\n",
       "      <td>0.0</td>\n",
       "      <td>0.4</td>\n",
       "      <td>0.3</td>\n",
       "      <td>0.0</td>\n",
       "      <td>1.3</td>\n",
       "      <td>3.7</td>\n",
       "      <td>0.0</td>\n",
       "      <td>0.0</td>\n",
       "      <td>0.0</td>\n",
       "      <td>60</td>\n",
       "      <td>1</td>\n",
       "      <td>1</td>\n",
       "      <td>MILMIL414</td>\n",
       "      <td>1.0</td>\n",
       "      <td>1.0</td>\n",
       "      <td>1812.0</td>\n",
       "      <td>26.0</td>\n",
       "      <td>26.0</td>\n",
       "      <td>Yes</td>\n",
       "      <td>No</td>\n",
       "      <td>No</td>\n",
       "      <td>No</td>\n",
       "      <td>No</td>\n",
       "      <td>Unknown</td>\n",
       "      <td>No</td>\n",
       "      <td>No</td>\n",
       "      <td>No</td>\n",
       "      <td>No</td>\n",
       "      <td>No</td>\n",
       "      <td>Yes</td>\n",
       "      <td>0</td>\n",
       "      <td>0</td>\n",
       "      <td>Yes</td>\n",
       "      <td>No</td>\n",
       "      <td>0</td>\n",
       "      <td>6</td>\n",
       "      <td>No</td>\n",
       "      <td>0</td>\n",
       "      <td>Unknown</td>\n",
       "      <td>No</td>\n",
       "      <td>3-Good</td>\n",
       "      <td>Town</td>\n",
       "      <td>Crafts</td>\n",
       "      <td>Yes</td>\n",
       "    </tr>\n",
       "    <tr>\n",
       "      <th>3</th>\n",
       "      <td>3000022</td>\n",
       "      <td>0</td>\n",
       "      <td>82.28</td>\n",
       "      <td>1312.0</td>\n",
       "      <td>75.0</td>\n",
       "      <td>1.24</td>\n",
       "      <td>0.0</td>\n",
       "      <td>0.0</td>\n",
       "      <td>157.0</td>\n",
       "      <td>8.1</td>\n",
       "      <td>52.0</td>\n",
       "      <td>7.7</td>\n",
       "      <td>76.0</td>\n",
       "      <td>4.3</td>\n",
       "      <td>1.3</td>\n",
       "      <td>200.3</td>\n",
       "      <td>370.3</td>\n",
       "      <td>147.0</td>\n",
       "      <td>555.7</td>\n",
       "      <td>303.7</td>\n",
       "      <td>59.7</td>\n",
       "      <td>0.0</td>\n",
       "      <td>22.7</td>\n",
       "      <td>59</td>\n",
       "      <td>2</td>\n",
       "      <td>2</td>\n",
       "      <td>PITHOM412</td>\n",
       "      <td>9.0</td>\n",
       "      <td>4.0</td>\n",
       "      <td>458.0</td>\n",
       "      <td>30.0</td>\n",
       "      <td>0.0</td>\n",
       "      <td>No</td>\n",
       "      <td>No</td>\n",
       "      <td>Yes</td>\n",
       "      <td>No</td>\n",
       "      <td>No</td>\n",
       "      <td>Known</td>\n",
       "      <td>Yes</td>\n",
       "      <td>Yes</td>\n",
       "      <td>No</td>\n",
       "      <td>No</td>\n",
       "      <td>No</td>\n",
       "      <td>Yes</td>\n",
       "      <td>0</td>\n",
       "      <td>0</td>\n",
       "      <td>Yes</td>\n",
       "      <td>No</td>\n",
       "      <td>0</td>\n",
       "      <td>6</td>\n",
       "      <td>No</td>\n",
       "      <td>0</td>\n",
       "      <td>10</td>\n",
       "      <td>No</td>\n",
       "      <td>4-Medium</td>\n",
       "      <td>Other</td>\n",
       "      <td>Other</td>\n",
       "      <td>No</td>\n",
       "    </tr>\n",
       "    <tr>\n",
       "      <th>4</th>\n",
       "      <td>3000026</td>\n",
       "      <td>1</td>\n",
       "      <td>17.14</td>\n",
       "      <td>0.0</td>\n",
       "      <td>17.0</td>\n",
       "      <td>0.00</td>\n",
       "      <td>0.0</td>\n",
       "      <td>0.0</td>\n",
       "      <td>0.0</td>\n",
       "      <td>-0.2</td>\n",
       "      <td>0.0</td>\n",
       "      <td>0.0</td>\n",
       "      <td>0.0</td>\n",
       "      <td>0.0</td>\n",
       "      <td>0.0</td>\n",
       "      <td>0.0</td>\n",
       "      <td>0.0</td>\n",
       "      <td>0.0</td>\n",
       "      <td>0.0</td>\n",
       "      <td>0.0</td>\n",
       "      <td>0.0</td>\n",
       "      <td>0.0</td>\n",
       "      <td>0.0</td>\n",
       "      <td>53</td>\n",
       "      <td>2</td>\n",
       "      <td>2</td>\n",
       "      <td>OKCTUL918</td>\n",
       "      <td>4.0</td>\n",
       "      <td>3.0</td>\n",
       "      <td>852.0</td>\n",
       "      <td>46.0</td>\n",
       "      <td>54.0</td>\n",
       "      <td>No</td>\n",
       "      <td>No</td>\n",
       "      <td>No</td>\n",
       "      <td>No</td>\n",
       "      <td>No</td>\n",
       "      <td>Known</td>\n",
       "      <td>Yes</td>\n",
       "      <td>Yes</td>\n",
       "      <td>No</td>\n",
       "      <td>No</td>\n",
       "      <td>Yes</td>\n",
       "      <td>Yes</td>\n",
       "      <td>0</td>\n",
       "      <td>0</td>\n",
       "      <td>No</td>\n",
       "      <td>Yes</td>\n",
       "      <td>0</td>\n",
       "      <td>9</td>\n",
       "      <td>No</td>\n",
       "      <td>1</td>\n",
       "      <td>10</td>\n",
       "      <td>No</td>\n",
       "      <td>1-Highest</td>\n",
       "      <td>Other</td>\n",
       "      <td>Professional</td>\n",
       "      <td>Yes</td>\n",
       "    </tr>\n",
       "    <tr>\n",
       "      <th>5</th>\n",
       "      <td>3000030</td>\n",
       "      <td>0</td>\n",
       "      <td>38.05</td>\n",
       "      <td>682.0</td>\n",
       "      <td>52.0</td>\n",
       "      <td>0.25</td>\n",
       "      <td>0.0</td>\n",
       "      <td>0.0</td>\n",
       "      <td>148.0</td>\n",
       "      <td>-3.1</td>\n",
       "      <td>9.0</td>\n",
       "      <td>1.7</td>\n",
       "      <td>13.0</td>\n",
       "      <td>0.7</td>\n",
       "      <td>0.0</td>\n",
       "      <td>42.2</td>\n",
       "      <td>6.7</td>\n",
       "      <td>0.0</td>\n",
       "      <td>33.3</td>\n",
       "      <td>53.0</td>\n",
       "      <td>10.7</td>\n",
       "      <td>0.0</td>\n",
       "      <td>0.7</td>\n",
       "      <td>53</td>\n",
       "      <td>1</td>\n",
       "      <td>1</td>\n",
       "      <td>OKCTUL918</td>\n",
       "      <td>3.0</td>\n",
       "      <td>2.0</td>\n",
       "      <td>231.0</td>\n",
       "      <td>28.0</td>\n",
       "      <td>0.0</td>\n",
       "      <td>No</td>\n",
       "      <td>No</td>\n",
       "      <td>Yes</td>\n",
       "      <td>No</td>\n",
       "      <td>No</td>\n",
       "      <td>Known</td>\n",
       "      <td>No</td>\n",
       "      <td>No</td>\n",
       "      <td>No</td>\n",
       "      <td>Yes</td>\n",
       "      <td>No</td>\n",
       "      <td>Yes</td>\n",
       "      <td>0</td>\n",
       "      <td>0</td>\n",
       "      <td>Yes</td>\n",
       "      <td>No</td>\n",
       "      <td>0</td>\n",
       "      <td>1</td>\n",
       "      <td>No</td>\n",
       "      <td>1</td>\n",
       "      <td>30</td>\n",
       "      <td>No</td>\n",
       "      <td>3-Good</td>\n",
       "      <td>Other</td>\n",
       "      <td>Other</td>\n",
       "      <td>Yes</td>\n",
       "    </tr>\n",
       "    <tr>\n",
       "      <th>6</th>\n",
       "      <td>3000038</td>\n",
       "      <td>0</td>\n",
       "      <td>31.66</td>\n",
       "      <td>26.0</td>\n",
       "      <td>30.0</td>\n",
       "      <td>0.25</td>\n",
       "      <td>0.0</td>\n",
       "      <td>0.0</td>\n",
       "      <td>60.0</td>\n",
       "      <td>4.0</td>\n",
       "      <td>0.0</td>\n",
       "      <td>1.0</td>\n",
       "      <td>2.3</td>\n",
       "      <td>0.0</td>\n",
       "      <td>0.0</td>\n",
       "      <td>0.0</td>\n",
       "      <td>0.0</td>\n",
       "      <td>0.0</td>\n",
       "      <td>1.7</td>\n",
       "      <td>1.7</td>\n",
       "      <td>1.0</td>\n",
       "      <td>0.0</td>\n",
       "      <td>0.0</td>\n",
       "      <td>57</td>\n",
       "      <td>2</td>\n",
       "      <td>2</td>\n",
       "      <td>OKCTUL918</td>\n",
       "      <td>2.0</td>\n",
       "      <td>2.0</td>\n",
       "      <td>601.0</td>\n",
       "      <td>52.0</td>\n",
       "      <td>58.0</td>\n",
       "      <td>No</td>\n",
       "      <td>No</td>\n",
       "      <td>Yes</td>\n",
       "      <td>No</td>\n",
       "      <td>No</td>\n",
       "      <td>Known</td>\n",
       "      <td>Yes</td>\n",
       "      <td>Yes</td>\n",
       "      <td>No</td>\n",
       "      <td>Yes</td>\n",
       "      <td>No</td>\n",
       "      <td>Yes</td>\n",
       "      <td>0</td>\n",
       "      <td>0</td>\n",
       "      <td>No</td>\n",
       "      <td>Yes</td>\n",
       "      <td>0</td>\n",
       "      <td>9</td>\n",
       "      <td>No</td>\n",
       "      <td>1</td>\n",
       "      <td>30</td>\n",
       "      <td>No</td>\n",
       "      <td>1-Highest</td>\n",
       "      <td>Other</td>\n",
       "      <td>Self</td>\n",
       "      <td>Yes</td>\n",
       "    </tr>\n",
       "    <tr>\n",
       "      <th>7</th>\n",
       "      <td>3000042</td>\n",
       "      <td>0</td>\n",
       "      <td>62.13</td>\n",
       "      <td>98.0</td>\n",
       "      <td>66.0</td>\n",
       "      <td>2.48</td>\n",
       "      <td>0.0</td>\n",
       "      <td>0.0</td>\n",
       "      <td>24.0</td>\n",
       "      <td>6.8</td>\n",
       "      <td>0.0</td>\n",
       "      <td>0.3</td>\n",
       "      <td>4.0</td>\n",
       "      <td>4.0</td>\n",
       "      <td>0.0</td>\n",
       "      <td>0.0</td>\n",
       "      <td>3.7</td>\n",
       "      <td>0.0</td>\n",
       "      <td>7.7</td>\n",
       "      <td>7.3</td>\n",
       "      <td>0.3</td>\n",
       "      <td>0.0</td>\n",
       "      <td>0.0</td>\n",
       "      <td>59</td>\n",
       "      <td>2</td>\n",
       "      <td>2</td>\n",
       "      <td>OKCOKC405</td>\n",
       "      <td>3.0</td>\n",
       "      <td>3.0</td>\n",
       "      <td>464.0</td>\n",
       "      <td>46.0</td>\n",
       "      <td>46.0</td>\n",
       "      <td>Yes</td>\n",
       "      <td>No</td>\n",
       "      <td>Yes</td>\n",
       "      <td>No</td>\n",
       "      <td>No</td>\n",
       "      <td>Known</td>\n",
       "      <td>Yes</td>\n",
       "      <td>Yes</td>\n",
       "      <td>No</td>\n",
       "      <td>No</td>\n",
       "      <td>No</td>\n",
       "      <td>Yes</td>\n",
       "      <td>0</td>\n",
       "      <td>0</td>\n",
       "      <td>Yes</td>\n",
       "      <td>No</td>\n",
       "      <td>0</td>\n",
       "      <td>6</td>\n",
       "      <td>No</td>\n",
       "      <td>0</td>\n",
       "      <td>30</td>\n",
       "      <td>No</td>\n",
       "      <td>1-Highest</td>\n",
       "      <td>Other</td>\n",
       "      <td>Professional</td>\n",
       "      <td>No</td>\n",
       "    </tr>\n",
       "    <tr>\n",
       "      <th>8</th>\n",
       "      <td>3000046</td>\n",
       "      <td>0</td>\n",
       "      <td>35.30</td>\n",
       "      <td>24.0</td>\n",
       "      <td>35.0</td>\n",
       "      <td>0.00</td>\n",
       "      <td>0.0</td>\n",
       "      <td>0.0</td>\n",
       "      <td>20.0</td>\n",
       "      <td>-0.3</td>\n",
       "      <td>0.0</td>\n",
       "      <td>0.0</td>\n",
       "      <td>1.0</td>\n",
       "      <td>0.0</td>\n",
       "      <td>0.0</td>\n",
       "      <td>2.4</td>\n",
       "      <td>4.0</td>\n",
       "      <td>1.7</td>\n",
       "      <td>9.3</td>\n",
       "      <td>1.7</td>\n",
       "      <td>0.0</td>\n",
       "      <td>0.0</td>\n",
       "      <td>0.0</td>\n",
       "      <td>53</td>\n",
       "      <td>3</td>\n",
       "      <td>3</td>\n",
       "      <td>SANMCA210</td>\n",
       "      <td>4.0</td>\n",
       "      <td>3.0</td>\n",
       "      <td>544.0</td>\n",
       "      <td>36.0</td>\n",
       "      <td>34.0</td>\n",
       "      <td>Yes</td>\n",
       "      <td>No</td>\n",
       "      <td>Yes</td>\n",
       "      <td>No</td>\n",
       "      <td>No</td>\n",
       "      <td>Known</td>\n",
       "      <td>No</td>\n",
       "      <td>No</td>\n",
       "      <td>No</td>\n",
       "      <td>No</td>\n",
       "      <td>No</td>\n",
       "      <td>Yes</td>\n",
       "      <td>0</td>\n",
       "      <td>0</td>\n",
       "      <td>Yes</td>\n",
       "      <td>No</td>\n",
       "      <td>0</td>\n",
       "      <td>9</td>\n",
       "      <td>No</td>\n",
       "      <td>0</td>\n",
       "      <td>80</td>\n",
       "      <td>No</td>\n",
       "      <td>1-Highest</td>\n",
       "      <td>Other</td>\n",
       "      <td>Other</td>\n",
       "      <td>Yes</td>\n",
       "    </tr>\n",
       "    <tr>\n",
       "      <th>9</th>\n",
       "      <td>3000050</td>\n",
       "      <td>0</td>\n",
       "      <td>81.00</td>\n",
       "      <td>1056.0</td>\n",
       "      <td>75.0</td>\n",
       "      <td>0.00</td>\n",
       "      <td>0.0</td>\n",
       "      <td>0.0</td>\n",
       "      <td>43.0</td>\n",
       "      <td>2.4</td>\n",
       "      <td>0.0</td>\n",
       "      <td>0.0</td>\n",
       "      <td>0.0</td>\n",
       "      <td>0.0</td>\n",
       "      <td>0.0</td>\n",
       "      <td>0.0</td>\n",
       "      <td>0.0</td>\n",
       "      <td>0.0</td>\n",
       "      <td>0.0</td>\n",
       "      <td>0.0</td>\n",
       "      <td>0.0</td>\n",
       "      <td>0.0</td>\n",
       "      <td>0.0</td>\n",
       "      <td>55</td>\n",
       "      <td>1</td>\n",
       "      <td>1</td>\n",
       "      <td>PITHOM412</td>\n",
       "      <td>9.0</td>\n",
       "      <td>5.0</td>\n",
       "      <td>388.0</td>\n",
       "      <td>46.0</td>\n",
       "      <td>68.0</td>\n",
       "      <td>No</td>\n",
       "      <td>No</td>\n",
       "      <td>Yes</td>\n",
       "      <td>No</td>\n",
       "      <td>No</td>\n",
       "      <td>Known</td>\n",
       "      <td>No</td>\n",
       "      <td>No</td>\n",
       "      <td>No</td>\n",
       "      <td>No</td>\n",
       "      <td>Yes</td>\n",
       "      <td>Yes</td>\n",
       "      <td>0</td>\n",
       "      <td>0</td>\n",
       "      <td>Yes</td>\n",
       "      <td>No</td>\n",
       "      <td>0</td>\n",
       "      <td>5</td>\n",
       "      <td>No</td>\n",
       "      <td>1</td>\n",
       "      <td>30</td>\n",
       "      <td>No</td>\n",
       "      <td>3-Good</td>\n",
       "      <td>Other</td>\n",
       "      <td>Professional</td>\n",
       "      <td>No</td>\n",
       "    </tr>\n",
       "  </tbody>\n",
       "</table>\n",
       "</div>"
      ],
      "text/plain": [
       "   CustomerID  Churn  MonthlyRevenue  MonthlyMinutes  TotalRecurringCharge  \\\n",
       "0     3000002      1           24.00           219.0                  22.0   \n",
       "1     3000010      1           16.99            10.0                  17.0   \n",
       "2     3000014      0           38.00             8.0                  38.0   \n",
       "3     3000022      0           82.28          1312.0                  75.0   \n",
       "4     3000026      1           17.14             0.0                  17.0   \n",
       "5     3000030      0           38.05           682.0                  52.0   \n",
       "6     3000038      0           31.66            26.0                  30.0   \n",
       "7     3000042      0           62.13            98.0                  66.0   \n",
       "8     3000046      0           35.30            24.0                  35.0   \n",
       "9     3000050      0           81.00          1056.0                  75.0   \n",
       "\n",
       "   DirectorAssistedCalls  OverageMinutes  RoamingCalls  PercChangeMinutes  \\\n",
       "0                   0.25             0.0           0.0             -157.0   \n",
       "1                   0.00             0.0           0.0               -4.0   \n",
       "2                   0.00             0.0           0.0               -2.0   \n",
       "3                   1.24             0.0           0.0              157.0   \n",
       "4                   0.00             0.0           0.0                0.0   \n",
       "5                   0.25             0.0           0.0              148.0   \n",
       "6                   0.25             0.0           0.0               60.0   \n",
       "7                   2.48             0.0           0.0               24.0   \n",
       "8                   0.00             0.0           0.0               20.0   \n",
       "9                   0.00             0.0           0.0               43.0   \n",
       "\n",
       "   PercChangeRevenues  DroppedCalls  BlockedCalls  UnansweredCalls  \\\n",
       "0               -19.0           0.7           0.7              6.3   \n",
       "1                 0.0           0.3           0.0              2.7   \n",
       "2                 0.0           0.0           0.0              0.0   \n",
       "3                 8.1          52.0           7.7             76.0   \n",
       "4                -0.2           0.0           0.0              0.0   \n",
       "5                -3.1           9.0           1.7             13.0   \n",
       "6                 4.0           0.0           1.0              2.3   \n",
       "7                 6.8           0.0           0.3              4.0   \n",
       "8                -0.3           0.0           0.0              1.0   \n",
       "9                 2.4           0.0           0.0              0.0   \n",
       "\n",
       "   CustomerCareCalls  ThreewayCalls  ReceivedCalls  OutboundCalls  \\\n",
       "0                0.0            0.0           97.2            0.0   \n",
       "1                0.0            0.0            0.0            0.0   \n",
       "2                0.0            0.0            0.4            0.3   \n",
       "3                4.3            1.3          200.3          370.3   \n",
       "4                0.0            0.0            0.0            0.0   \n",
       "5                0.7            0.0           42.2            6.7   \n",
       "6                0.0            0.0            0.0            0.0   \n",
       "7                4.0            0.0            0.0            3.7   \n",
       "8                0.0            0.0            2.4            4.0   \n",
       "9                0.0            0.0            0.0            0.0   \n",
       "\n",
       "   InboundCalls  PeakCallsInOut  OffPeakCallsInOut  DroppedBlockedCalls  \\\n",
       "0           0.0            58.0               24.0                  1.3   \n",
       "1           0.0             5.0                1.0                  0.3   \n",
       "2           0.0             1.3                3.7                  0.0   \n",
       "3         147.0           555.7              303.7                 59.7   \n",
       "4           0.0             0.0                0.0                  0.0   \n",
       "5           0.0            33.3               53.0                 10.7   \n",
       "6           0.0             1.7                1.7                  1.0   \n",
       "7           0.0             7.7                7.3                  0.3   \n",
       "8           1.7             9.3                1.7                  0.0   \n",
       "9           0.0             0.0                0.0                  0.0   \n",
       "\n",
       "   CallForwardingCalls  CallWaitingCalls  MonthsInService  UniqueSubs  \\\n",
       "0                  0.0               0.3               61           2   \n",
       "1                  0.0               0.0               58           1   \n",
       "2                  0.0               0.0               60           1   \n",
       "3                  0.0              22.7               59           2   \n",
       "4                  0.0               0.0               53           2   \n",
       "5                  0.0               0.7               53           1   \n",
       "6                  0.0               0.0               57           2   \n",
       "7                  0.0               0.0               59           2   \n",
       "8                  0.0               0.0               53           3   \n",
       "9                  0.0               0.0               55           1   \n",
       "\n",
       "   ActiveSubs ServiceArea  Handsets  HandsetModels  CurrentEquipmentDays  \\\n",
       "0           1   SEAPOR503       2.0            2.0                 361.0   \n",
       "1           1   PITHOM412       2.0            1.0                1504.0   \n",
       "2           1   MILMIL414       1.0            1.0                1812.0   \n",
       "3           2   PITHOM412       9.0            4.0                 458.0   \n",
       "4           2   OKCTUL918       4.0            3.0                 852.0   \n",
       "5           1   OKCTUL918       3.0            2.0                 231.0   \n",
       "6           2   OKCTUL918       2.0            2.0                 601.0   \n",
       "7           2   OKCOKC405       3.0            3.0                 464.0   \n",
       "8           3   SANMCA210       4.0            3.0                 544.0   \n",
       "9           1   PITHOM412       9.0            5.0                 388.0   \n",
       "\n",
       "   AgeHH1  AgeHH2 ChildrenInHH HandsetRefurbished HandsetWebCapable  \\\n",
       "0    62.0     0.0           No                 No               Yes   \n",
       "1    40.0    42.0          Yes                 No                No   \n",
       "2    26.0    26.0          Yes                 No                No   \n",
       "3    30.0     0.0           No                 No               Yes   \n",
       "4    46.0    54.0           No                 No                No   \n",
       "5    28.0     0.0           No                 No               Yes   \n",
       "6    52.0    58.0           No                 No               Yes   \n",
       "7    46.0    46.0          Yes                 No               Yes   \n",
       "8    36.0    34.0          Yes                 No               Yes   \n",
       "9    46.0    68.0           No                 No               Yes   \n",
       "\n",
       "  TruckOwner RVOwner Homeownership BuysViaMailOrder RespondsToMailOffers  \\\n",
       "0         No      No         Known              Yes                  Yes   \n",
       "1         No      No         Known              Yes                  Yes   \n",
       "2         No      No       Unknown               No                   No   \n",
       "3         No      No         Known              Yes                  Yes   \n",
       "4         No      No         Known              Yes                  Yes   \n",
       "5         No      No         Known               No                   No   \n",
       "6         No      No         Known              Yes                  Yes   \n",
       "7         No      No         Known              Yes                  Yes   \n",
       "8         No      No         Known               No                   No   \n",
       "9         No      No         Known               No                   No   \n",
       "\n",
       "  OptOutMailings NonUSTravel OwnsComputer HasCreditCard  RetentionCalls  \\\n",
       "0             No          No          Yes           Yes               1   \n",
       "1             No          No          Yes           Yes               0   \n",
       "2             No          No           No           Yes               0   \n",
       "3             No          No           No           Yes               0   \n",
       "4             No          No          Yes           Yes               0   \n",
       "5             No         Yes           No           Yes               0   \n",
       "6             No         Yes           No           Yes               0   \n",
       "7             No          No           No           Yes               0   \n",
       "8             No          No           No           Yes               0   \n",
       "9             No          No          Yes           Yes               0   \n",
       "\n",
       "   RetentionOffersAccepted NewCellphoneUser NotNewCellphoneUser  \\\n",
       "0                        0               No                  No   \n",
       "1                        0              Yes                  No   \n",
       "2                        0              Yes                  No   \n",
       "3                        0              Yes                  No   \n",
       "4                        0               No                 Yes   \n",
       "5                        0              Yes                  No   \n",
       "6                        0               No                 Yes   \n",
       "7                        0              Yes                  No   \n",
       "8                        0              Yes                  No   \n",
       "9                        0              Yes                  No   \n",
       "\n",
       "   ReferralsMadeBySubscriber  IncomeGroup OwnsMotorcycle  \\\n",
       "0                          0            4             No   \n",
       "1                          0            5             No   \n",
       "2                          0            6             No   \n",
       "3                          0            6             No   \n",
       "4                          0            9             No   \n",
       "5                          0            1             No   \n",
       "6                          0            9             No   \n",
       "7                          0            6             No   \n",
       "8                          0            9             No   \n",
       "9                          0            5             No   \n",
       "\n",
       "   AdjustmentsToCreditRating HandsetPrice MadeCallToRetentionTeam  \\\n",
       "0                          0           30                     Yes   \n",
       "1                          0           30                      No   \n",
       "2                          0      Unknown                      No   \n",
       "3                          0           10                      No   \n",
       "4                          1           10                      No   \n",
       "5                          1           30                      No   \n",
       "6                          1           30                      No   \n",
       "7                          0           30                      No   \n",
       "8                          0           80                      No   \n",
       "9                          1           30                      No   \n",
       "\n",
       "  CreditRating PrizmCode    Occupation MaritalStatus  \n",
       "0    1-Highest  Suburban  Professional            No  \n",
       "1     4-Medium  Suburban  Professional           Yes  \n",
       "2       3-Good      Town        Crafts           Yes  \n",
       "3     4-Medium     Other         Other            No  \n",
       "4    1-Highest     Other  Professional           Yes  \n",
       "5       3-Good     Other         Other           Yes  \n",
       "6    1-Highest     Other          Self           Yes  \n",
       "7    1-Highest     Other  Professional            No  \n",
       "8    1-Highest     Other         Other           Yes  \n",
       "9       3-Good     Other  Professional            No  "
      ]
     },
     "execution_count": 136,
     "metadata": {},
     "output_type": "execute_result"
    }
   ],
   "source": [
    "churn.head(10)"
   ]
  },
  {
   "cell_type": "code",
   "execution_count": 79,
   "metadata": {},
   "outputs": [
    {
     "data": {
      "text/plain": [
       "('MonthlyMinutes',\n",
       " 'TotalRecurringCharge',\n",
       " 'OverageMinutes',\n",
       " 'RoamingCalls',\n",
       " 'PercChangeMinutes',\n",
       " 'PercChangeRevenues',\n",
       " 'DroppedCalls',\n",
       " 'ReceivedCalls',\n",
       " 'OutboundCalls',\n",
       " 'CallForwardingCalls',\n",
       " 'UniqueSubs',\n",
       " 'ActiveSubs',\n",
       " 'CurrentEquipmentDays',\n",
       " 'AgeHH1',\n",
       " 'ReferralsMadeBySubscriber',\n",
       " 'AdjustmentsToCreditRating',\n",
       " 'HandsetRefurbished_Yes',\n",
       " 'HandsetWebCapable_Yes',\n",
       " 'TruckOwner_Yes',\n",
       " 'RVOwner_Yes',\n",
       " 'BuysViaMailOrder_Yes',\n",
       " 'OwnsComputer_Yes',\n",
       " 'HandsetPrice_150',\n",
       " 'CreditRating_3-Good',\n",
       " 'CreditRating_4-Medium',\n",
       " 'CreditRating_5-Low',\n",
       " 'PrizmCode_Town',\n",
       " 'Occupation_Professional')"
      ]
     },
     "execution_count": 79,
     "metadata": {},
     "output_type": "execute_result"
    }
   ],
   "source": [
    "sfs.k_feature_names_"
   ]
  },
  {
   "cell_type": "code",
   "execution_count": 137,
   "metadata": {},
   "outputs": [
    {
     "data": {
      "text/html": [
       "<div>\n",
       "<style scoped>\n",
       "    .dataframe tbody tr th:only-of-type {\n",
       "        vertical-align: middle;\n",
       "    }\n",
       "\n",
       "    .dataframe tbody tr th {\n",
       "        vertical-align: top;\n",
       "    }\n",
       "\n",
       "    .dataframe thead th {\n",
       "        text-align: right;\n",
       "    }\n",
       "</style>\n",
       "<table border=\"1\" class=\"dataframe\">\n",
       "  <thead>\n",
       "    <tr style=\"text-align: right;\">\n",
       "      <th></th>\n",
       "      <th>0</th>\n",
       "      <th>1</th>\n",
       "      <th>2</th>\n",
       "      <th>3</th>\n",
       "      <th>4</th>\n",
       "      <th>5</th>\n",
       "      <th>6</th>\n",
       "      <th>7</th>\n",
       "      <th>8</th>\n",
       "      <th>9</th>\n",
       "      <th>10</th>\n",
       "      <th>11</th>\n",
       "      <th>12</th>\n",
       "      <th>13</th>\n",
       "      <th>14</th>\n",
       "      <th>15</th>\n",
       "      <th>16</th>\n",
       "      <th>17</th>\n",
       "      <th>18</th>\n",
       "      <th>19</th>\n",
       "      <th>20</th>\n",
       "      <th>21</th>\n",
       "      <th>22</th>\n",
       "      <th>23</th>\n",
       "      <th>24</th>\n",
       "      <th>25</th>\n",
       "      <th>26</th>\n",
       "      <th>27</th>\n",
       "    </tr>\n",
       "  </thead>\n",
       "  <tbody>\n",
       "    <tr>\n",
       "      <th>0</th>\n",
       "      <td>219.0</td>\n",
       "      <td>22.0</td>\n",
       "      <td>0.0</td>\n",
       "      <td>0.0</td>\n",
       "      <td>-157.0</td>\n",
       "      <td>-19.0</td>\n",
       "      <td>0.7</td>\n",
       "      <td>97.2</td>\n",
       "      <td>0.0</td>\n",
       "      <td>0.0</td>\n",
       "      <td>2.0</td>\n",
       "      <td>1.0</td>\n",
       "      <td>361.0</td>\n",
       "      <td>62.0</td>\n",
       "      <td>0.0</td>\n",
       "      <td>0.0</td>\n",
       "      <td>0.0</td>\n",
       "      <td>1.0</td>\n",
       "      <td>0.0</td>\n",
       "      <td>0.0</td>\n",
       "      <td>1.0</td>\n",
       "      <td>1.0</td>\n",
       "      <td>0.0</td>\n",
       "      <td>0.0</td>\n",
       "      <td>0.0</td>\n",
       "      <td>0.0</td>\n",
       "      <td>0.0</td>\n",
       "      <td>1.0</td>\n",
       "    </tr>\n",
       "    <tr>\n",
       "      <th>1</th>\n",
       "      <td>10.0</td>\n",
       "      <td>17.0</td>\n",
       "      <td>0.0</td>\n",
       "      <td>0.0</td>\n",
       "      <td>-4.0</td>\n",
       "      <td>0.0</td>\n",
       "      <td>0.3</td>\n",
       "      <td>0.0</td>\n",
       "      <td>0.0</td>\n",
       "      <td>0.0</td>\n",
       "      <td>1.0</td>\n",
       "      <td>1.0</td>\n",
       "      <td>1504.0</td>\n",
       "      <td>40.0</td>\n",
       "      <td>0.0</td>\n",
       "      <td>0.0</td>\n",
       "      <td>0.0</td>\n",
       "      <td>0.0</td>\n",
       "      <td>0.0</td>\n",
       "      <td>0.0</td>\n",
       "      <td>1.0</td>\n",
       "      <td>1.0</td>\n",
       "      <td>0.0</td>\n",
       "      <td>0.0</td>\n",
       "      <td>1.0</td>\n",
       "      <td>0.0</td>\n",
       "      <td>0.0</td>\n",
       "      <td>1.0</td>\n",
       "    </tr>\n",
       "    <tr>\n",
       "      <th>2</th>\n",
       "      <td>8.0</td>\n",
       "      <td>38.0</td>\n",
       "      <td>0.0</td>\n",
       "      <td>0.0</td>\n",
       "      <td>-2.0</td>\n",
       "      <td>0.0</td>\n",
       "      <td>0.0</td>\n",
       "      <td>0.4</td>\n",
       "      <td>0.3</td>\n",
       "      <td>0.0</td>\n",
       "      <td>1.0</td>\n",
       "      <td>1.0</td>\n",
       "      <td>1812.0</td>\n",
       "      <td>26.0</td>\n",
       "      <td>0.0</td>\n",
       "      <td>0.0</td>\n",
       "      <td>0.0</td>\n",
       "      <td>0.0</td>\n",
       "      <td>0.0</td>\n",
       "      <td>0.0</td>\n",
       "      <td>0.0</td>\n",
       "      <td>0.0</td>\n",
       "      <td>0.0</td>\n",
       "      <td>1.0</td>\n",
       "      <td>0.0</td>\n",
       "      <td>0.0</td>\n",
       "      <td>1.0</td>\n",
       "      <td>0.0</td>\n",
       "    </tr>\n",
       "    <tr>\n",
       "      <th>3</th>\n",
       "      <td>1312.0</td>\n",
       "      <td>75.0</td>\n",
       "      <td>0.0</td>\n",
       "      <td>0.0</td>\n",
       "      <td>157.0</td>\n",
       "      <td>8.1</td>\n",
       "      <td>52.0</td>\n",
       "      <td>200.3</td>\n",
       "      <td>370.3</td>\n",
       "      <td>0.0</td>\n",
       "      <td>2.0</td>\n",
       "      <td>2.0</td>\n",
       "      <td>458.0</td>\n",
       "      <td>30.0</td>\n",
       "      <td>0.0</td>\n",
       "      <td>0.0</td>\n",
       "      <td>0.0</td>\n",
       "      <td>1.0</td>\n",
       "      <td>0.0</td>\n",
       "      <td>0.0</td>\n",
       "      <td>1.0</td>\n",
       "      <td>0.0</td>\n",
       "      <td>0.0</td>\n",
       "      <td>0.0</td>\n",
       "      <td>1.0</td>\n",
       "      <td>0.0</td>\n",
       "      <td>0.0</td>\n",
       "      <td>0.0</td>\n",
       "    </tr>\n",
       "    <tr>\n",
       "      <th>4</th>\n",
       "      <td>0.0</td>\n",
       "      <td>17.0</td>\n",
       "      <td>0.0</td>\n",
       "      <td>0.0</td>\n",
       "      <td>0.0</td>\n",
       "      <td>-0.2</td>\n",
       "      <td>0.0</td>\n",
       "      <td>0.0</td>\n",
       "      <td>0.0</td>\n",
       "      <td>0.0</td>\n",
       "      <td>2.0</td>\n",
       "      <td>2.0</td>\n",
       "      <td>852.0</td>\n",
       "      <td>46.0</td>\n",
       "      <td>0.0</td>\n",
       "      <td>1.0</td>\n",
       "      <td>0.0</td>\n",
       "      <td>0.0</td>\n",
       "      <td>0.0</td>\n",
       "      <td>0.0</td>\n",
       "      <td>1.0</td>\n",
       "      <td>1.0</td>\n",
       "      <td>0.0</td>\n",
       "      <td>0.0</td>\n",
       "      <td>0.0</td>\n",
       "      <td>0.0</td>\n",
       "      <td>0.0</td>\n",
       "      <td>1.0</td>\n",
       "    </tr>\n",
       "    <tr>\n",
       "      <th>5</th>\n",
       "      <td>682.0</td>\n",
       "      <td>52.0</td>\n",
       "      <td>0.0</td>\n",
       "      <td>0.0</td>\n",
       "      <td>148.0</td>\n",
       "      <td>-3.1</td>\n",
       "      <td>9.0</td>\n",
       "      <td>42.2</td>\n",
       "      <td>6.7</td>\n",
       "      <td>0.0</td>\n",
       "      <td>1.0</td>\n",
       "      <td>1.0</td>\n",
       "      <td>231.0</td>\n",
       "      <td>28.0</td>\n",
       "      <td>0.0</td>\n",
       "      <td>1.0</td>\n",
       "      <td>0.0</td>\n",
       "      <td>1.0</td>\n",
       "      <td>0.0</td>\n",
       "      <td>0.0</td>\n",
       "      <td>0.0</td>\n",
       "      <td>0.0</td>\n",
       "      <td>0.0</td>\n",
       "      <td>1.0</td>\n",
       "      <td>0.0</td>\n",
       "      <td>0.0</td>\n",
       "      <td>0.0</td>\n",
       "      <td>0.0</td>\n",
       "    </tr>\n",
       "    <tr>\n",
       "      <th>6</th>\n",
       "      <td>26.0</td>\n",
       "      <td>30.0</td>\n",
       "      <td>0.0</td>\n",
       "      <td>0.0</td>\n",
       "      <td>60.0</td>\n",
       "      <td>4.0</td>\n",
       "      <td>0.0</td>\n",
       "      <td>0.0</td>\n",
       "      <td>0.0</td>\n",
       "      <td>0.0</td>\n",
       "      <td>2.0</td>\n",
       "      <td>2.0</td>\n",
       "      <td>601.0</td>\n",
       "      <td>52.0</td>\n",
       "      <td>0.0</td>\n",
       "      <td>1.0</td>\n",
       "      <td>0.0</td>\n",
       "      <td>1.0</td>\n",
       "      <td>0.0</td>\n",
       "      <td>0.0</td>\n",
       "      <td>1.0</td>\n",
       "      <td>0.0</td>\n",
       "      <td>0.0</td>\n",
       "      <td>0.0</td>\n",
       "      <td>0.0</td>\n",
       "      <td>0.0</td>\n",
       "      <td>0.0</td>\n",
       "      <td>0.0</td>\n",
       "    </tr>\n",
       "    <tr>\n",
       "      <th>7</th>\n",
       "      <td>98.0</td>\n",
       "      <td>66.0</td>\n",
       "      <td>0.0</td>\n",
       "      <td>0.0</td>\n",
       "      <td>24.0</td>\n",
       "      <td>6.8</td>\n",
       "      <td>0.0</td>\n",
       "      <td>0.0</td>\n",
       "      <td>3.7</td>\n",
       "      <td>0.0</td>\n",
       "      <td>2.0</td>\n",
       "      <td>2.0</td>\n",
       "      <td>464.0</td>\n",
       "      <td>46.0</td>\n",
       "      <td>0.0</td>\n",
       "      <td>0.0</td>\n",
       "      <td>0.0</td>\n",
       "      <td>1.0</td>\n",
       "      <td>0.0</td>\n",
       "      <td>0.0</td>\n",
       "      <td>1.0</td>\n",
       "      <td>0.0</td>\n",
       "      <td>0.0</td>\n",
       "      <td>0.0</td>\n",
       "      <td>0.0</td>\n",
       "      <td>0.0</td>\n",
       "      <td>0.0</td>\n",
       "      <td>1.0</td>\n",
       "    </tr>\n",
       "    <tr>\n",
       "      <th>8</th>\n",
       "      <td>24.0</td>\n",
       "      <td>35.0</td>\n",
       "      <td>0.0</td>\n",
       "      <td>0.0</td>\n",
       "      <td>20.0</td>\n",
       "      <td>-0.3</td>\n",
       "      <td>0.0</td>\n",
       "      <td>2.4</td>\n",
       "      <td>4.0</td>\n",
       "      <td>0.0</td>\n",
       "      <td>3.0</td>\n",
       "      <td>3.0</td>\n",
       "      <td>544.0</td>\n",
       "      <td>36.0</td>\n",
       "      <td>0.0</td>\n",
       "      <td>0.0</td>\n",
       "      <td>0.0</td>\n",
       "      <td>1.0</td>\n",
       "      <td>0.0</td>\n",
       "      <td>0.0</td>\n",
       "      <td>0.0</td>\n",
       "      <td>0.0</td>\n",
       "      <td>0.0</td>\n",
       "      <td>0.0</td>\n",
       "      <td>0.0</td>\n",
       "      <td>0.0</td>\n",
       "      <td>0.0</td>\n",
       "      <td>0.0</td>\n",
       "    </tr>\n",
       "    <tr>\n",
       "      <th>9</th>\n",
       "      <td>1056.0</td>\n",
       "      <td>75.0</td>\n",
       "      <td>0.0</td>\n",
       "      <td>0.0</td>\n",
       "      <td>43.0</td>\n",
       "      <td>2.4</td>\n",
       "      <td>0.0</td>\n",
       "      <td>0.0</td>\n",
       "      <td>0.0</td>\n",
       "      <td>0.0</td>\n",
       "      <td>1.0</td>\n",
       "      <td>1.0</td>\n",
       "      <td>388.0</td>\n",
       "      <td>46.0</td>\n",
       "      <td>0.0</td>\n",
       "      <td>1.0</td>\n",
       "      <td>0.0</td>\n",
       "      <td>1.0</td>\n",
       "      <td>0.0</td>\n",
       "      <td>0.0</td>\n",
       "      <td>0.0</td>\n",
       "      <td>1.0</td>\n",
       "      <td>0.0</td>\n",
       "      <td>1.0</td>\n",
       "      <td>0.0</td>\n",
       "      <td>0.0</td>\n",
       "      <td>0.0</td>\n",
       "      <td>1.0</td>\n",
       "    </tr>\n",
       "  </tbody>\n",
       "</table>\n",
       "</div>"
      ],
      "text/plain": [
       "       0     1    2    3      4     5     6      7      8    9    10   11  \\\n",
       "0   219.0  22.0  0.0  0.0 -157.0 -19.0   0.7   97.2    0.0  0.0  2.0  1.0   \n",
       "1    10.0  17.0  0.0  0.0   -4.0   0.0   0.3    0.0    0.0  0.0  1.0  1.0   \n",
       "2     8.0  38.0  0.0  0.0   -2.0   0.0   0.0    0.4    0.3  0.0  1.0  1.0   \n",
       "3  1312.0  75.0  0.0  0.0  157.0   8.1  52.0  200.3  370.3  0.0  2.0  2.0   \n",
       "4     0.0  17.0  0.0  0.0    0.0  -0.2   0.0    0.0    0.0  0.0  2.0  2.0   \n",
       "5   682.0  52.0  0.0  0.0  148.0  -3.1   9.0   42.2    6.7  0.0  1.0  1.0   \n",
       "6    26.0  30.0  0.0  0.0   60.0   4.0   0.0    0.0    0.0  0.0  2.0  2.0   \n",
       "7    98.0  66.0  0.0  0.0   24.0   6.8   0.0    0.0    3.7  0.0  2.0  2.0   \n",
       "8    24.0  35.0  0.0  0.0   20.0  -0.3   0.0    2.4    4.0  0.0  3.0  3.0   \n",
       "9  1056.0  75.0  0.0  0.0   43.0   2.4   0.0    0.0    0.0  0.0  1.0  1.0   \n",
       "\n",
       "       12    13   14   15   16   17   18   19   20   21   22   23   24   25  \\\n",
       "0   361.0  62.0  0.0  0.0  0.0  1.0  0.0  0.0  1.0  1.0  0.0  0.0  0.0  0.0   \n",
       "1  1504.0  40.0  0.0  0.0  0.0  0.0  0.0  0.0  1.0  1.0  0.0  0.0  1.0  0.0   \n",
       "2  1812.0  26.0  0.0  0.0  0.0  0.0  0.0  0.0  0.0  0.0  0.0  1.0  0.0  0.0   \n",
       "3   458.0  30.0  0.0  0.0  0.0  1.0  0.0  0.0  1.0  0.0  0.0  0.0  1.0  0.0   \n",
       "4   852.0  46.0  0.0  1.0  0.0  0.0  0.0  0.0  1.0  1.0  0.0  0.0  0.0  0.0   \n",
       "5   231.0  28.0  0.0  1.0  0.0  1.0  0.0  0.0  0.0  0.0  0.0  1.0  0.0  0.0   \n",
       "6   601.0  52.0  0.0  1.0  0.0  1.0  0.0  0.0  1.0  0.0  0.0  0.0  0.0  0.0   \n",
       "7   464.0  46.0  0.0  0.0  0.0  1.0  0.0  0.0  1.0  0.0  0.0  0.0  0.0  0.0   \n",
       "8   544.0  36.0  0.0  0.0  0.0  1.0  0.0  0.0  0.0  0.0  0.0  0.0  0.0  0.0   \n",
       "9   388.0  46.0  0.0  1.0  0.0  1.0  0.0  0.0  0.0  1.0  0.0  1.0  0.0  0.0   \n",
       "\n",
       "    26   27  \n",
       "0  0.0  1.0  \n",
       "1  0.0  1.0  \n",
       "2  1.0  0.0  \n",
       "3  0.0  0.0  \n",
       "4  0.0  1.0  \n",
       "5  0.0  0.0  \n",
       "6  0.0  0.0  \n",
       "7  0.0  1.0  \n",
       "8  0.0  0.0  \n",
       "9  0.0  1.0  "
      ]
     },
     "execution_count": 137,
     "metadata": {},
     "output_type": "execute_result"
    }
   ],
   "source": [
    "x_train_sfs=pd.DataFrame(x_train_sfs)\n",
    "x_train_sfs.head(10)"
   ]
  },
  {
   "cell_type": "code",
   "execution_count": 80,
   "metadata": {},
   "outputs": [
    {
     "data": {
      "text/plain": [
       "0.6119693366128683"
      ]
     },
     "execution_count": 80,
     "metadata": {},
     "output_type": "execute_result"
    }
   ],
   "source": [
    "sfs.k_score_"
   ]
  },
  {
   "cell_type": "code",
   "execution_count": 81,
   "metadata": {
    "scrolled": false
   },
   "outputs": [],
   "source": [
    "df=pd.DataFrame.from_dict(sfs.get_metric_dict()).T"
   ]
  },
  {
   "cell_type": "code",
   "execution_count": 82,
   "metadata": {
    "scrolled": false
   },
   "outputs": [
    {
     "data": {
      "text/html": [
       "<div>\n",
       "<style scoped>\n",
       "    .dataframe tbody tr th:only-of-type {\n",
       "        vertical-align: middle;\n",
       "    }\n",
       "\n",
       "    .dataframe tbody tr th {\n",
       "        vertical-align: top;\n",
       "    }\n",
       "\n",
       "    .dataframe thead th {\n",
       "        text-align: right;\n",
       "    }\n",
       "</style>\n",
       "<table border=\"1\" class=\"dataframe\">\n",
       "  <thead>\n",
       "    <tr style=\"text-align: right;\">\n",
       "      <th></th>\n",
       "      <th>avg_score</th>\n",
       "      <th>ci_bound</th>\n",
       "      <th>cv_scores</th>\n",
       "      <th>feature_idx</th>\n",
       "      <th>feature_names</th>\n",
       "      <th>std_dev</th>\n",
       "      <th>std_err</th>\n",
       "    </tr>\n",
       "  </thead>\n",
       "  <tbody>\n",
       "    <tr>\n",
       "      <th>1</th>\n",
       "      <td>0.546736</td>\n",
       "      <td>0.00461469</td>\n",
       "      <td>[0.5491856193320027, 0.544166824450873, 0.5468...</td>\n",
       "      <td>(2,)</td>\n",
       "      <td>(TotalRecurringCharge,)</td>\n",
       "      <td>0.00205067</td>\n",
       "      <td>0.00145004</td>\n",
       "    </tr>\n",
       "    <tr>\n",
       "      <th>2</th>\n",
       "      <td>0.550415</td>\n",
       "      <td>0.00364193</td>\n",
       "      <td>[0.5526007145500491, 0.5499120029344883, 0.548...</td>\n",
       "      <td>(2, 50)</td>\n",
       "      <td>(TotalRecurringCharge, CreditRating_5-Low)</td>\n",
       "      <td>0.0016184</td>\n",
       "      <td>0.00114438</td>\n",
       "    </tr>\n",
       "    <tr>\n",
       "      <th>3</th>\n",
       "      <td>0.553684</td>\n",
       "      <td>0.0023481</td>\n",
       "      <td>[0.5546468848136302, 0.5541704348101888, 0.552...</td>\n",
       "      <td>(2, 33, 50)</td>\n",
       "      <td>(TotalRecurringCharge, HandsetRefurbished_Yes,...</td>\n",
       "      <td>0.00104345</td>\n",
       "      <td>0.000737828</td>\n",
       "    </tr>\n",
       "    <tr>\n",
       "      <th>4</th>\n",
       "      <td>0.553347</td>\n",
       "      <td>0.00429604</td>\n",
       "      <td>[0.5553180241694025, 0.5539599871169252, 0.550...</td>\n",
       "      <td>(2, 19, 33, 50)</td>\n",
       "      <td>(TotalRecurringCharge, CallForwardingCalls, Ha...</td>\n",
       "      <td>0.00190907</td>\n",
       "      <td>0.00134992</td>\n",
       "    </tr>\n",
       "    <tr>\n",
       "      <th>5</th>\n",
       "      <td>0.552961</td>\n",
       "      <td>0.00878093</td>\n",
       "      <td>[0.5570013312582104, 0.554197064475829, 0.5476...</td>\n",
       "      <td>(2, 19, 33, 34, 50)</td>\n",
       "      <td>(TotalRecurringCharge, CallForwardingCalls, Ha...</td>\n",
       "      <td>0.00390206</td>\n",
       "      <td>0.00275917</td>\n",
       "    </tr>\n",
       "    <tr>\n",
       "      <th>6</th>\n",
       "      <td>0.552533</td>\n",
       "      <td>0.012616</td>\n",
       "      <td>[0.5597178847932847, 0.5518424588980736, 0.546...</td>\n",
       "      <td>(2, 19, 33, 34, 50, 52)</td>\n",
       "      <td>(TotalRecurringCharge, CallForwardingCalls, Ha...</td>\n",
       "      <td>0.00560628</td>\n",
       "      <td>0.00396424</td>\n",
       "    </tr>\n",
       "    <tr>\n",
       "      <th>7</th>\n",
       "      <td>0.551592</td>\n",
       "      <td>0.0130295</td>\n",
       "      <td>[0.5595332398477126, 0.5493522070286458, 0.545...</td>\n",
       "      <td>(2, 19, 33, 34, 44, 50, 52)</td>\n",
       "      <td>(TotalRecurringCharge, CallForwardingCalls, Ha...</td>\n",
       "      <td>0.00579003</td>\n",
       "      <td>0.00409417</td>\n",
       "    </tr>\n",
       "    <tr>\n",
       "      <th>8</th>\n",
       "      <td>0.551135</td>\n",
       "      <td>0.013761</td>\n",
       "      <td>[0.5594835674017518, 0.548915991563392, 0.5450...</td>\n",
       "      <td>(2, 19, 29, 33, 34, 44, 50, 52)</td>\n",
       "      <td>(TotalRecurringCharge, CallForwardingCalls, Re...</td>\n",
       "      <td>0.00611509</td>\n",
       "      <td>0.00432402</td>\n",
       "    </tr>\n",
       "    <tr>\n",
       "      <th>9</th>\n",
       "      <td>0.549396</td>\n",
       "      <td>0.00458997</td>\n",
       "      <td>[0.5522783133400211, 0.5480602786544713, 0.547...</td>\n",
       "      <td>(2, 19, 29, 31, 33, 34, 44, 50, 52)</td>\n",
       "      <td>(TotalRecurringCharge, CallForwardingCalls, Re...</td>\n",
       "      <td>0.00203969</td>\n",
       "      <td>0.00144228</td>\n",
       "    </tr>\n",
       "    <tr>\n",
       "      <th>10</th>\n",
       "      <td>0.547736</td>\n",
       "      <td>0.0050112</td>\n",
       "      <td>[0.545845513927439, 0.5508626155382587, 0.5465...</td>\n",
       "      <td>(2, 19, 29, 31, 33, 34, 38, 44, 50, 52)</td>\n",
       "      <td>(TotalRecurringCharge, CallForwardingCalls, Re...</td>\n",
       "      <td>0.00222688</td>\n",
       "      <td>0.00157464</td>\n",
       "    </tr>\n",
       "    <tr>\n",
       "      <th>11</th>\n",
       "      <td>0.546747</td>\n",
       "      <td>0.00469442</td>\n",
       "      <td>[0.5478184700300106, 0.5485912333949025, 0.543...</td>\n",
       "      <td>(2, 19, 29, 31, 33, 34, 36, 38, 44, 50, 52)</td>\n",
       "      <td>(TotalRecurringCharge, CallForwardingCalls, Re...</td>\n",
       "      <td>0.0020861</td>\n",
       "      <td>0.0014751</td>\n",
       "    </tr>\n",
       "    <tr>\n",
       "      <th>12</th>\n",
       "      <td>0.545319</td>\n",
       "      <td>0.0044276</td>\n",
       "      <td>[0.5472801151117694, 0.5460468971787359, 0.542...</td>\n",
       "      <td>(2, 19, 29, 31, 33, 34, 36, 38, 44, 49, 50, 52)</td>\n",
       "      <td>(TotalRecurringCharge, CallForwardingCalls, Re...</td>\n",
       "      <td>0.00196754</td>\n",
       "      <td>0.00139126</td>\n",
       "    </tr>\n",
       "    <tr>\n",
       "      <th>13</th>\n",
       "      <td>0.543104</td>\n",
       "      <td>0.00542459</td>\n",
       "      <td>[0.5433209943433898, 0.5459417077077482, 0.540...</td>\n",
       "      <td>(2, 19, 29, 31, 33, 34, 35, 36, 38, 44, 49, 50...</td>\n",
       "      <td>(TotalRecurringCharge, CallForwardingCalls, Re...</td>\n",
       "      <td>0.00241058</td>\n",
       "      <td>0.00170453</td>\n",
       "    </tr>\n",
       "    <tr>\n",
       "      <th>14</th>\n",
       "      <td>0.541826</td>\n",
       "      <td>0.00573231</td>\n",
       "      <td>[0.5410370355740861, 0.5452643127233929, 0.539...</td>\n",
       "      <td>(2, 19, 23, 29, 31, 33, 34, 35, 36, 38, 44, 49...</td>\n",
       "      <td>(TotalRecurringCharge, CallForwardingCalls, Ac...</td>\n",
       "      <td>0.00254732</td>\n",
       "      <td>0.00180123</td>\n",
       "    </tr>\n",
       "    <tr>\n",
       "      <th>15</th>\n",
       "      <td>0.541321</td>\n",
       "      <td>0.00931747</td>\n",
       "      <td>[0.5383756074564391, 0.5471765954297902, 0.538...</td>\n",
       "      <td>(2, 5, 19, 23, 29, 31, 33, 34, 35, 36, 38, 44,...</td>\n",
       "      <td>(TotalRecurringCharge, RoamingCalls, CallForwa...</td>\n",
       "      <td>0.00414049</td>\n",
       "      <td>0.00292777</td>\n",
       "    </tr>\n",
       "    <tr>\n",
       "      <th>16</th>\n",
       "      <td>0.543694</td>\n",
       "      <td>0.00844518</td>\n",
       "      <td>[0.543404450009632, 0.5484278001242382, 0.5392...</td>\n",
       "      <td>(2, 5, 6, 19, 23, 29, 31, 33, 34, 35, 36, 38, ...</td>\n",
       "      <td>(TotalRecurringCharge, RoamingCalls, PercChang...</td>\n",
       "      <td>0.00375286</td>\n",
       "      <td>0.00265368</td>\n",
       "    </tr>\n",
       "    <tr>\n",
       "      <th>17</th>\n",
       "      <td>0.571262</td>\n",
       "      <td>0.00330726</td>\n",
       "      <td>[0.5696776913530168, 0.5732194344491529, 0.570...</td>\n",
       "      <td>(1, 2, 5, 6, 19, 23, 29, 31, 33, 34, 35, 36, 3...</td>\n",
       "      <td>(MonthlyMinutes, TotalRecurringCharge, Roaming...</td>\n",
       "      <td>0.00146968</td>\n",
       "      <td>0.00103922</td>\n",
       "    </tr>\n",
       "    <tr>\n",
       "      <th>18</th>\n",
       "      <td>0.584777</td>\n",
       "      <td>0.0186293</td>\n",
       "      <td>[0.5963510960289353, 0.5805197441553727, 0.577...</td>\n",
       "      <td>(1, 2, 5, 6, 19, 23, 26, 29, 31, 33, 34, 35, 3...</td>\n",
       "      <td>(MonthlyMinutes, TotalRecurringCharge, Roaming...</td>\n",
       "      <td>0.00827847</td>\n",
       "      <td>0.00585376</td>\n",
       "    </tr>\n",
       "    <tr>\n",
       "      <th>19</th>\n",
       "      <td>0.594642</td>\n",
       "      <td>0.0180794</td>\n",
       "      <td>[0.6037622570426272, 0.5842137508718237, 0.595...</td>\n",
       "      <td>(1, 2, 5, 6, 7, 19, 23, 26, 29, 31, 33, 34, 35...</td>\n",
       "      <td>(MonthlyMinutes, TotalRecurringCharge, Roaming...</td>\n",
       "      <td>0.00803413</td>\n",
       "      <td>0.00568099</td>\n",
       "    </tr>\n",
       "    <tr>\n",
       "      <th>20</th>\n",
       "      <td>0.601044</td>\n",
       "      <td>0.0200012</td>\n",
       "      <td>[0.6061566155724769, 0.5885434205406758, 0.608...</td>\n",
       "      <td>(1, 2, 5, 6, 7, 8, 19, 23, 26, 29, 31, 33, 34,...</td>\n",
       "      <td>(MonthlyMinutes, TotalRecurringCharge, Roaming...</td>\n",
       "      <td>0.00888811</td>\n",
       "      <td>0.00628484</td>\n",
       "    </tr>\n",
       "    <tr>\n",
       "      <th>21</th>\n",
       "      <td>0.60413</td>\n",
       "      <td>0.0215865</td>\n",
       "      <td>[0.6134747438523934, 0.5909412133859858, 0.607...</td>\n",
       "      <td>(1, 2, 5, 6, 7, 8, 19, 22, 23, 26, 29, 31, 33,...</td>\n",
       "      <td>(MonthlyMinutes, TotalRecurringCharge, Roaming...</td>\n",
       "      <td>0.00959258</td>\n",
       "      <td>0.00678298</td>\n",
       "    </tr>\n",
       "    <tr>\n",
       "      <th>22</th>\n",
       "      <td>0.604656</td>\n",
       "      <td>0.0134862</td>\n",
       "      <td>[0.6091565403306352, 0.5961860887451712, 0.608...</td>\n",
       "      <td>(1, 2, 5, 6, 7, 8, 13, 19, 22, 23, 26, 29, 31,...</td>\n",
       "      <td>(MonthlyMinutes, TotalRecurringCharge, Roaming...</td>\n",
       "      <td>0.00599298</td>\n",
       "      <td>0.00423768</td>\n",
       "    </tr>\n",
       "    <tr>\n",
       "      <th>23</th>\n",
       "      <td>0.606137</td>\n",
       "      <td>0.0264443</td>\n",
       "      <td>[0.6143269768487909, 0.5895190929890048, 0.614...</td>\n",
       "      <td>(1, 2, 5, 6, 7, 8, 13, 19, 22, 23, 26, 29, 31,...</td>\n",
       "      <td>(MonthlyMinutes, TotalRecurringCharge, Roaming...</td>\n",
       "      <td>0.0117513</td>\n",
       "      <td>0.00830942</td>\n",
       "    </tr>\n",
       "    <tr>\n",
       "      <th>24</th>\n",
       "      <td>0.606509</td>\n",
       "      <td>0.0129071</td>\n",
       "      <td>[0.6115310917435413, 0.5984814077953786, 0.609...</td>\n",
       "      <td>(1, 2, 5, 6, 7, 8, 13, 19, 22, 23, 26, 27, 29,...</td>\n",
       "      <td>(MonthlyMinutes, TotalRecurringCharge, Roaming...</td>\n",
       "      <td>0.00573564</td>\n",
       "      <td>0.00405571</td>\n",
       "    </tr>\n",
       "    <tr>\n",
       "      <th>25</th>\n",
       "      <td>0.606197</td>\n",
       "      <td>0.0272109</td>\n",
       "      <td>[0.614792747676255, 0.589096536113012, 0.61470...</td>\n",
       "      <td>(1, 2, 5, 6, 7, 8, 13, 19, 22, 23, 26, 27, 29,...</td>\n",
       "      <td>(MonthlyMinutes, TotalRecurringCharge, Roaming...</td>\n",
       "      <td>0.012092</td>\n",
       "      <td>0.0085503</td>\n",
       "    </tr>\n",
       "    <tr>\n",
       "      <th>26</th>\n",
       "      <td>0.607556</td>\n",
       "      <td>0.0259308</td>\n",
       "      <td>[0.6188828772296925, 0.5917464399322516, 0.612...</td>\n",
       "      <td>(1, 2, 4, 5, 6, 7, 8, 13, 19, 22, 23, 26, 27, ...</td>\n",
       "      <td>(MonthlyMinutes, TotalRecurringCharge, Overage...</td>\n",
       "      <td>0.0115231</td>\n",
       "      <td>0.00814807</td>\n",
       "    </tr>\n",
       "    <tr>\n",
       "      <th>27</th>\n",
       "      <td>0.60968</td>\n",
       "      <td>0.019059</td>\n",
       "      <td>[0.6151541788732273, 0.5977169851386755, 0.616...</td>\n",
       "      <td>(1, 2, 4, 5, 6, 7, 8, 13, 14, 19, 22, 23, 26, ...</td>\n",
       "      <td>(MonthlyMinutes, TotalRecurringCharge, Overage...</td>\n",
       "      <td>0.00846944</td>\n",
       "      <td>0.0059888</td>\n",
       "    </tr>\n",
       "    <tr>\n",
       "      <th>28</th>\n",
       "      <td>0.611969</td>\n",
       "      <td>0.0244029</td>\n",
       "      <td>[0.6227205662805477, 0.5971226646275951, 0.616...</td>\n",
       "      <td>(1, 2, 4, 5, 6, 7, 8, 13, 14, 19, 22, 23, 26, ...</td>\n",
       "      <td>(MonthlyMinutes, TotalRecurringCharge, Overage...</td>\n",
       "      <td>0.0108441</td>\n",
       "      <td>0.00766796</td>\n",
       "    </tr>\n",
       "  </tbody>\n",
       "</table>\n",
       "</div>"
      ],
      "text/plain": [
       "   avg_score    ci_bound                                          cv_scores  \\\n",
       "1   0.546736  0.00461469  [0.5491856193320027, 0.544166824450873, 0.5468...   \n",
       "2   0.550415  0.00364193  [0.5526007145500491, 0.5499120029344883, 0.548...   \n",
       "3   0.553684   0.0023481  [0.5546468848136302, 0.5541704348101888, 0.552...   \n",
       "4   0.553347  0.00429604  [0.5553180241694025, 0.5539599871169252, 0.550...   \n",
       "5   0.552961  0.00878093  [0.5570013312582104, 0.554197064475829, 0.5476...   \n",
       "6   0.552533    0.012616  [0.5597178847932847, 0.5518424588980736, 0.546...   \n",
       "7   0.551592   0.0130295  [0.5595332398477126, 0.5493522070286458, 0.545...   \n",
       "8   0.551135    0.013761  [0.5594835674017518, 0.548915991563392, 0.5450...   \n",
       "9   0.549396  0.00458997  [0.5522783133400211, 0.5480602786544713, 0.547...   \n",
       "10  0.547736   0.0050112  [0.545845513927439, 0.5508626155382587, 0.5465...   \n",
       "11  0.546747  0.00469442  [0.5478184700300106, 0.5485912333949025, 0.543...   \n",
       "12  0.545319   0.0044276  [0.5472801151117694, 0.5460468971787359, 0.542...   \n",
       "13  0.543104  0.00542459  [0.5433209943433898, 0.5459417077077482, 0.540...   \n",
       "14  0.541826  0.00573231  [0.5410370355740861, 0.5452643127233929, 0.539...   \n",
       "15  0.541321  0.00931747  [0.5383756074564391, 0.5471765954297902, 0.538...   \n",
       "16  0.543694  0.00844518  [0.543404450009632, 0.5484278001242382, 0.5392...   \n",
       "17  0.571262  0.00330726  [0.5696776913530168, 0.5732194344491529, 0.570...   \n",
       "18  0.584777   0.0186293  [0.5963510960289353, 0.5805197441553727, 0.577...   \n",
       "19  0.594642   0.0180794  [0.6037622570426272, 0.5842137508718237, 0.595...   \n",
       "20  0.601044   0.0200012  [0.6061566155724769, 0.5885434205406758, 0.608...   \n",
       "21   0.60413   0.0215865  [0.6134747438523934, 0.5909412133859858, 0.607...   \n",
       "22  0.604656   0.0134862  [0.6091565403306352, 0.5961860887451712, 0.608...   \n",
       "23  0.606137   0.0264443  [0.6143269768487909, 0.5895190929890048, 0.614...   \n",
       "24  0.606509   0.0129071  [0.6115310917435413, 0.5984814077953786, 0.609...   \n",
       "25  0.606197   0.0272109  [0.614792747676255, 0.589096536113012, 0.61470...   \n",
       "26  0.607556   0.0259308  [0.6188828772296925, 0.5917464399322516, 0.612...   \n",
       "27   0.60968    0.019059  [0.6151541788732273, 0.5977169851386755, 0.616...   \n",
       "28  0.611969   0.0244029  [0.6227205662805477, 0.5971226646275951, 0.616...   \n",
       "\n",
       "                                          feature_idx  \\\n",
       "1                                                (2,)   \n",
       "2                                             (2, 50)   \n",
       "3                                         (2, 33, 50)   \n",
       "4                                     (2, 19, 33, 50)   \n",
       "5                                 (2, 19, 33, 34, 50)   \n",
       "6                             (2, 19, 33, 34, 50, 52)   \n",
       "7                         (2, 19, 33, 34, 44, 50, 52)   \n",
       "8                     (2, 19, 29, 33, 34, 44, 50, 52)   \n",
       "9                 (2, 19, 29, 31, 33, 34, 44, 50, 52)   \n",
       "10            (2, 19, 29, 31, 33, 34, 38, 44, 50, 52)   \n",
       "11        (2, 19, 29, 31, 33, 34, 36, 38, 44, 50, 52)   \n",
       "12    (2, 19, 29, 31, 33, 34, 36, 38, 44, 49, 50, 52)   \n",
       "13  (2, 19, 29, 31, 33, 34, 35, 36, 38, 44, 49, 50...   \n",
       "14  (2, 19, 23, 29, 31, 33, 34, 35, 36, 38, 44, 49...   \n",
       "15  (2, 5, 19, 23, 29, 31, 33, 34, 35, 36, 38, 44,...   \n",
       "16  (2, 5, 6, 19, 23, 29, 31, 33, 34, 35, 36, 38, ...   \n",
       "17  (1, 2, 5, 6, 19, 23, 29, 31, 33, 34, 35, 36, 3...   \n",
       "18  (1, 2, 5, 6, 19, 23, 26, 29, 31, 33, 34, 35, 3...   \n",
       "19  (1, 2, 5, 6, 7, 19, 23, 26, 29, 31, 33, 34, 35...   \n",
       "20  (1, 2, 5, 6, 7, 8, 19, 23, 26, 29, 31, 33, 34,...   \n",
       "21  (1, 2, 5, 6, 7, 8, 19, 22, 23, 26, 29, 31, 33,...   \n",
       "22  (1, 2, 5, 6, 7, 8, 13, 19, 22, 23, 26, 29, 31,...   \n",
       "23  (1, 2, 5, 6, 7, 8, 13, 19, 22, 23, 26, 29, 31,...   \n",
       "24  (1, 2, 5, 6, 7, 8, 13, 19, 22, 23, 26, 27, 29,...   \n",
       "25  (1, 2, 5, 6, 7, 8, 13, 19, 22, 23, 26, 27, 29,...   \n",
       "26  (1, 2, 4, 5, 6, 7, 8, 13, 19, 22, 23, 26, 27, ...   \n",
       "27  (1, 2, 4, 5, 6, 7, 8, 13, 14, 19, 22, 23, 26, ...   \n",
       "28  (1, 2, 4, 5, 6, 7, 8, 13, 14, 19, 22, 23, 26, ...   \n",
       "\n",
       "                                        feature_names     std_dev      std_err  \n",
       "1                             (TotalRecurringCharge,)  0.00205067   0.00145004  \n",
       "2          (TotalRecurringCharge, CreditRating_5-Low)   0.0016184   0.00114438  \n",
       "3   (TotalRecurringCharge, HandsetRefurbished_Yes,...  0.00104345  0.000737828  \n",
       "4   (TotalRecurringCharge, CallForwardingCalls, Ha...  0.00190907   0.00134992  \n",
       "5   (TotalRecurringCharge, CallForwardingCalls, Ha...  0.00390206   0.00275917  \n",
       "6   (TotalRecurringCharge, CallForwardingCalls, Ha...  0.00560628   0.00396424  \n",
       "7   (TotalRecurringCharge, CallForwardingCalls, Ha...  0.00579003   0.00409417  \n",
       "8   (TotalRecurringCharge, CallForwardingCalls, Re...  0.00611509   0.00432402  \n",
       "9   (TotalRecurringCharge, CallForwardingCalls, Re...  0.00203969   0.00144228  \n",
       "10  (TotalRecurringCharge, CallForwardingCalls, Re...  0.00222688   0.00157464  \n",
       "11  (TotalRecurringCharge, CallForwardingCalls, Re...   0.0020861    0.0014751  \n",
       "12  (TotalRecurringCharge, CallForwardingCalls, Re...  0.00196754   0.00139126  \n",
       "13  (TotalRecurringCharge, CallForwardingCalls, Re...  0.00241058   0.00170453  \n",
       "14  (TotalRecurringCharge, CallForwardingCalls, Ac...  0.00254732   0.00180123  \n",
       "15  (TotalRecurringCharge, RoamingCalls, CallForwa...  0.00414049   0.00292777  \n",
       "16  (TotalRecurringCharge, RoamingCalls, PercChang...  0.00375286   0.00265368  \n",
       "17  (MonthlyMinutes, TotalRecurringCharge, Roaming...  0.00146968   0.00103922  \n",
       "18  (MonthlyMinutes, TotalRecurringCharge, Roaming...  0.00827847   0.00585376  \n",
       "19  (MonthlyMinutes, TotalRecurringCharge, Roaming...  0.00803413   0.00568099  \n",
       "20  (MonthlyMinutes, TotalRecurringCharge, Roaming...  0.00888811   0.00628484  \n",
       "21  (MonthlyMinutes, TotalRecurringCharge, Roaming...  0.00959258   0.00678298  \n",
       "22  (MonthlyMinutes, TotalRecurringCharge, Roaming...  0.00599298   0.00423768  \n",
       "23  (MonthlyMinutes, TotalRecurringCharge, Roaming...   0.0117513   0.00830942  \n",
       "24  (MonthlyMinutes, TotalRecurringCharge, Roaming...  0.00573564   0.00405571  \n",
       "25  (MonthlyMinutes, TotalRecurringCharge, Roaming...    0.012092    0.0085503  \n",
       "26  (MonthlyMinutes, TotalRecurringCharge, Overage...   0.0115231   0.00814807  \n",
       "27  (MonthlyMinutes, TotalRecurringCharge, Overage...  0.00846944    0.0059888  \n",
       "28  (MonthlyMinutes, TotalRecurringCharge, Overage...   0.0108441   0.00766796  "
      ]
     },
     "execution_count": 82,
     "metadata": {},
     "output_type": "execute_result"
    }
   ],
   "source": [
    "df"
   ]
  },
  {
   "cell_type": "code",
   "execution_count": 83,
   "metadata": {},
   "outputs": [
    {
     "data": {
      "text/plain": [
       "('MonthlyMinutes',\n",
       " 'TotalRecurringCharge',\n",
       " 'OverageMinutes',\n",
       " 'RoamingCalls',\n",
       " 'PercChangeMinutes',\n",
       " 'PercChangeRevenues',\n",
       " 'DroppedCalls',\n",
       " 'ReceivedCalls',\n",
       " 'OutboundCalls',\n",
       " 'CallForwardingCalls',\n",
       " 'UniqueSubs',\n",
       " 'ActiveSubs',\n",
       " 'CurrentEquipmentDays',\n",
       " 'AgeHH1',\n",
       " 'ReferralsMadeBySubscriber',\n",
       " 'AdjustmentsToCreditRating',\n",
       " 'HandsetRefurbished_Yes',\n",
       " 'HandsetWebCapable_Yes',\n",
       " 'TruckOwner_Yes',\n",
       " 'RVOwner_Yes',\n",
       " 'BuysViaMailOrder_Yes',\n",
       " 'OwnsComputer_Yes',\n",
       " 'HandsetPrice_150',\n",
       " 'CreditRating_3-Good',\n",
       " 'CreditRating_4-Medium',\n",
       " 'CreditRating_5-Low',\n",
       " 'PrizmCode_Town',\n",
       " 'Occupation_Professional')"
      ]
     },
     "execution_count": 83,
     "metadata": {},
     "output_type": "execute_result"
    }
   ],
   "source": [
    "df.iloc[27,4]"
   ]
  },
  {
   "cell_type": "code",
   "execution_count": 84,
   "metadata": {},
   "outputs": [],
   "source": [
    "x_train_sfs=sfs.transform(x_train_filter)\n",
    "x_test_sfs=sfs.transform(x_test_filter)"
   ]
  },
  {
   "cell_type": "code",
   "execution_count": 85,
   "metadata": {},
   "outputs": [
    {
     "data": {
      "text/plain": [
       "((43756, 28), (7291, 28))"
      ]
     },
     "execution_count": 85,
     "metadata": {},
     "output_type": "execute_result"
    }
   ],
   "source": [
    "x_train_sfs.shape,x_test_sfs.shape"
   ]
  },
  {
   "cell_type": "markdown",
   "metadata": {},
   "source": [
    "## Models using Sequential Feature selection"
   ]
  },
  {
   "cell_type": "markdown",
   "metadata": {},
   "source": [
    "### Decision Tree"
   ]
  },
  {
   "cell_type": "code",
   "execution_count": 88,
   "metadata": {},
   "outputs": [],
   "source": [
    "dt=DecisionTreeClassifier()\n",
    "model=dt.fit(x_train_sfs,y_train)\n",
    "pred_dt=dt.predict(x_test_sfs)"
   ]
  },
  {
   "cell_type": "code",
   "execution_count": 89,
   "metadata": {},
   "outputs": [
    {
     "data": {
      "text/plain": [
       "0.544328923102037"
      ]
     },
     "execution_count": 89,
     "metadata": {},
     "output_type": "execute_result"
    }
   ],
   "source": [
    "roc_auc_score(y_test,pred_dt)"
   ]
  },
  {
   "cell_type": "code",
   "execution_count": 90,
   "metadata": {},
   "outputs": [
    {
     "data": {
      "text/plain": [
       "0.643670278425456"
      ]
     },
     "execution_count": 90,
     "metadata": {},
     "output_type": "execute_result"
    }
   ],
   "source": [
    "accuracy_score(y_test,pred_dt)"
   ]
  },
  {
   "cell_type": "code",
   "execution_count": 91,
   "metadata": {},
   "outputs": [
    {
     "data": {
      "text/plain": [
       "array([[4042, 1148],\n",
       "       [1450,  651]], dtype=int64)"
      ]
     },
     "execution_count": 91,
     "metadata": {},
     "output_type": "execute_result"
    }
   ],
   "source": [
    "confusion_matrix(y_test,pred_dt)"
   ]
  },
  {
   "cell_type": "code",
   "execution_count": 92,
   "metadata": {},
   "outputs": [
    {
     "data": {
      "text/plain": [
       "0.30985245121370775"
      ]
     },
     "execution_count": 92,
     "metadata": {},
     "output_type": "execute_result"
    }
   ],
   "source": [
    "recall_score(y_test,pred_dt)"
   ]
  },
  {
   "cell_type": "markdown",
   "metadata": {},
   "source": [
    "### Hypreparameter tuning with Decision Tree"
   ]
  },
  {
   "cell_type": "code",
   "execution_count": 93,
   "metadata": {},
   "outputs": [],
   "source": [
    "params_dt={'criterion':['gini','entropy'],\n",
    "          'max_depth':[2,4,8,10,15,20,],\n",
    "          'min_samples_split':[2,4,6,8,10,12,20],\n",
    "          'min_samples_leaf':[2,4,6,8,10,15,20]}"
   ]
  },
  {
   "cell_type": "code",
   "execution_count": 94,
   "metadata": {},
   "outputs": [
    {
     "name": "stdout",
     "output_type": "stream",
     "text": [
      "Fitting 5 folds for each of 588 candidates, totalling 2940 fits\n"
     ]
    },
    {
     "name": "stderr",
     "output_type": "stream",
     "text": [
      "[Parallel(n_jobs=-1)]: Using backend LokyBackend with 8 concurrent workers.\n",
      "[Parallel(n_jobs=-1)]: Done  34 tasks      | elapsed:    7.8s\n",
      "[Parallel(n_jobs=-1)]: Done 184 tasks      | elapsed:   15.1s\n",
      "[Parallel(n_jobs=-1)]: Done 434 tasks      | elapsed:   33.9s\n",
      "[Parallel(n_jobs=-1)]: Done 784 tasks      | elapsed:  1.3min\n",
      "[Parallel(n_jobs=-1)]: Done 1234 tasks      | elapsed:  2.6min\n",
      "[Parallel(n_jobs=-1)]: Done 1784 tasks      | elapsed:  3.6min\n",
      "[Parallel(n_jobs=-1)]: Done 2434 tasks      | elapsed:  5.0min\n",
      "[Parallel(n_jobs=-1)]: Done 2940 out of 2940 | elapsed:  6.7min finished\n"
     ]
    },
    {
     "data": {
      "text/plain": [
       "DecisionTreeClassifier(class_weight=None, criterion='gini', max_depth=2,\n",
       "                       max_features=None, max_leaf_nodes=None,\n",
       "                       min_impurity_decrease=0.0, min_impurity_split=None,\n",
       "                       min_samples_leaf=2, min_samples_split=2,\n",
       "                       min_weight_fraction_leaf=0.0, presort=False,\n",
       "                       random_state=None, splitter='best')"
      ]
     },
     "execution_count": 94,
     "metadata": {},
     "output_type": "execute_result"
    }
   ],
   "source": [
    "tuned_dt=GridSearchCV(dt,param_grid=params_dt,cv=5,n_jobs=-1,verbose=1,scoring='roc_auc')\n",
    "tuned_dt.fit(x_train_sfs,y_train)\n",
    "tuned_dt.best_estimator_"
   ]
  },
  {
   "cell_type": "code",
   "execution_count": 95,
   "metadata": {},
   "outputs": [
    {
     "data": {
      "text/plain": [
       "{'criterion': 'gini',\n",
       " 'max_depth': 2,\n",
       " 'min_samples_leaf': 2,\n",
       " 'min_samples_split': 2}"
      ]
     },
     "execution_count": 95,
     "metadata": {},
     "output_type": "execute_result"
    }
   ],
   "source": [
    "tuned_dt.best_params_"
   ]
  },
  {
   "cell_type": "code",
   "execution_count": 96,
   "metadata": {},
   "outputs": [],
   "source": [
    "#Tuned Decision tree\n",
    "dt_t=DecisionTreeClassifier(class_weight=None, criterion='gini', max_depth=2,\n",
    "                       max_features=None, max_leaf_nodes=None,\n",
    "                       min_impurity_decrease=0.0, min_impurity_split=None,\n",
    "                       min_samples_leaf=2, min_samples_split=2,\n",
    "                       min_weight_fraction_leaf=0.0, presort=False,\n",
    "                       random_state=None, splitter='best')\n",
    "model=dt_t.fit(x_train_sfs,y_train)\n",
    "pred_dt_t=dt_t.predict(x_test_sfs)"
   ]
  },
  {
   "cell_type": "code",
   "execution_count": 97,
   "metadata": {},
   "outputs": [
    {
     "data": {
      "text/plain": [
       "0.51"
      ]
     },
     "execution_count": 97,
     "metadata": {},
     "output_type": "execute_result"
    }
   ],
   "source": [
    "np.round(roc_auc_score(y_test,pred_dt_t),2)"
   ]
  },
  {
   "cell_type": "code",
   "execution_count": 98,
   "metadata": {},
   "outputs": [
    {
     "data": {
      "text/plain": [
       "0.71"
      ]
     },
     "execution_count": 98,
     "metadata": {},
     "output_type": "execute_result"
    }
   ],
   "source": [
    "np.round(accuracy_score(y_test,pred_dt_t),3)"
   ]
  },
  {
   "cell_type": "code",
   "execution_count": 99,
   "metadata": {},
   "outputs": [
    {
     "name": "stdout",
     "output_type": "stream",
     "text": [
      "AUC: 0.62\n"
     ]
    }
   ],
   "source": [
    "pred_prob_t=dt_t.predict_proba(x_test_sfs)\n",
    "probs_t=pred_prob_t[:,1]\n",
    "auc = roc_auc_score(y_test, probs_t)\n",
    "print('AUC: %.2f' %auc)"
   ]
  },
  {
   "cell_type": "code",
   "execution_count": 100,
   "metadata": {},
   "outputs": [
    {
     "data": {
      "image/png": "[encoded data removed]",
      "text/plain": [
       "<Figure size 432x288 with 1 Axes>"
      ]
     },
     "metadata": {
      "needs_background": "light"
     },
     "output_type": "display_data"
    }
   ],
   "source": [
    "fpr, tpr, thresholds =roc_curve(y_test,probs_t)\n",
    "plt.plot(fpr,tpr, color = 'red', label = 'ROC')\n",
    "plt.plot([0,1],[0,1], color =  'darkblue', linestyle = '--')\n",
    "plt.xlabel('False Positive Rate')\n",
    "plt.ylabel('True Positive Rate')\n",
    "plt.title('Receiver Operating Characterstics (ROC) curve of DecisionTree')\n",
    "plt.legend()\n",
    "plt.show()"
   ]
  },
  {
   "cell_type": "markdown",
   "metadata": {},
   "source": [
    "###  Random Forest"
   ]
  },
  {
   "cell_type": "code",
   "execution_count": 101,
   "metadata": {},
   "outputs": [],
   "source": [
    "rf=RandomForestClassifier(n_estimators=100,random_state=0,n_jobs=-1)\n",
    "model=rf.fit(x_train_sfs,y_train)\n",
    "pred_rf=rf.predict(x_test_sfs)"
   ]
  },
  {
   "cell_type": "code",
   "execution_count": 102,
   "metadata": {},
   "outputs": [
    {
     "name": "stdout",
     "output_type": "stream",
     "text": [
      "[[5017  173]\n",
      " [1946  155]]\n"
     ]
    }
   ],
   "source": [
    "print(confusion_matrix(y_test,pred_rf))"
   ]
  },
  {
   "cell_type": "code",
   "execution_count": 103,
   "metadata": {},
   "outputs": [
    {
     "data": {
      "text/plain": [
       "0.52"
      ]
     },
     "execution_count": 103,
     "metadata": {},
     "output_type": "execute_result"
    }
   ],
   "source": [
    "np.round(roc_auc_score(y_test,pred_rf),2)"
   ]
  },
  {
   "cell_type": "code",
   "execution_count": 104,
   "metadata": {},
   "outputs": [
    {
     "data": {
      "text/plain": [
       "0.71"
      ]
     },
     "execution_count": 104,
     "metadata": {},
     "output_type": "execute_result"
    }
   ],
   "source": [
    "np.round(accuracy_score(y_test,pred_rf),2)"
   ]
  },
  {
   "cell_type": "code",
   "execution_count": 105,
   "metadata": {},
   "outputs": [
    {
     "name": "stdout",
     "output_type": "stream",
     "text": [
      "AUC: 0.65\n"
     ]
    }
   ],
   "source": [
    "pred_prob_rf=rf.predict_proba(x_test_sfs)\n",
    "probs_rf=pred_prob_rf[:,1]\n",
    "auc = roc_auc_score(y_test, probs_rf)\n",
    "print('AUC: %.2f' %auc)"
   ]
  },
  {
   "cell_type": "code",
   "execution_count": 106,
   "metadata": {},
   "outputs": [
    {
     "data": {
      "image/png": "[encoded data removed]",
      "text/plain": [
       "<Figure size 432x288 with 1 Axes>"
      ]
     },
     "metadata": {
      "needs_background": "light"
     },
     "output_type": "display_data"
    }
   ],
   "source": [
    "fpr, tpr, thresholds =roc_curve(y_test,probs_rf)\n",
    "plt.plot(fpr,tpr, color = 'red', label = 'ROC')\n",
    "plt.plot([0,1],[0,1], color =  'darkblue', linestyle = '--')\n",
    "plt.xlabel('False Positive Rate')\n",
    "plt.ylabel('True Positive Rate')\n",
    "plt.title('Receiver Operating Characterstics (ROC) curve of RandomForest')\n",
    "plt.legend()\n",
    "plt.show()"
   ]
  },
  {
   "cell_type": "markdown",
   "metadata": {},
   "source": [
    "### Hyperparameter tuning in Random Forest"
   ]
  },
  {
   "cell_type": "code",
   "execution_count": 107,
   "metadata": {},
   "outputs": [],
   "source": [
    "params={'n_estimators':[20,50,100,150,200,250],\n",
    "       'criterion':['gini','entropy'],\n",
    "       'bootstrap': [True, False],\n",
    "        'max_depth': [10, 20, 30, 40, 50, 60, 70, 80, 90, 100, None],\n",
    " 'max_features': ['auto', 'sqrt'],\n",
    " 'min_samples_leaf': [1, 2, 4],\n",
    " 'min_samples_split': [2, 5, 10]}"
   ]
  },
  {
   "cell_type": "code",
   "execution_count": 108,
   "metadata": {},
   "outputs": [
    {
     "name": "stdout",
     "output_type": "stream",
     "text": [
      "Fitting 5 folds for each of 10 candidates, totalling 50 fits\n"
     ]
    },
    {
     "name": "stderr",
     "output_type": "stream",
     "text": [
      "[Parallel(n_jobs=-1)]: Using backend LokyBackend with 8 concurrent workers.\n",
      "[Parallel(n_jobs=-1)]: Done  16 tasks      | elapsed:  1.2min\n",
      "[Parallel(n_jobs=-1)]: Done  50 out of  50 | elapsed:  4.6min finished\n"
     ]
    },
    {
     "data": {
      "text/plain": [
       "{'n_estimators': 250,\n",
       " 'min_samples_split': 5,\n",
       " 'min_samples_leaf': 4,\n",
       " 'max_features': 'sqrt',\n",
       " 'max_depth': 20,\n",
       " 'criterion': 'gini',\n",
       " 'bootstrap': False}"
      ]
     },
     "execution_count": 108,
     "metadata": {},
     "output_type": "execute_result"
    }
   ],
   "source": [
    "tune=RandomizedSearchCV(rf,param_distributions=params,scoring='roc_auc',n_jobs=-1,cv=5,verbose=3)\n",
    "tune.fit(x_train_sfs,y_train)\n",
    "tune.best_params_"
   ]
  },
  {
   "cell_type": "code",
   "execution_count": 109,
   "metadata": {},
   "outputs": [
    {
     "data": {
      "text/plain": [
       "{'n_estimators': 250,\n",
       " 'min_samples_split': 5,\n",
       " 'min_samples_leaf': 4,\n",
       " 'max_features': 'sqrt',\n",
       " 'max_depth': 20,\n",
       " 'criterion': 'gini',\n",
       " 'bootstrap': False}"
      ]
     },
     "execution_count": 109,
     "metadata": {},
     "output_type": "execute_result"
    }
   ],
   "source": [
    "tune.best_params_"
   ]
  },
  {
   "cell_type": "code",
   "execution_count": 110,
   "metadata": {},
   "outputs": [],
   "source": [
    "#Tuned RandomForest\n",
    "rf_t=RandomForestClassifier(n_estimators=250,min_samples_split=10,min_samples_leaf=4,max_features='sqrt',\n",
    "                            max_depth=70,criterion='gini',bootstrap=True)\n",
    "model=rf_t.fit(x_train_sfs,y_train)\n",
    "pred_rf_t=rf_t.predict(x_test_sfs)"
   ]
  },
  {
   "cell_type": "code",
   "execution_count": 111,
   "metadata": {},
   "outputs": [
    {
     "data": {
      "text/plain": [
       "0.5144865872659959"
      ]
     },
     "execution_count": 111,
     "metadata": {},
     "output_type": "execute_result"
    }
   ],
   "source": [
    "roc_auc_score(y_test,pred_rf_t)"
   ]
  },
  {
   "cell_type": "code",
   "execution_count": 112,
   "metadata": {},
   "outputs": [
    {
     "data": {
      "text/plain": [
       "0.7078590042518174"
      ]
     },
     "execution_count": 112,
     "metadata": {},
     "output_type": "execute_result"
    }
   ],
   "source": [
    "accuracy_score(y_test,pred_rf_t)"
   ]
  },
  {
   "cell_type": "markdown",
   "metadata": {},
   "source": [
    "### Gradient Boosting"
   ]
  },
  {
   "cell_type": "code",
   "execution_count": 113,
   "metadata": {},
   "outputs": [],
   "source": [
    "gbm=GradientBoostingClassifier(random_state=0)\n",
    "model=gbm.fit(x_train_sfs,y_train)\n",
    "pred_gbm=gbm.predict(x_test_sfs)"
   ]
  },
  {
   "cell_type": "code",
   "execution_count": 114,
   "metadata": {},
   "outputs": [
    {
     "name": "stdout",
     "output_type": "stream",
     "text": [
      "[[5035  155]\n",
      " [2005   96]]\n"
     ]
    }
   ],
   "source": [
    "print(confusion_matrix(y_test,pred_gbm))"
   ]
  },
  {
   "cell_type": "code",
   "execution_count": 115,
   "metadata": {},
   "outputs": [
    {
     "data": {
      "text/plain": [
       "0.51"
      ]
     },
     "execution_count": 115,
     "metadata": {},
     "output_type": "execute_result"
    }
   ],
   "source": [
    "np.round(roc_auc_score(y_test,pred_gbm),2)"
   ]
  },
  {
   "cell_type": "code",
   "execution_count": 116,
   "metadata": {},
   "outputs": [
    {
     "data": {
      "text/plain": [
       "0.7"
      ]
     },
     "execution_count": 116,
     "metadata": {},
     "output_type": "execute_result"
    }
   ],
   "source": [
    "np.round(accuracy_score(y_test,pred_gbm),2)"
   ]
  },
  {
   "cell_type": "code",
   "execution_count": 117,
   "metadata": {},
   "outputs": [
    {
     "name": "stdout",
     "output_type": "stream",
     "text": [
      "AUC: 0.68\n"
     ]
    }
   ],
   "source": [
    "pred_prob_gbm=gbm.predict_proba(x_test_sfs)\n",
    "probs_gbm=pred_prob_gbm[:,1]\n",
    "auc = roc_auc_score(y_test, probs_gbm)\n",
    "print('AUC: %.2f' %auc)"
   ]
  },
  {
   "cell_type": "code",
   "execution_count": 118,
   "metadata": {},
   "outputs": [
    {
     "data": {
      "image/png": "[encoded data removed]",
      "text/plain": [
       "<Figure size 432x288 with 1 Axes>"
      ]
     },
     "metadata": {
      "needs_background": "light"
     },
     "output_type": "display_data"
    }
   ],
   "source": [
    "fpr, tpr, thresholds =roc_curve(y_test,probs_gbm)\n",
    "plt.plot(fpr,tpr, color = 'red', label = 'ROC')\n",
    "plt.plot([0,1],[0,1], color =  'darkblue', linestyle = '--')\n",
    "plt.xlabel('False Positive Rate')\n",
    "plt.ylabel('True Positive Rate')\n",
    "plt.title('Receiver Operating Characterstics (ROC) curve of GradientBoosting')\n",
    "plt.legend()\n",
    "plt.show()"
   ]
  },
  {
   "cell_type": "markdown",
   "metadata": {},
   "source": [
    "### XgBoost"
   ]
  },
  {
   "cell_type": "code",
   "execution_count": 119,
   "metadata": {},
   "outputs": [],
   "source": [
    "xgb=xgboost.XGBClassifier()\n",
    "model=xgb.fit(x_train_sfs,y_train)\n",
    "pred_xgb=xgb.predict(x_test_sfs)"
   ]
  },
  {
   "cell_type": "code",
   "execution_count": 120,
   "metadata": {},
   "outputs": [
    {
     "data": {
      "text/plain": [
       "0.5043382406212658"
      ]
     },
     "execution_count": 120,
     "metadata": {},
     "output_type": "execute_result"
    }
   ],
   "source": [
    "roc_auc_score(y_test,pred_xgb)"
   ]
  },
  {
   "cell_type": "markdown",
   "metadata": {},
   "source": [
    "### Hyperparameter tuning for XgBoost"
   ]
  },
  {
   "cell_type": "code",
   "execution_count": 121,
   "metadata": {},
   "outputs": [],
   "source": [
    "params_xgb={\n",
    " \"learning_rate\"    : [0.05, 0.10, 0.15, 0.20, 0.25, 0.30 ] ,\n",
    " \"max_depth\"        : [ 3, 4, 5, 6, 8, 10, 12, 15],\n",
    " \"min_child_weight\" : [ 1, 3, 5, 7 ],\n",
    " \"gamma\"            : [ 0.0, 0.1, 0.2 , 0.3, 0.4 ],\n",
    " \"colsample_bytree\" : [ 0.3, 0.4, 0.5 , 0.7,0.8,0.6 ],\n",
    "    'n_estimators' :[100,150,200,250,500,1000,1200],\n",
    "    \n",
    "}"
   ]
  },
  {
   "cell_type": "code",
   "execution_count": 122,
   "metadata": {},
   "outputs": [
    {
     "name": "stdout",
     "output_type": "stream",
     "text": [
      "Fitting 5 folds for each of 5 candidates, totalling 25 fits\n"
     ]
    },
    {
     "name": "stderr",
     "output_type": "stream",
     "text": [
      "[Parallel(n_jobs=-1)]: Using backend LokyBackend with 8 concurrent workers.\n",
      "[Parallel(n_jobs=-1)]: Done  19 out of  25 | elapsed:  1.9min remaining:   35.8s\n",
      "[Parallel(n_jobs=-1)]: Done  25 out of  25 | elapsed:  4.2min finished\n"
     ]
    },
    {
     "data": {
      "text/plain": [
       "{'n_estimators': 150,\n",
       " 'min_child_weight': 7,\n",
       " 'max_depth': 6,\n",
       " 'learning_rate': 0.1,\n",
       " 'gamma': 0.4,\n",
       " 'colsample_bytree': 0.5}"
      ]
     },
     "execution_count": 122,
     "metadata": {},
     "output_type": "execute_result"
    }
   ],
   "source": [
    "tuned=RandomizedSearchCV(xgb,param_distributions=params_xgb,n_iter=5,scoring='roc_auc',n_jobs=-1,cv=5,verbose=3)\n",
    "tuned.fit(x_train_sfs,y_train)\n",
    "tuned.best_params_"
   ]
  },
  {
   "cell_type": "code",
   "execution_count": 123,
   "metadata": {},
   "outputs": [
    {
     "data": {
      "text/plain": [
       "XGBClassifier(base_score=0.5, booster='gbtree', colsample_bylevel=1,\n",
       "              colsample_bynode=1, colsample_bytree=0.5, gamma=0.4,\n",
       "              learning_rate=0.1, max_delta_step=0, max_depth=6,\n",
       "              min_child_weight=7, missing=None, n_estimators=150, n_jobs=1,\n",
       "              nthread=None, objective='binary:logistic', random_state=0,\n",
       "              reg_alpha=0, reg_lambda=1, scale_pos_weight=1, seed=None,\n",
       "              silent=None, subsample=1, verbosity=1)"
      ]
     },
     "execution_count": 123,
     "metadata": {},
     "output_type": "execute_result"
    }
   ],
   "source": [
    "tuned.best_estimator_"
   ]
  },
  {
   "cell_type": "code",
   "execution_count": 124,
   "metadata": {},
   "outputs": [],
   "source": [
    "#Tuned XgBoost\n",
    "xgb_t=xgboost.XGBClassifier(base_score=0.5, booster='gbtree', colsample_bylevel=1,\n",
    "              colsample_bynode=1, colsample_bytree=0.7, gamma=0.0,\n",
    "              learning_rate=0.05, max_delta_step=0, max_depth=5,\n",
    "              min_child_weight=3, missing=None, n_estimators=500, n_jobs=1,\n",
    "              nthread=None, objective='binary:logistic', random_state=0,\n",
    "              reg_alpha=0, reg_lambda=1, scale_pos_weight=1, seed=None,\n",
    "              silent=None, subsample=1, verbosity=1)\n",
    "model=xgb_t.fit(x_train_sfs,y_train)\n",
    "pred_xgb_t=xgb_t.predict(x_test_sfs)"
   ]
  },
  {
   "cell_type": "code",
   "execution_count": 125,
   "metadata": {},
   "outputs": [
    {
     "data": {
      "text/plain": [
       "0.52"
      ]
     },
     "execution_count": 125,
     "metadata": {},
     "output_type": "execute_result"
    }
   ],
   "source": [
    "np.round(roc_auc_score(y_test,pred_xgb_t),2)"
   ]
  },
  {
   "cell_type": "code",
   "execution_count": 126,
   "metadata": {},
   "outputs": [
    {
     "data": {
      "text/plain": [
       "0.71"
      ]
     },
     "execution_count": 126,
     "metadata": {},
     "output_type": "execute_result"
    }
   ],
   "source": [
    "np.round(accuracy_score(y_test,pred_xgb_t),2)"
   ]
  },
  {
   "cell_type": "code",
   "execution_count": 127,
   "metadata": {},
   "outputs": [
    {
     "name": "stdout",
     "output_type": "stream",
     "text": [
      "AUC: 0.67\n"
     ]
    }
   ],
   "source": [
    "pred_prob_xgb=xgb_t.predict_proba(x_test_sfs)\n",
    "probs_xgb=pred_prob_xgb[:,1]\n",
    "auc = roc_auc_score(y_test, probs_xgb)\n",
    "print('AUC: %.2f' %auc)"
   ]
  },
  {
   "cell_type": "code",
   "execution_count": 128,
   "metadata": {},
   "outputs": [
    {
     "data": {
      "image/png": "[encoded data removed]",
      "text/plain": [
       "<Figure size 432x288 with 1 Axes>"
      ]
     },
     "metadata": {
      "needs_background": "light"
     },
     "output_type": "display_data"
    }
   ],
   "source": [
    "fpr, tpr, thresholds =roc_curve(y_test,probs_xgb)\n",
    "plt.plot(fpr,tpr, color = 'red', label = 'ROC')\n",
    "plt.plot([0,1],[0,1], color =  'darkblue', linestyle = '--')\n",
    "plt.xlabel('False Positive Rate')\n",
    "plt.ylabel('True Positive Rate')\n",
    "plt.title('Receiver Operating Characterstics (ROC) curve of XgBoost')\n",
    "plt.legend()\n",
    "plt.show()"
   ]
  },
  {
   "cell_type": "code",
   "execution_count": 129,
   "metadata": {},
   "outputs": [],
   "source": [
    "pickle.dump(xgb_t,open('model.pkl','wb'))"
   ]
  },
  {
   "cell_type": "code",
   "execution_count": 130,
   "metadata": {},
   "outputs": [],
   "source": [
    "model=pickle.load(open('model.pkl','rb'))"
   ]
  },
  {
   "cell_type": "code",
   "execution_count": 131,
   "metadata": {},
   "outputs": [
    {
     "data": {
      "text/plain": [
       "XGBClassifier(base_score=0.5, booster='gbtree', colsample_bylevel=1,\n",
       "              colsample_bynode=1, colsample_bytree=0.7, gamma=0.0,\n",
       "              learning_rate=0.05, max_delta_step=0, max_depth=5,\n",
       "              min_child_weight=3, missing=nan, n_estimators=500, n_jobs=1,\n",
       "              nthread=None, objective='binary:logistic', random_state=0,\n",
       "              reg_alpha=0, reg_lambda=1, scale_pos_weight=1, seed=None,\n",
       "              silent=None, subsample=1, verbosity=1)"
      ]
     },
     "execution_count": 131,
     "metadata": {},
     "output_type": "execute_result"
    }
   ],
   "source": [
    "model"
   ]
  },
  {
   "cell_type": "code",
   "execution_count": null,
   "metadata": {},
   "outputs": [],
   "source": []
  }
 ],
 "metadata": {
  "kernelspec": {
   "display_name": "Python 3",
   "language": "python",
   "name": "python3"
  },
  "language_info": {
   "codemirror_mode": {
    "name": "ipython",
    "version": 3
   },
   "file_extension": ".py",
   "mimetype": "text/x-python",
   "name": "python",
   "nbconvert_exporter": "python",
   "pygments_lexer": "ipython3",
   "version": "3.7.3"
  }
 },
 "nbformat": 4,
 "nbformat_minor": 2
}
